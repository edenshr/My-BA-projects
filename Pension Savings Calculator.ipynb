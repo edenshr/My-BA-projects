{
 "cells": [
  {
   "cell_type": "code",
   "execution_count": 1,
   "metadata": {},
   "outputs": [],
   "source": [
    "\"\"\"\n",
    "Pension Model - Eden Shrian\n",
    "\"\"\"\n",
    "\n",
    "import pandas as pd\n",
    "import numpy as np\n",
    "from matplotlib import pyplot as plt"
   ]
  },
  {
   "cell_type": "code",
   "execution_count": 2,
   "metadata": {},
   "outputs": [],
   "source": [
    "#Assumptions\n",
    "raise_in_wage = 1.0124\n",
    "yield_from_savings = 1.031\n",
    "pension_rate = 0.185\n",
    "interest_rate = 1.021\n",
    "avg_age_death_women = 84\n",
    "initial_age = 25\n",
    "inflation = 1.01\n",
    "\n",
    "\n",
    "\n",
    "def calc_monthly_effect(rate):\n",
    "        return rate ** (1/12)\n",
    "    \n",
    "class pension:\n",
    "    \n",
    "    \"\"\"Calculator of pension savings\"\"\"\n",
    "    pass\n",
    "\n",
    "    def __init__(self,wage,num_of_years):\n",
    "        \n",
    "        self.wage = wage\n",
    "        self.interest_rate = 0\n",
    "        self.pension_saving = 0\n",
    "        self.num_of_years = num_of_years\n",
    "\n",
    "    def calc_pension_table(self): \n",
    "            \n",
    "        if type(self.wage) == str:\n",
    "            raise ValueError('Wage expects to get positive int instead of string')\n",
    "        elif self.wage < 0:\n",
    "            raise ValueError('Wage expects Non negative integers')\n",
    "        else:\n",
    "            self.wage = [self.wage*calc_monthly_effect(raise_in_wage)**i*calc_monthly_effect(inflation)**i for i in range(self.num_of_years*12)]\n",
    "            self.interest_rate = [1/(calc_monthly_effect(interest_rate))**i for i in range(self.num_of_years*12)]\n",
    "        \n",
    "            dictionary = dict({\n",
    "                'Wage': self.wage,\n",
    "                'Interest_rate': self.interest_rate,\n",
    "            })\n",
    "\n",
    "            df = pd.DataFrame.from_dict(dictionary)\n",
    "            df['Pension Saving'] = df['Wage']*pension_rate\n",
    "            \n",
    "            self.pension_saving = df['Pension Saving'].tolist()\n",
    "\n",
    "            return df\n",
    "    \n",
    "    def calc_cumulative_provisions(self):\n",
    "        return round(sum(self.pension_saving),2)\n",
    "    \n",
    "    def calc_income_for_retirenment(self):\n",
    "        \n",
    "        age_of_retirenement = initial_age +  self.num_of_years\n",
    "        average_time_to_live = avg_age_death_women - age_of_retirenement\n",
    "        average_time_to_live = average_time_to_live*12\n",
    "        \n",
    "        return round(sum(self.pension_saving)/average_time_to_live,2)"
   ]
  },
  {
   "cell_type": "code",
   "execution_count": 3,
   "metadata": {},
   "outputs": [],
   "source": [
    "low = pension(4000,42)\n",
    "avg = pension(7000,42)\n",
    "high = pension(10000,42)"
   ]
  },
  {
   "cell_type": "code",
   "execution_count": 4,
   "metadata": {},
   "outputs": [
    {
     "data": {
      "text/html": [
       "<div>\n",
       "<style scoped>\n",
       "    .dataframe tbody tr th:only-of-type {\n",
       "        vertical-align: middle;\n",
       "    }\n",
       "\n",
       "    .dataframe tbody tr th {\n",
       "        vertical-align: top;\n",
       "    }\n",
       "\n",
       "    .dataframe thead th {\n",
       "        text-align: right;\n",
       "    }\n",
       "</style>\n",
       "<table border=\"1\" class=\"dataframe\">\n",
       "  <thead>\n",
       "    <tr style=\"text-align: right;\">\n",
       "      <th></th>\n",
       "      <th>Wage</th>\n",
       "      <th>Interest_rate</th>\n",
       "      <th>Pension Saving</th>\n",
       "    </tr>\n",
       "  </thead>\n",
       "  <tbody>\n",
       "    <tr>\n",
       "      <th>0</th>\n",
       "      <td>4000.000000</td>\n",
       "      <td>1.000000</td>\n",
       "      <td>740.000000</td>\n",
       "    </tr>\n",
       "    <tr>\n",
       "      <th>1</th>\n",
       "      <td>4007.431589</td>\n",
       "      <td>0.998270</td>\n",
       "      <td>741.374844</td>\n",
       "    </tr>\n",
       "    <tr>\n",
       "      <th>2</th>\n",
       "      <td>4014.876984</td>\n",
       "      <td>0.996542</td>\n",
       "      <td>742.752242</td>\n",
       "    </tr>\n",
       "    <tr>\n",
       "      <th>3</th>\n",
       "      <td>4022.336213</td>\n",
       "      <td>0.994818</td>\n",
       "      <td>744.132199</td>\n",
       "    </tr>\n",
       "    <tr>\n",
       "      <th>4</th>\n",
       "      <td>4029.809300</td>\n",
       "      <td>0.993096</td>\n",
       "      <td>745.514720</td>\n",
       "    </tr>\n",
       "    <tr>\n",
       "      <th>...</th>\n",
       "      <td>...</td>\n",
       "      <td>...</td>\n",
       "      <td>...</td>\n",
       "    </tr>\n",
       "    <tr>\n",
       "      <th>499</th>\n",
       "      <td>10099.893477</td>\n",
       "      <td>0.421385</td>\n",
       "      <td>1868.480293</td>\n",
       "    </tr>\n",
       "    <tr>\n",
       "      <th>500</th>\n",
       "      <td>10118.658040</td>\n",
       "      <td>0.420656</td>\n",
       "      <td>1871.951737</td>\n",
       "    </tr>\n",
       "    <tr>\n",
       "      <th>501</th>\n",
       "      <td>10137.457466</td>\n",
       "      <td>0.419928</td>\n",
       "      <td>1875.429631</td>\n",
       "    </tr>\n",
       "    <tr>\n",
       "      <th>502</th>\n",
       "      <td>10156.291819</td>\n",
       "      <td>0.419202</td>\n",
       "      <td>1878.913987</td>\n",
       "    </tr>\n",
       "    <tr>\n",
       "      <th>503</th>\n",
       "      <td>10175.161165</td>\n",
       "      <td>0.418476</td>\n",
       "      <td>1882.404816</td>\n",
       "    </tr>\n",
       "  </tbody>\n",
       "</table>\n",
       "<p>504 rows × 3 columns</p>\n",
       "</div>"
      ],
      "text/plain": [
       "             Wage  Interest_rate  Pension Saving\n",
       "0     4000.000000       1.000000      740.000000\n",
       "1     4007.431589       0.998270      741.374844\n",
       "2     4014.876984       0.996542      742.752242\n",
       "3     4022.336213       0.994818      744.132199\n",
       "4     4029.809300       0.993096      745.514720\n",
       "..            ...            ...             ...\n",
       "499  10099.893477       0.421385     1868.480293\n",
       "500  10118.658040       0.420656     1871.951737\n",
       "501  10137.457466       0.419928     1875.429631\n",
       "502  10156.291819       0.419202     1878.913987\n",
       "503  10175.161165       0.418476     1882.404816\n",
       "\n",
       "[504 rows x 3 columns]"
      ]
     },
     "execution_count": 4,
     "metadata": {},
     "output_type": "execute_result"
    }
   ],
   "source": [
    "low.calc_pension_table()"
   ]
  },
  {
   "cell_type": "code",
   "execution_count": 5,
   "metadata": {},
   "outputs": [
    {
     "data": {
      "text/html": [
       "<div>\n",
       "<style scoped>\n",
       "    .dataframe tbody tr th:only-of-type {\n",
       "        vertical-align: middle;\n",
       "    }\n",
       "\n",
       "    .dataframe tbody tr th {\n",
       "        vertical-align: top;\n",
       "    }\n",
       "\n",
       "    .dataframe thead th {\n",
       "        text-align: right;\n",
       "    }\n",
       "</style>\n",
       "<table border=\"1\" class=\"dataframe\">\n",
       "  <thead>\n",
       "    <tr style=\"text-align: right;\">\n",
       "      <th></th>\n",
       "      <th>Wage</th>\n",
       "      <th>Interest_rate</th>\n",
       "      <th>Pension Saving</th>\n",
       "    </tr>\n",
       "  </thead>\n",
       "  <tbody>\n",
       "    <tr>\n",
       "      <th>0</th>\n",
       "      <td>7000.000000</td>\n",
       "      <td>1.000000</td>\n",
       "      <td>1295.000000</td>\n",
       "    </tr>\n",
       "    <tr>\n",
       "      <th>1</th>\n",
       "      <td>7013.005280</td>\n",
       "      <td>0.998270</td>\n",
       "      <td>1297.405977</td>\n",
       "    </tr>\n",
       "    <tr>\n",
       "      <th>2</th>\n",
       "      <td>7026.034722</td>\n",
       "      <td>0.996542</td>\n",
       "      <td>1299.816424</td>\n",
       "    </tr>\n",
       "    <tr>\n",
       "      <th>3</th>\n",
       "      <td>7039.088372</td>\n",
       "      <td>0.994818</td>\n",
       "      <td>1302.231349</td>\n",
       "    </tr>\n",
       "    <tr>\n",
       "      <th>4</th>\n",
       "      <td>7052.166274</td>\n",
       "      <td>0.993096</td>\n",
       "      <td>1304.650761</td>\n",
       "    </tr>\n",
       "    <tr>\n",
       "      <th>...</th>\n",
       "      <td>...</td>\n",
       "      <td>...</td>\n",
       "      <td>...</td>\n",
       "    </tr>\n",
       "    <tr>\n",
       "      <th>499</th>\n",
       "      <td>17674.813585</td>\n",
       "      <td>0.421385</td>\n",
       "      <td>3269.840513</td>\n",
       "    </tr>\n",
       "    <tr>\n",
       "      <th>500</th>\n",
       "      <td>17707.651571</td>\n",
       "      <td>0.420656</td>\n",
       "      <td>3275.915541</td>\n",
       "    </tr>\n",
       "    <tr>\n",
       "      <th>501</th>\n",
       "      <td>17740.550566</td>\n",
       "      <td>0.419928</td>\n",
       "      <td>3282.001855</td>\n",
       "    </tr>\n",
       "    <tr>\n",
       "      <th>502</th>\n",
       "      <td>17773.510684</td>\n",
       "      <td>0.419202</td>\n",
       "      <td>3288.099477</td>\n",
       "    </tr>\n",
       "    <tr>\n",
       "      <th>503</th>\n",
       "      <td>17806.532039</td>\n",
       "      <td>0.418476</td>\n",
       "      <td>3294.208427</td>\n",
       "    </tr>\n",
       "  </tbody>\n",
       "</table>\n",
       "<p>504 rows × 3 columns</p>\n",
       "</div>"
      ],
      "text/plain": [
       "             Wage  Interest_rate  Pension Saving\n",
       "0     7000.000000       1.000000     1295.000000\n",
       "1     7013.005280       0.998270     1297.405977\n",
       "2     7026.034722       0.996542     1299.816424\n",
       "3     7039.088372       0.994818     1302.231349\n",
       "4     7052.166274       0.993096     1304.650761\n",
       "..            ...            ...             ...\n",
       "499  17674.813585       0.421385     3269.840513\n",
       "500  17707.651571       0.420656     3275.915541\n",
       "501  17740.550566       0.419928     3282.001855\n",
       "502  17773.510684       0.419202     3288.099477\n",
       "503  17806.532039       0.418476     3294.208427\n",
       "\n",
       "[504 rows x 3 columns]"
      ]
     },
     "execution_count": 5,
     "metadata": {},
     "output_type": "execute_result"
    }
   ],
   "source": [
    "avg.calc_pension_table()"
   ]
  },
  {
   "cell_type": "code",
   "execution_count": 6,
   "metadata": {},
   "outputs": [
    {
     "data": {
      "text/html": [
       "<div>\n",
       "<style scoped>\n",
       "    .dataframe tbody tr th:only-of-type {\n",
       "        vertical-align: middle;\n",
       "    }\n",
       "\n",
       "    .dataframe tbody tr th {\n",
       "        vertical-align: top;\n",
       "    }\n",
       "\n",
       "    .dataframe thead th {\n",
       "        text-align: right;\n",
       "    }\n",
       "</style>\n",
       "<table border=\"1\" class=\"dataframe\">\n",
       "  <thead>\n",
       "    <tr style=\"text-align: right;\">\n",
       "      <th></th>\n",
       "      <th>Wage</th>\n",
       "      <th>Interest_rate</th>\n",
       "      <th>Pension Saving</th>\n",
       "    </tr>\n",
       "  </thead>\n",
       "  <tbody>\n",
       "    <tr>\n",
       "      <th>0</th>\n",
       "      <td>10000.000000</td>\n",
       "      <td>1.000000</td>\n",
       "      <td>1850.000000</td>\n",
       "    </tr>\n",
       "    <tr>\n",
       "      <th>1</th>\n",
       "      <td>10018.578971</td>\n",
       "      <td>0.998270</td>\n",
       "      <td>1853.437110</td>\n",
       "    </tr>\n",
       "    <tr>\n",
       "      <th>2</th>\n",
       "      <td>10037.192461</td>\n",
       "      <td>0.996542</td>\n",
       "      <td>1856.880605</td>\n",
       "    </tr>\n",
       "    <tr>\n",
       "      <th>3</th>\n",
       "      <td>10055.840532</td>\n",
       "      <td>0.994818</td>\n",
       "      <td>1860.330498</td>\n",
       "    </tr>\n",
       "    <tr>\n",
       "      <th>4</th>\n",
       "      <td>10074.523249</td>\n",
       "      <td>0.993096</td>\n",
       "      <td>1863.786801</td>\n",
       "    </tr>\n",
       "    <tr>\n",
       "      <th>...</th>\n",
       "      <td>...</td>\n",
       "      <td>...</td>\n",
       "      <td>...</td>\n",
       "    </tr>\n",
       "    <tr>\n",
       "      <th>499</th>\n",
       "      <td>25249.733693</td>\n",
       "      <td>0.421385</td>\n",
       "      <td>4671.200733</td>\n",
       "    </tr>\n",
       "    <tr>\n",
       "      <th>500</th>\n",
       "      <td>25296.645101</td>\n",
       "      <td>0.420656</td>\n",
       "      <td>4679.879344</td>\n",
       "    </tr>\n",
       "    <tr>\n",
       "      <th>501</th>\n",
       "      <td>25343.643666</td>\n",
       "      <td>0.419928</td>\n",
       "      <td>4688.574078</td>\n",
       "    </tr>\n",
       "    <tr>\n",
       "      <th>502</th>\n",
       "      <td>25390.729549</td>\n",
       "      <td>0.419202</td>\n",
       "      <td>4697.284966</td>\n",
       "    </tr>\n",
       "    <tr>\n",
       "      <th>503</th>\n",
       "      <td>25437.902912</td>\n",
       "      <td>0.418476</td>\n",
       "      <td>4706.012039</td>\n",
       "    </tr>\n",
       "  </tbody>\n",
       "</table>\n",
       "<p>504 rows × 3 columns</p>\n",
       "</div>"
      ],
      "text/plain": [
       "             Wage  Interest_rate  Pension Saving\n",
       "0    10000.000000       1.000000     1850.000000\n",
       "1    10018.578971       0.998270     1853.437110\n",
       "2    10037.192461       0.996542     1856.880605\n",
       "3    10055.840532       0.994818     1860.330498\n",
       "4    10074.523249       0.993096     1863.786801\n",
       "..            ...            ...             ...\n",
       "499  25249.733693       0.421385     4671.200733\n",
       "500  25296.645101       0.420656     4679.879344\n",
       "501  25343.643666       0.419928     4688.574078\n",
       "502  25390.729549       0.419202     4697.284966\n",
       "503  25437.902912       0.418476     4706.012039\n",
       "\n",
       "[504 rows x 3 columns]"
      ]
     },
     "execution_count": 6,
     "metadata": {},
     "output_type": "execute_result"
    }
   ],
   "source": [
    "high.calc_pension_table()"
   ]
  },
  {
   "cell_type": "code",
   "execution_count": 7,
   "metadata": {},
   "outputs": [
    {
     "data": {
      "text/plain": [
       "616773.72"
      ]
     },
     "execution_count": 7,
     "metadata": {},
     "output_type": "execute_result"
    }
   ],
   "source": [
    "low.calc_cumulative_provisions()"
   ]
  },
  {
   "cell_type": "code",
   "execution_count": 8,
   "metadata": {},
   "outputs": [
    {
     "data": {
      "text/plain": [
       "3023.4"
      ]
     },
     "execution_count": 8,
     "metadata": {},
     "output_type": "execute_result"
    }
   ],
   "source": [
    "low.calc_income_for_retirenment()"
   ]
  },
  {
   "cell_type": "code",
   "execution_count": 9,
   "metadata": {},
   "outputs": [
    {
     "data": {
      "text/plain": [
       "1079354.01"
      ]
     },
     "execution_count": 9,
     "metadata": {},
     "output_type": "execute_result"
    }
   ],
   "source": [
    "avg.calc_cumulative_provisions()"
   ]
  },
  {
   "cell_type": "code",
   "execution_count": 10,
   "metadata": {},
   "outputs": [
    {
     "data": {
      "text/plain": [
       "5290.95"
      ]
     },
     "execution_count": 10,
     "metadata": {},
     "output_type": "execute_result"
    }
   ],
   "source": [
    "avg.calc_income_for_retirenment()"
   ]
  },
  {
   "cell_type": "code",
   "execution_count": 11,
   "metadata": {},
   "outputs": [
    {
     "data": {
      "text/plain": [
       "1541934.3"
      ]
     },
     "execution_count": 11,
     "metadata": {},
     "output_type": "execute_result"
    }
   ],
   "source": [
    "high.calc_cumulative_provisions()"
   ]
  },
  {
   "cell_type": "code",
   "execution_count": 12,
   "metadata": {},
   "outputs": [
    {
     "data": {
      "text/plain": [
       "7558.5"
      ]
     },
     "execution_count": 12,
     "metadata": {},
     "output_type": "execute_result"
    }
   ],
   "source": [
    "high.calc_income_for_retirenment()"
   ]
  },
  {
   "cell_type": "code",
   "execution_count": null,
   "metadata": {},
   "outputs": [],
   "source": []
  }
 ],
 "metadata": {
  "kernelspec": {
   "display_name": "Python 3",
   "language": "python",
   "name": "python3"
  },
  "language_info": {
   "codemirror_mode": {
    "name": "ipython",
    "version": 3
   },
   "file_extension": ".py",
   "mimetype": "text/x-python",
   "name": "python",
   "nbconvert_exporter": "python",
   "pygments_lexer": "ipython3",
   "version": "3.7.6"
  }
 },
 "nbformat": 4,
 "nbformat_minor": 4
}
