{
 "cells": [
  {
   "cell_type": "code",
   "execution_count": 14,
   "metadata": {},
   "outputs": [],
   "source": [
    "\"\"\"\n",
    "Pension Model - Eden Shrian\n",
    "\"\"\"\n",
    "\n",
    "import pandas as pd\n",
    "import numpy as np\n",
    "from matplotlib import pyplot as plt"
   ]
  },
  {
   "cell_type": "code",
   "execution_count": 36,
   "metadata": {},
   "outputs": [],
   "source": [
    "raise_in_wage = 1.0124\n",
    "yield_from_savings = 1.031\n",
    "pension_rate = 0.185\n",
    "interest_rate = 1.021\n",
    "avg_age_death_women = 84\n",
    "initial_age = 25\n",
    "inflation = 1.01\n",
    "\n",
    "\n",
    "\n",
    "def calc_monthly_effect(rate):\n",
    "        return rate ** (1/12)\n",
    "    \n",
    "class pension:\n",
    "    \n",
    "    pass\n",
    "\n",
    "    def __init__(self,wage,num_of_years):\n",
    "        \n",
    "        self.wage = wage\n",
    "        self.interest_rate = 0\n",
    "        self.pension_saving = 0\n",
    "        self.num_of_years = num_of_years\n",
    "\n",
    "    def create_dataframe(self): \n",
    "        \n",
    "        \n",
    "        if type(self.wage) == str:\n",
    "            raise ValueError('Wage expects to get positive int instead of string')\n",
    "        elif self.wage < 0:\n",
    "            raise ValueError('Wage expects Non negative integers')\n",
    "        else:\n",
    "            self.wage = [self.wage*calc_monthly_effect(raise_in_wage)**i*calc_monthly_effect(inflation)**i for i in range(self.num_of_years*12)]\n",
    "            self.interest_rate = [1/(calc_monthly_effect(interest_rate))**i for i in range(self.num_of_years*12)]\n",
    "        \n",
    "            dictionary = dict({\n",
    "                'Wage': self.wage,\n",
    "                'Interest_rate': self.interest_rate,\n",
    "            })\n",
    "\n",
    "            df = pd.DataFrame.from_dict(dictionary)\n",
    "            df['Pension Saving'] = df['Wage']*pension_rate\n",
    "            \n",
    "            self.pension_saving = df['Pension Saving'].tolist()\n",
    "\n",
    "            return df\n",
    "    \n",
    "    def calc_cumulative_provisions(self):\n",
    "        return round(sum(self.pension_saving),2)\n",
    "    \n",
    "    def calc_income_for_retirenment(self):\n",
    "        \n",
    "        age_of_retirenement = initial_age +  self.num_of_years\n",
    "        average_time_to_live = avg_age_death_women - age_of_retirenement\n",
    "        average_time_to_live = average_time_to_live*12\n",
    "        \n",
    "        return round(sum(self.pension_saving)/average_time_to_live,2)"
   ]
  },
  {
   "cell_type": "code",
   "execution_count": 37,
   "metadata": {},
   "outputs": [],
   "source": [
    "low = pension(4000,40)"
   ]
  },
  {
   "cell_type": "code",
   "execution_count": 38,
   "metadata": {},
   "outputs": [
    {
     "data": {
      "text/html": [
       "<div>\n",
       "<style scoped>\n",
       "    .dataframe tbody tr th:only-of-type {\n",
       "        vertical-align: middle;\n",
       "    }\n",
       "\n",
       "    .dataframe tbody tr th {\n",
       "        vertical-align: top;\n",
       "    }\n",
       "\n",
       "    .dataframe thead th {\n",
       "        text-align: right;\n",
       "    }\n",
       "</style>\n",
       "<table border=\"1\" class=\"dataframe\">\n",
       "  <thead>\n",
       "    <tr style=\"text-align: right;\">\n",
       "      <th></th>\n",
       "      <th>Wage</th>\n",
       "      <th>Interest_rate</th>\n",
       "      <th>Pension Saving</th>\n",
       "    </tr>\n",
       "  </thead>\n",
       "  <tbody>\n",
       "    <tr>\n",
       "      <th>0</th>\n",
       "      <td>4000.000000</td>\n",
       "      <td>1.000000</td>\n",
       "      <td>740.000000</td>\n",
       "    </tr>\n",
       "    <tr>\n",
       "      <th>1</th>\n",
       "      <td>4007.431589</td>\n",
       "      <td>0.998270</td>\n",
       "      <td>741.374844</td>\n",
       "    </tr>\n",
       "    <tr>\n",
       "      <th>2</th>\n",
       "      <td>4014.876984</td>\n",
       "      <td>0.996542</td>\n",
       "      <td>742.752242</td>\n",
       "    </tr>\n",
       "    <tr>\n",
       "      <th>3</th>\n",
       "      <td>4022.336213</td>\n",
       "      <td>0.994818</td>\n",
       "      <td>744.132199</td>\n",
       "    </tr>\n",
       "    <tr>\n",
       "      <th>4</th>\n",
       "      <td>4029.809300</td>\n",
       "      <td>0.993096</td>\n",
       "      <td>745.514720</td>\n",
       "    </tr>\n",
       "    <tr>\n",
       "      <th>...</th>\n",
       "      <td>...</td>\n",
       "      <td>...</td>\n",
       "      <td>...</td>\n",
       "    </tr>\n",
       "    <tr>\n",
       "      <th>475</th>\n",
       "      <td>9659.836435</td>\n",
       "      <td>0.439269</td>\n",
       "      <td>1787.069741</td>\n",
       "    </tr>\n",
       "    <tr>\n",
       "      <th>476</th>\n",
       "      <td>9677.783418</td>\n",
       "      <td>0.438509</td>\n",
       "      <td>1790.389932</td>\n",
       "    </tr>\n",
       "    <tr>\n",
       "      <th>477</th>\n",
       "      <td>9695.763744</td>\n",
       "      <td>0.437751</td>\n",
       "      <td>1793.716293</td>\n",
       "    </tr>\n",
       "    <tr>\n",
       "      <th>478</th>\n",
       "      <td>9713.777475</td>\n",
       "      <td>0.436993</td>\n",
       "      <td>1797.048833</td>\n",
       "    </tr>\n",
       "    <tr>\n",
       "      <th>479</th>\n",
       "      <td>9731.824675</td>\n",
       "      <td>0.436237</td>\n",
       "      <td>1800.387565</td>\n",
       "    </tr>\n",
       "  </tbody>\n",
       "</table>\n",
       "<p>480 rows × 3 columns</p>\n",
       "</div>"
      ],
      "text/plain": [
       "            Wage  Interest_rate  Pension Saving\n",
       "0    4000.000000       1.000000      740.000000\n",
       "1    4007.431589       0.998270      741.374844\n",
       "2    4014.876984       0.996542      742.752242\n",
       "3    4022.336213       0.994818      744.132199\n",
       "4    4029.809300       0.993096      745.514720\n",
       "..           ...            ...             ...\n",
       "475  9659.836435       0.439269     1787.069741\n",
       "476  9677.783418       0.438509     1790.389932\n",
       "477  9695.763744       0.437751     1793.716293\n",
       "478  9713.777475       0.436993     1797.048833\n",
       "479  9731.824675       0.436237     1800.387565\n",
       "\n",
       "[480 rows x 3 columns]"
      ]
     },
     "execution_count": 38,
     "metadata": {},
     "output_type": "execute_result"
    }
   ],
   "source": [
    "low.create_dataframe()"
   ]
  },
  {
   "cell_type": "code",
   "execution_count": 39,
   "metadata": {},
   "outputs": [
    {
     "data": {
      "text/plain": [
       "572546.5"
      ]
     },
     "execution_count": 39,
     "metadata": {},
     "output_type": "execute_result"
    }
   ],
   "source": [
    "low.calc_cumulative_provisions()"
   ]
  },
  {
   "cell_type": "code",
   "execution_count": 40,
   "metadata": {},
   "outputs": [
    {
     "data": {
      "text/plain": [
       "2511.17"
      ]
     },
     "execution_count": 40,
     "metadata": {},
     "output_type": "execute_result"
    }
   ],
   "source": [
    "low.calc_income_for_retirenment()"
   ]
  },
  {
   "cell_type": "code",
   "execution_count": null,
   "metadata": {},
   "outputs": [],
   "source": []
  }
 ],
 "metadata": {
  "kernelspec": {
   "display_name": "Python 3",
   "language": "python",
   "name": "python3"
  },
  "language_info": {
   "codemirror_mode": {
    "name": "ipython",
    "version": 3
   },
   "file_extension": ".py",
   "mimetype": "text/x-python",
   "name": "python",
   "nbconvert_exporter": "python",
   "pygments_lexer": "ipython3",
   "version": "3.7.6"
  }
 },
 "nbformat": 4,
 "nbformat_minor": 4
}
