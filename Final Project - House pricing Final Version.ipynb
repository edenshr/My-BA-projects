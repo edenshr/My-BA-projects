{
 "cells": [
  {
   "cell_type": "markdown",
   "metadata": {},
   "source": [
    "### Add description in readme"
   ]
  },
  {
   "cell_type": "code",
   "execution_count": 103,
   "metadata": {},
   "outputs": [],
   "source": [
    "import pandas as pd\n",
    "from pathlib import Path\n",
    "import numpy as np\n",
    "import matplotlib.pyplot as plt\n",
    "import seaborn as sns\n",
    "%matplotlib inline \n"
   ]
  },
  {
   "cell_type": "code",
   "execution_count": 104,
   "metadata": {},
   "outputs": [],
   "source": [
    "# Eden's computer\n",
    "filename = '//Users//edenshrian//Desktop//Documents//כלכלה //שנה ג//סמסטר ב//Machine Learning//train.csv'"
   ]
  },
  {
   "cell_type": "code",
   "execution_count": 83,
   "metadata": {},
   "outputs": [],
   "source": [
    "# Nir's computer\n",
    "filename = 'train.csv'"
   ]
  },
  {
   "cell_type": "code",
   "execution_count": null,
   "metadata": {},
   "outputs": [],
   "source": [
    "df = pd.read_csv(filename)"
   ]
  },
  {
   "cell_type": "code",
   "execution_count": 84,
   "metadata": {},
   "outputs": [
    {
     "data": {
      "text/plain": [
       "(1460, 81)"
      ]
     },
     "execution_count": 84,
     "metadata": {},
     "output_type": "execute_result"
    }
   ],
   "source": [
    "df.shape"
   ]
  },
  {
   "cell_type": "code",
   "execution_count": 85,
   "metadata": {},
   "outputs": [
    {
     "data": {
      "text/html": [
       "<div>\n",
       "<style scoped>\n",
       "    .dataframe tbody tr th:only-of-type {\n",
       "        vertical-align: middle;\n",
       "    }\n",
       "\n",
       "    .dataframe tbody tr th {\n",
       "        vertical-align: top;\n",
       "    }\n",
       "\n",
       "    .dataframe thead th {\n",
       "        text-align: right;\n",
       "    }\n",
       "</style>\n",
       "<table border=\"1\" class=\"dataframe\">\n",
       "  <thead>\n",
       "    <tr style=\"text-align: right;\">\n",
       "      <th></th>\n",
       "      <th>Id</th>\n",
       "      <th>MSSubClass</th>\n",
       "      <th>MSZoning</th>\n",
       "      <th>LotFrontage</th>\n",
       "      <th>LotArea</th>\n",
       "      <th>Street</th>\n",
       "      <th>Alley</th>\n",
       "      <th>LotShape</th>\n",
       "      <th>LandContour</th>\n",
       "      <th>Utilities</th>\n",
       "      <th>...</th>\n",
       "      <th>PoolArea</th>\n",
       "      <th>PoolQC</th>\n",
       "      <th>Fence</th>\n",
       "      <th>MiscFeature</th>\n",
       "      <th>MiscVal</th>\n",
       "      <th>MoSold</th>\n",
       "      <th>YrSold</th>\n",
       "      <th>SaleType</th>\n",
       "      <th>SaleCondition</th>\n",
       "      <th>SalePrice</th>\n",
       "    </tr>\n",
       "  </thead>\n",
       "  <tbody>\n",
       "    <tr>\n",
       "      <th>164</th>\n",
       "      <td>165</td>\n",
       "      <td>40</td>\n",
       "      <td>RM</td>\n",
       "      <td>40.0</td>\n",
       "      <td>5400</td>\n",
       "      <td>Pave</td>\n",
       "      <td>Pave</td>\n",
       "      <td>Reg</td>\n",
       "      <td>Lvl</td>\n",
       "      <td>AllPub</td>\n",
       "      <td>...</td>\n",
       "      <td>0</td>\n",
       "      <td>NaN</td>\n",
       "      <td>NaN</td>\n",
       "      <td>NaN</td>\n",
       "      <td>0</td>\n",
       "      <td>10</td>\n",
       "      <td>2007</td>\n",
       "      <td>WD</td>\n",
       "      <td>Normal</td>\n",
       "      <td>152000</td>\n",
       "    </tr>\n",
       "    <tr>\n",
       "      <th>153</th>\n",
       "      <td>154</td>\n",
       "      <td>20</td>\n",
       "      <td>RL</td>\n",
       "      <td>NaN</td>\n",
       "      <td>13500</td>\n",
       "      <td>Pave</td>\n",
       "      <td>NaN</td>\n",
       "      <td>Reg</td>\n",
       "      <td>Lvl</td>\n",
       "      <td>AllPub</td>\n",
       "      <td>...</td>\n",
       "      <td>0</td>\n",
       "      <td>NaN</td>\n",
       "      <td>NaN</td>\n",
       "      <td>NaN</td>\n",
       "      <td>0</td>\n",
       "      <td>3</td>\n",
       "      <td>2008</td>\n",
       "      <td>WD</td>\n",
       "      <td>Normal</td>\n",
       "      <td>235000</td>\n",
       "    </tr>\n",
       "    <tr>\n",
       "      <th>827</th>\n",
       "      <td>828</td>\n",
       "      <td>20</td>\n",
       "      <td>RL</td>\n",
       "      <td>65.0</td>\n",
       "      <td>8529</td>\n",
       "      <td>Pave</td>\n",
       "      <td>NaN</td>\n",
       "      <td>IR1</td>\n",
       "      <td>Lvl</td>\n",
       "      <td>AllPub</td>\n",
       "      <td>...</td>\n",
       "      <td>0</td>\n",
       "      <td>NaN</td>\n",
       "      <td>NaN</td>\n",
       "      <td>NaN</td>\n",
       "      <td>0</td>\n",
       "      <td>4</td>\n",
       "      <td>2009</td>\n",
       "      <td>WD</td>\n",
       "      <td>Normal</td>\n",
       "      <td>189000</td>\n",
       "    </tr>\n",
       "    <tr>\n",
       "      <th>78</th>\n",
       "      <td>79</td>\n",
       "      <td>90</td>\n",
       "      <td>RL</td>\n",
       "      <td>72.0</td>\n",
       "      <td>10778</td>\n",
       "      <td>Pave</td>\n",
       "      <td>NaN</td>\n",
       "      <td>Reg</td>\n",
       "      <td>Lvl</td>\n",
       "      <td>AllPub</td>\n",
       "      <td>...</td>\n",
       "      <td>0</td>\n",
       "      <td>NaN</td>\n",
       "      <td>NaN</td>\n",
       "      <td>NaN</td>\n",
       "      <td>0</td>\n",
       "      <td>4</td>\n",
       "      <td>2010</td>\n",
       "      <td>WD</td>\n",
       "      <td>Normal</td>\n",
       "      <td>136500</td>\n",
       "    </tr>\n",
       "    <tr>\n",
       "      <th>1235</th>\n",
       "      <td>1236</td>\n",
       "      <td>70</td>\n",
       "      <td>RL</td>\n",
       "      <td>96.0</td>\n",
       "      <td>13132</td>\n",
       "      <td>Pave</td>\n",
       "      <td>NaN</td>\n",
       "      <td>Reg</td>\n",
       "      <td>Lvl</td>\n",
       "      <td>AllPub</td>\n",
       "      <td>...</td>\n",
       "      <td>0</td>\n",
       "      <td>NaN</td>\n",
       "      <td>NaN</td>\n",
       "      <td>NaN</td>\n",
       "      <td>0</td>\n",
       "      <td>7</td>\n",
       "      <td>2006</td>\n",
       "      <td>WD</td>\n",
       "      <td>Normal</td>\n",
       "      <td>138887</td>\n",
       "    </tr>\n",
       "    <tr>\n",
       "      <th>115</th>\n",
       "      <td>116</td>\n",
       "      <td>160</td>\n",
       "      <td>FV</td>\n",
       "      <td>34.0</td>\n",
       "      <td>3230</td>\n",
       "      <td>Pave</td>\n",
       "      <td>Pave</td>\n",
       "      <td>Reg</td>\n",
       "      <td>Lvl</td>\n",
       "      <td>AllPub</td>\n",
       "      <td>...</td>\n",
       "      <td>0</td>\n",
       "      <td>NaN</td>\n",
       "      <td>NaN</td>\n",
       "      <td>NaN</td>\n",
       "      <td>0</td>\n",
       "      <td>6</td>\n",
       "      <td>2007</td>\n",
       "      <td>WD</td>\n",
       "      <td>Normal</td>\n",
       "      <td>176000</td>\n",
       "    </tr>\n",
       "    <tr>\n",
       "      <th>52</th>\n",
       "      <td>53</td>\n",
       "      <td>90</td>\n",
       "      <td>RM</td>\n",
       "      <td>110.0</td>\n",
       "      <td>8472</td>\n",
       "      <td>Grvl</td>\n",
       "      <td>NaN</td>\n",
       "      <td>IR2</td>\n",
       "      <td>Bnk</td>\n",
       "      <td>AllPub</td>\n",
       "      <td>...</td>\n",
       "      <td>0</td>\n",
       "      <td>NaN</td>\n",
       "      <td>NaN</td>\n",
       "      <td>NaN</td>\n",
       "      <td>0</td>\n",
       "      <td>5</td>\n",
       "      <td>2010</td>\n",
       "      <td>WD</td>\n",
       "      <td>Normal</td>\n",
       "      <td>110000</td>\n",
       "    </tr>\n",
       "    <tr>\n",
       "      <th>65</th>\n",
       "      <td>66</td>\n",
       "      <td>60</td>\n",
       "      <td>RL</td>\n",
       "      <td>76.0</td>\n",
       "      <td>9591</td>\n",
       "      <td>Pave</td>\n",
       "      <td>NaN</td>\n",
       "      <td>Reg</td>\n",
       "      <td>Lvl</td>\n",
       "      <td>AllPub</td>\n",
       "      <td>...</td>\n",
       "      <td>0</td>\n",
       "      <td>NaN</td>\n",
       "      <td>NaN</td>\n",
       "      <td>NaN</td>\n",
       "      <td>0</td>\n",
       "      <td>10</td>\n",
       "      <td>2007</td>\n",
       "      <td>WD</td>\n",
       "      <td>Normal</td>\n",
       "      <td>317000</td>\n",
       "    </tr>\n",
       "    <tr>\n",
       "      <th>1134</th>\n",
       "      <td>1135</td>\n",
       "      <td>60</td>\n",
       "      <td>RL</td>\n",
       "      <td>57.0</td>\n",
       "      <td>8773</td>\n",
       "      <td>Pave</td>\n",
       "      <td>NaN</td>\n",
       "      <td>IR1</td>\n",
       "      <td>HLS</td>\n",
       "      <td>AllPub</td>\n",
       "      <td>...</td>\n",
       "      <td>0</td>\n",
       "      <td>NaN</td>\n",
       "      <td>NaN</td>\n",
       "      <td>NaN</td>\n",
       "      <td>0</td>\n",
       "      <td>8</td>\n",
       "      <td>2007</td>\n",
       "      <td>WD</td>\n",
       "      <td>Normal</td>\n",
       "      <td>169000</td>\n",
       "    </tr>\n",
       "    <tr>\n",
       "      <th>321</th>\n",
       "      <td>322</td>\n",
       "      <td>60</td>\n",
       "      <td>RL</td>\n",
       "      <td>99.0</td>\n",
       "      <td>12099</td>\n",
       "      <td>Pave</td>\n",
       "      <td>NaN</td>\n",
       "      <td>IR1</td>\n",
       "      <td>Lvl</td>\n",
       "      <td>AllPub</td>\n",
       "      <td>...</td>\n",
       "      <td>0</td>\n",
       "      <td>NaN</td>\n",
       "      <td>NaN</td>\n",
       "      <td>NaN</td>\n",
       "      <td>0</td>\n",
       "      <td>6</td>\n",
       "      <td>2007</td>\n",
       "      <td>WD</td>\n",
       "      <td>Normal</td>\n",
       "      <td>354000</td>\n",
       "    </tr>\n",
       "  </tbody>\n",
       "</table>\n",
       "<p>10 rows × 81 columns</p>\n",
       "</div>"
      ],
      "text/plain": [
       "        Id  MSSubClass MSZoning  LotFrontage  LotArea Street Alley LotShape  \\\n",
       "164    165          40       RM         40.0     5400   Pave  Pave      Reg   \n",
       "153    154          20       RL          NaN    13500   Pave   NaN      Reg   \n",
       "827    828          20       RL         65.0     8529   Pave   NaN      IR1   \n",
       "78      79          90       RL         72.0    10778   Pave   NaN      Reg   \n",
       "1235  1236          70       RL         96.0    13132   Pave   NaN      Reg   \n",
       "115    116         160       FV         34.0     3230   Pave  Pave      Reg   \n",
       "52      53          90       RM        110.0     8472   Grvl   NaN      IR2   \n",
       "65      66          60       RL         76.0     9591   Pave   NaN      Reg   \n",
       "1134  1135          60       RL         57.0     8773   Pave   NaN      IR1   \n",
       "321    322          60       RL         99.0    12099   Pave   NaN      IR1   \n",
       "\n",
       "     LandContour Utilities  ... PoolArea PoolQC Fence MiscFeature MiscVal  \\\n",
       "164          Lvl    AllPub  ...        0    NaN   NaN         NaN       0   \n",
       "153          Lvl    AllPub  ...        0    NaN   NaN         NaN       0   \n",
       "827          Lvl    AllPub  ...        0    NaN   NaN         NaN       0   \n",
       "78           Lvl    AllPub  ...        0    NaN   NaN         NaN       0   \n",
       "1235         Lvl    AllPub  ...        0    NaN   NaN         NaN       0   \n",
       "115          Lvl    AllPub  ...        0    NaN   NaN         NaN       0   \n",
       "52           Bnk    AllPub  ...        0    NaN   NaN         NaN       0   \n",
       "65           Lvl    AllPub  ...        0    NaN   NaN         NaN       0   \n",
       "1134         HLS    AllPub  ...        0    NaN   NaN         NaN       0   \n",
       "321          Lvl    AllPub  ...        0    NaN   NaN         NaN       0   \n",
       "\n",
       "     MoSold YrSold  SaleType  SaleCondition  SalePrice  \n",
       "164      10   2007        WD         Normal     152000  \n",
       "153       3   2008        WD         Normal     235000  \n",
       "827       4   2009        WD         Normal     189000  \n",
       "78        4   2010        WD         Normal     136500  \n",
       "1235      7   2006        WD         Normal     138887  \n",
       "115       6   2007        WD         Normal     176000  \n",
       "52        5   2010        WD         Normal     110000  \n",
       "65       10   2007        WD         Normal     317000  \n",
       "1134      8   2007        WD         Normal     169000  \n",
       "321       6   2007        WD         Normal     354000  \n",
       "\n",
       "[10 rows x 81 columns]"
      ]
     },
     "execution_count": 85,
     "metadata": {},
     "output_type": "execute_result"
    }
   ],
   "source": [
    "df.sample(10)"
   ]
  },
  {
   "cell_type": "markdown",
   "metadata": {},
   "source": [
    "## data exploration "
   ]
  },
  {
   "cell_type": "code",
   "execution_count": 108,
   "metadata": {},
   "outputs": [
    {
     "name": "stdout",
     "output_type": "stream",
     "text": [
      "1.8828757597682129\n"
     ]
    },
    {
     "data": {
      "image/png": "[encoded data removed]",
      "text/plain": [
       "<Figure size 1008x504 with 1 Axes>"
      ]
     },
     "metadata": {
      "needs_background": "light"
     },
     "output_type": "display_data"
    }
   ],
   "source": [
    "plt.figure(figsize = (14,7))\n",
    "plt.hist(df['SalePrice'],bins=50,color = 'grey');\n",
    "plt.title('Histogram of SalePrice Distribution in USD');\n",
    "print(df['SalePrice'].skew())"
   ]
  },
  {
   "cell_type": "code",
   "execution_count": 109,
   "metadata": {},
   "outputs": [
    {
     "data": {
      "image/png": "[encoded data removed]",
      "text/plain": [
       "<Figure size 1008x504 with 1 Axes>"
      ]
     },
     "metadata": {
      "needs_background": "light"
     },
     "output_type": "display_data"
    }
   ],
   "source": [
    "plt.figure(figsize = (14,7))\n",
    "group = df.groupby(['YrSold']).mean() \n",
    "plt.plot(group['SalePrice'].index,group['SalePrice'].values,'black',linewidth=5);\n",
    "plt.xticks([year for year in range(2006, 2011)]);\n",
    "plt.title('Change in SalePrice by years');"
   ]
  },
  {
   "cell_type": "code",
   "execution_count": 88,
   "metadata": {},
   "outputs": [
    {
     "data": {
      "image/png": "[encoded data removed]",
      "text/plain": [
       "<Figure size 1152x648 with 1 Axes>"
      ]
     },
     "metadata": {
      "needs_background": "light"
     },
     "output_type": "display_data"
    }
   ],
   "source": [
    "plt.figure(figsize=(16,9))\n",
    "sns.regplot(data = df, x='OverallQual', y='SalePrice', color = 'Black')\n",
    "plt.title('Corr between SalePrice and OverallQual');"
   ]
  },
  {
   "cell_type": "markdown",
   "metadata": {},
   "source": [
    "## Feature engineering "
   ]
  },
  {
   "cell_type": "code",
   "execution_count": 110,
   "metadata": {},
   "outputs": [],
   "source": [
    "#  Set a Categorical without relation to order\n",
    "df.MSSubClass = pd.Categorical(df.MSSubClass,ordered=False)\n",
    "\n",
    "#  Alley: Type of alley access to property changed for dummies\n",
    "df.Alley = df.Alley.fillna(0)\n",
    "\n",
    "#  LotFrontage: Linear feet of street connected to property\n",
    "df.LotFrontage = df.LotFrontage.fillna(df.LotFrontage.mean())\n",
    "\n",
    "#  MasVnrArea: Masonry veneer area in square feet\n",
    "df.MasVnrArea = df.MasVnrArea.fillna(0)\n",
    "\n",
    "#  Genarate new vab by the presticge of the neighborhood\n",
    "df['Neighborhood_Rich'] = df.Neighborhood.map(features_dict)\n",
    "df['Neighborhood_Rich'] = df.Neighborhood_Rich.replace(features_dict)\n",
    "\n",
    "#  ExterQual: Evaluates the quality of the material on the exterior \n",
    "df['ExterQual_scale'] = df.ExterQual.replace(['Ex','Gd','TA','Fa','Po'],[5,4,3,2,1])\n",
    "\n",
    "#  ExterCond: Evaluates the present condition of the material on the exterior\n",
    "df['ExterCond_scale'] = df.ExterCond.replace(['Ex','Gd','TA','Fa','Po'],[5,4,3,2,1])\n",
    "\n",
    "#  BsmtQual: Evaluates the height of the basement\n",
    "df['BsmtQual_scale'] = df.BsmtQual.replace(['Ex','Gd','TA','Fa','Po','NA'],[5,4,3,2,1,0])\n",
    "df.BsmtQual_scale = df.BsmtQual_scale.fillna(0)\n",
    "\n",
    "#  BsmtCond: Evaluates the general condition of the basement\n",
    "df['BsmtCond_scale'] = df.BsmtCond.replace(['Ex','Gd','TA','Fa','Po','NA'],[5,4,3,2,1,0])\n",
    "\n",
    "#BsmtExposure: Refers to walkout or garden level walls\n",
    "df['BsmtExposure_scale'] = df.BsmtCond.replace(['Gd','Av','MN','NO','NA'],[3,2,1,0,0])\n",
    "\n",
    "#HeatingQC: Heating quality and condition\n",
    "df['ExterQual_scale'] = df.ExterQual.replace(['Ex','Gd','TA','Fa','Po'],[5,4,3,2,1])\n",
    "\n",
    "#CentralAir: Central air conditioning\n",
    "df['CentralAir'] = df.CentralAir.replace(['Y','N'],[1,0],inplace=True)\n",
    "\n",
    "#KitchenQual: Kitchen quality\n",
    "df['KitchenQual_scale'] = df.KitchenQual.replace(['Ex','Gd','TA','Fa','Po'],[5,4,3,2,1])\n",
    "\n",
    "#Functional: Home functionality (Assume typical unless deductions are warranted)\n",
    "df['KitchenQual_scale'] = df.KitchenQual.replace(['Typ','Min1','Min2','Mod','Maj1','Maj2','Sev','Sal'],[8,7,6,5,4,3,2,1])\n",
    "\n",
    "#GarageType: Garage location\n",
    "df.GarageType = df.GarageType.fillna('No_Garage')\n",
    "\n",
    "#GarageFinish: Interior finish of the garage\n",
    "df.GarageFinish = df.GarageFinish.fillna('No_Garage')\n",
    "df['GarageFinish_scale'] = df.GarageFinish.replace(['Fin','RFn','Unf','NO_Garage'],[3,2,1,0])\n",
    "\n",
    "#GarageQual: Garage quality\n",
    "df.GarageQual = df.GarageQual.fillna('No_Garage')\n",
    "df['GarageFinish_scale'] = df.GarageFinish.replace(['Ex','Gd','TA','Fa','Po','No_Garage'],[5,4,3,2,1,0])\n",
    "\n",
    "#PavedDrive: Paved driveway\n",
    "df['PavedDrive'] = df.PavedDrive.replace(['Y','N','P'],[1,0,0],inplace=True)\n",
    "\n",
    "#PoolQC: Pool quality The Fa and Gd is the same\n",
    "df.PoolQC = df.PoolQC.fillna('No_Pool')\n",
    "df['PoolQC'] = df.PavedDrive.replace(['Ex','Gd','TA','Fa','No_Pool'],[2,1,1,1,0],inplace=True)\n",
    "\n",
    "\n"
   ]
  },
  {
   "cell_type": "code",
   "execution_count": null,
   "metadata": {},
   "outputs": [],
   "source": []
  },
  {
   "cell_type": "code",
   "execution_count": 111,
   "metadata": {},
   "outputs": [],
   "source": [
    "#Drop\n",
    "#ID\n",
    "#Utilities - All observations are the same.\n",
    "#Condition2 - all observations are the same.\n",
    "#RoofMatl - all observations are the same.\n",
    "#Exterior1st - The house Exterior covering doesn't reflect any trend in the house pricing\n",
    "#MasVnrType - Half of the obvservation are NAN\n",
    "#BsmtFinType1 - This feature is determined by his size\n",
    "#BsmtFinType2 - This feature is determined by his size\n",
    "#Heating - does not include informative values\n",
    "#Fireplaces - does not include informative values\n",
    "#FireplaceQu - does not include informative values\n",
    "#GarageCond - does not include informative values\n",
    "#MiscFeature - Not enough data\n",
    "#SaleType - The project is the important thing and not how they finance it\n",
    "#SaleCondition - The value of the house does not depend on the way it sold"
   ]
  },
  {
   "cell_type": "code",
   "execution_count": 112,
   "metadata": {},
   "outputs": [],
   "source": [
    "df.drop('Id',inplace=True,axis=1)\n",
    "df.drop('Utilities',inplace=True,axis=1)\n",
    "df.drop('Condition2',inplace=True,axis=1)\n",
    "df.drop('RoofMatl',inplace=True,axis=1)\n",
    "df.drop('Exterior1st',inplace=True,axis=1)\n",
    "df.drop('MasVnrType',inplace=True,axis=1)\n",
    "df.drop('BsmtFinType1',inplace=True,axis=1)\n",
    "df.drop('BsmtFinType2',inplace=True,axis=1)\n",
    "df.drop('Heating',inplace=True,axis=1)\n",
    "df.drop('Fireplaces',inplace=True,axis=1)\n",
    "df.drop('FireplaceQu',inplace=True,axis=1)\n",
    "df.drop('GarageCond',inplace=True,axis=1)\n",
    "df.drop('MiscFeature',inplace=True,axis=1)\n",
    "df.drop('SaleType',inplace=True,axis=1)\n",
    "df.drop('SaleCondition',inplace=True,axis=1)"
   ]
  },
  {
   "cell_type": "markdown",
   "metadata": {},
   "source": [
    "## Interaction variables "
   ]
  },
  {
   "cell_type": "code",
   "execution_count": 113,
   "metadata": {},
   "outputs": [],
   "source": [
    "df['Interact_Pool_area_quality'] = df['PoolArea'] * df['PoolQC']\n",
    "df['Interact_Qual_area'] = df['LotArea']*df['OverallQual']\n",
    "df['Interact_basement'] = df['TotalBsmtSF']*df['BsmtQual']\n",
    "df['Intract_Garage_area'] = df['GarageCars']*df['GarageArea']\n",
    "df['Intract_NB_OQ'] = df['OverallQual']*df['Neighborhood']\n",
    "df['Intract_KitchenABv_KitchenQual_scale'] = df['KitchenAbvGr']*df['KitchenQual_scale']\n",
    "df['Intract_GarageQual_Garagearea'] = df['GarageQual']*df['GarageArea']\n",
    "df['Intract_HeatingQC_CentralAir'] = df['HeatingQC']*df['CentralAir']\n",
    "df['interact_Garage_cars'] = df['GarageCars']*df['GarageArea']"
   ]
  },
  {
   "cell_type": "markdown",
   "metadata": {},
   "source": [
    "## Get Dummies"
   ]
  },
  {
   "cell_type": "code",
   "execution_count": 114,
   "metadata": {},
   "outputs": [],
   "source": [
    "#Dummies\n",
    "#MSZoning,Alley,Street,LotShape,LandContour,LotConfig,LandSlope,Condition1,BldgType,HouseStyle\n",
    "#RoofStyle,Foundation,Electrical,GarageType,Fence"
   ]
  },
  {
   "cell_type": "code",
   "execution_count": 115,
   "metadata": {},
   "outputs": [],
   "source": [
    "#get dummies for the rest\n",
    "df = pd.get_dummies(df)"
   ]
  },
  {
   "cell_type": "code",
   "execution_count": 116,
   "metadata": {
    "scrolled": true
   },
   "outputs": [],
   "source": [
    "#Check the corr with saleprice\n",
    "corr = pd.Series(df.corrwith(df['SalePrice']).sort_values())"
   ]
  },
  {
   "cell_type": "code",
   "execution_count": 117,
   "metadata": {},
   "outputs": [],
   "source": [
    "#Dropping features with corr between 0.2 to -0.2 \n",
    "df.drop(corr[(corr<0.2) & (corr>(-0.2))].index,inplace=True,axis=1)"
   ]
  },
  {
   "cell_type": "code",
   "execution_count": 118,
   "metadata": {},
   "outputs": [],
   "source": [
    "#GarageYrBlt drop 81 rows\n",
    "df = df.dropna()"
   ]
  },
  {
   "cell_type": "code",
   "execution_count": 119,
   "metadata": {},
   "outputs": [
    {
     "data": {
      "text/plain": [
       "(1379, 82)"
      ]
     },
     "execution_count": 119,
     "metadata": {},
     "output_type": "execute_result"
    }
   ],
   "source": [
    "df.shape"
   ]
  },
  {
   "cell_type": "markdown",
   "metadata": {},
   "source": [
    "# Train Test Split"
   ]
  },
  {
   "cell_type": "code",
   "execution_count": 120,
   "metadata": {},
   "outputs": [],
   "source": [
    "from sklearn.model_selection import train_test_split"
   ]
  },
  {
   "cell_type": "code",
   "execution_count": 121,
   "metadata": {},
   "outputs": [],
   "source": [
    "X = df.drop('SalePrice',axis=1)\n",
    "y = df['SalePrice']\n",
    "X_train, X_test, y_train, y_test = train_test_split(X, y, test_size=0.25, random_state=101)"
   ]
  },
  {
   "cell_type": "markdown",
   "metadata": {},
   "source": [
    "## Scaling"
   ]
  },
  {
   "cell_type": "code",
   "execution_count": 122,
   "metadata": {},
   "outputs": [],
   "source": [
    "from sklearn.preprocessing import StandardScaler\n",
    "scaler = StandardScaler()\n",
    "X_train_scaled = scaler.fit_transform(X_train)\n",
    "X_test_scaled = scaler.transform(X_test)"
   ]
  },
  {
   "cell_type": "markdown",
   "metadata": {},
   "source": [
    "# Helper function for evaluation"
   ]
  },
  {
   "cell_type": "code",
   "execution_count": 123,
   "metadata": {},
   "outputs": [],
   "source": [
    "from sklearn.metrics import mean_absolute_error\n",
    "\n",
    "\n",
    "def check_regressor(regressor, X_train, y_train, X_test, y_test):\n",
    "    # Fit regression model\n",
    "    regressor.fit(X_train, y_train)\n",
    "\n",
    "    # Predict\n",
    "    y_pred = regressor.predict(X_test)\n",
    "    mae = mean_absolute_error(y_test, y_pred)\n",
    "    y_pred_train = regressor.predict(X_train)\n",
    "    mae_train = mean_absolute_error(y_train, y_pred_train)\n",
    "    \n",
    "    model_name = regressor.__class__.__name__\n",
    "    print('{0} mean absolute error is {1:.4f} (MAE train {2:.4f})'.format(model_name, mae, mae_train))\n",
    "    return mae, mae_train, model_name"
   ]
  },
  {
   "cell_type": "code",
   "execution_count": 124,
   "metadata": {},
   "outputs": [],
   "source": [
    "models_errors = {}\n",
    "models_errors_train = {}"
   ]
  },
  {
   "cell_type": "markdown",
   "metadata": {},
   "source": [
    "# Models"
   ]
  },
  {
   "cell_type": "markdown",
   "metadata": {},
   "source": [
    "### Benchmark"
   ]
  },
  {
   "cell_type": "code",
   "execution_count": 125,
   "metadata": {},
   "outputs": [
    {
     "name": "stdout",
     "output_type": "stream",
     "text": [
      "Benchmark mean absolute error is 56659.1560 (MAE train 57103.5568)\n"
     ]
    }
   ],
   "source": [
    "class Benchmark:\n",
    "    def fit(self, x, y):\n",
    "        self.value = y.mean()\n",
    "        return self\n",
    "    \n",
    "    def predict(self, x):\n",
    "        return np.ones(len(x))*self.value\n",
    "    \n",
    "benchmark = Benchmark()\n",
    "model_mae, model_mae_train, model_name = check_regressor(benchmark, X_train, y_train, X_test, y_test)\n",
    "models_errors[model_name] = model_mae\n",
    "models_errors_train[model_name] = model_mae_train"
   ]
  },
  {
   "cell_type": "markdown",
   "metadata": {},
   "source": [
    "### Decision Tree Regressor"
   ]
  },
  {
   "cell_type": "markdown",
   "metadata": {},
   "source": [
    "#### Checking the best depth"
   ]
  },
  {
   "cell_type": "code",
   "execution_count": 126,
   "metadata": {},
   "outputs": [],
   "source": [
    "from sklearn.tree import DecisionTreeRegressor\n",
    "train_acc = []\n",
    "test_acc = []\n",
    "\n",
    "\n",
    "for i in range(20):\n",
    "    decision_tree = DecisionTreeRegressor(max_depth=i+1, random_state=101)\n",
    "    decision_tree.fit(X_train,y_train)\n",
    "    y_train_pred = decision_tree.predict(X_train)\n",
    "    train_acc.append(mean_absolute_error(y_train,y_train_pred))\n",
    "    y_test_pred = decision_tree.predict(X_test)\n",
    "    test_acc.append(mean_absolute_error(y_test, y_test_pred))\n",
    "\n"
   ]
  },
  {
   "cell_type": "code",
   "execution_count": 26,
   "metadata": {},
   "outputs": [
    {
     "data": {
      "image/png": "[encoded data removed]",
      "text/plain": [
       "<Figure size 1152x648 with 1 Axes>"
      ]
     },
     "metadata": {
      "needs_background": "light"
     },
     "output_type": "display_data"
    }
   ],
   "source": [
    "fig = plt.figure(figsize=(16,9))\n",
    "ax1 = fig.add_subplot(111)\n",
    "\n",
    "\n",
    "ax1.scatter(range(1, 21), train_acc, s=10, c='b', marker=\"s\", label='Training MAE')\n",
    "ax1.scatter(range(1, 21) ,test_acc, s=10, c='r', marker=\"o\", label='Testing MAE')\n",
    "ax1.set_ylabel(\"MAE\")\n",
    "ax1.set_xlabel(\"Max Depth\")\n",
    "plt.legend(loc='upper left');\n",
    "plt.show()"
   ]
  },
  {
   "cell_type": "code",
   "execution_count": 27,
   "metadata": {
    "scrolled": true
   },
   "outputs": [
    {
     "name": "stdout",
     "output_type": "stream",
     "text": [
      "Depth:1 test_acc: 42830.76446049848 train_acc: 42535.05609234053\n",
      "Depth:2 test_acc: 35210.708288597336 train_acc: 32428.63339477809\n",
      "Depth:3 test_acc: 30224.001866124614 train_acc: 28019.029237683983\n",
      "Depth:4 test_acc: 29141.734609282423 train_acc: 23387.10513001377\n",
      "Depth:5 test_acc: 26188.030047665805 train_acc: 19571.502794466975\n",
      "Depth:6 test_acc: 26028.138848601408 train_acc: 16575.293581253965\n",
      "Depth:7 test_acc: 26416.301135447364 train_acc: 13212.213636109822\n",
      "Depth:8 test_acc: 26190.973987107413 train_acc: 10202.107946683172\n",
      "Depth:9 test_acc: 25526.51798075572 train_acc: 7467.788368947527\n",
      "Depth:10 test_acc: 26787.529299790564 train_acc: 5301.1814707192525\n",
      "Depth:11 test_acc: 26441.51168890881 train_acc: 3615.7514635334223\n",
      "Depth:12 test_acc: 26686.80178164546 train_acc: 2400.0702366052806\n",
      "Depth:13 test_acc: 26687.4813630585 train_acc: 1621.6757953602043\n",
      "Depth:14 test_acc: 27924.520811636026 train_acc: 1011.2742344695923\n",
      "Depth:15 test_acc: 28212.41809983897 train_acc: 608.311269366782\n",
      "Depth:16 test_acc: 27114.275845410633 train_acc: 359.0641521598968\n",
      "Depth:17 test_acc: 26714.154589371978 train_acc: 173.85364281108963\n",
      "Depth:18 test_acc: 26889.11318150449 train_acc: 55.83264253477018\n",
      "Depth:19 test_acc: 28311.77971014493 train_acc: 18.681495809155376\n",
      "Depth:20 test_acc: 26735.820289855073 train_acc: 3.8684719535783367\n"
     ]
    }
   ],
   "source": [
    "for i in range(20):\n",
    "    print(\"Depth:\"+str(i+1) + \" test_acc: \"+str(test_acc[i]) + \" train_acc: \"+str(train_acc[i]))"
   ]
  },
  {
   "cell_type": "markdown",
   "metadata": {},
   "source": [
    "#### The Chosen max_depth= 6 "
   ]
  },
  {
   "cell_type": "code",
   "execution_count": 127,
   "metadata": {},
   "outputs": [
    {
     "name": "stdout",
     "output_type": "stream",
     "text": [
      "DecisionTreeRegressor mean absolute error is 26028.1388 (MAE train 16575.2936)\n"
     ]
    }
   ],
   "source": [
    "from sklearn.tree import DecisionTreeRegressor, export_graphviz\n",
    "\n",
    "max_depth =6\n",
    "decision_tree = DecisionTreeRegressor(max_depth=max_depth, random_state=101)\n",
    "model_mae, model_mae_train, model_name = check_regressor(decision_tree, X_train_scaled, y_train, X_test_scaled, y_test)\n",
    "models_errors[model_name] = model_mae\n",
    "models_errors_train[model_name] = model_mae_train## Decision Tree Regressor"
   ]
  },
  {
   "cell_type": "code",
   "execution_count": 129,
   "metadata": {},
   "outputs": [
    {
     "data": {
      "text/html": [
       "<div>\n",
       "<style scoped>\n",
       "    .dataframe tbody tr th:only-of-type {\n",
       "        vertical-align: middle;\n",
       "    }\n",
       "\n",
       "    .dataframe tbody tr th {\n",
       "        vertical-align: top;\n",
       "    }\n",
       "\n",
       "    .dataframe thead th {\n",
       "        text-align: right;\n",
       "    }\n",
       "</style>\n",
       "<table border=\"1\" class=\"dataframe\">\n",
       "  <thead>\n",
       "    <tr style=\"text-align: right;\">\n",
       "      <th></th>\n",
       "      <th>importance</th>\n",
       "    </tr>\n",
       "  </thead>\n",
       "  <tbody>\n",
       "    <tr>\n",
       "      <th>KitchenQual_scale_Gd</th>\n",
       "      <td>0.004192</td>\n",
       "    </tr>\n",
       "    <tr>\n",
       "      <th>GarageArea</th>\n",
       "      <td>0.004323</td>\n",
       "    </tr>\n",
       "    <tr>\n",
       "      <th>YearRemodAdd</th>\n",
       "      <td>0.006583</td>\n",
       "    </tr>\n",
       "    <tr>\n",
       "      <th>Intract_Garage_area</th>\n",
       "      <td>0.008362</td>\n",
       "    </tr>\n",
       "    <tr>\n",
       "      <th>YearBuilt</th>\n",
       "      <td>0.008374</td>\n",
       "    </tr>\n",
       "    <tr>\n",
       "      <th>BsmtFinSF1</th>\n",
       "      <td>0.011480</td>\n",
       "    </tr>\n",
       "    <tr>\n",
       "      <th>1stFlrSF</th>\n",
       "      <td>0.012651</td>\n",
       "    </tr>\n",
       "    <tr>\n",
       "      <th>GarageCars</th>\n",
       "      <td>0.013696</td>\n",
       "    </tr>\n",
       "    <tr>\n",
       "      <th>Interact_Qual_area</th>\n",
       "      <td>0.018470</td>\n",
       "    </tr>\n",
       "    <tr>\n",
       "      <th>TotalBsmtSF</th>\n",
       "      <td>0.024028</td>\n",
       "    </tr>\n",
       "    <tr>\n",
       "      <th>2ndFlrSF</th>\n",
       "      <td>0.057361</td>\n",
       "    </tr>\n",
       "    <tr>\n",
       "      <th>GrLivArea</th>\n",
       "      <td>0.093095</td>\n",
       "    </tr>\n",
       "    <tr>\n",
       "      <th>Neighborhood_Rich</th>\n",
       "      <td>0.118400</td>\n",
       "    </tr>\n",
       "    <tr>\n",
       "      <th>OverallQual</th>\n",
       "      <td>0.598648</td>\n",
       "    </tr>\n",
       "  </tbody>\n",
       "</table>\n",
       "</div>"
      ],
      "text/plain": [
       "                      importance\n",
       "KitchenQual_scale_Gd    0.004192\n",
       "GarageArea              0.004323\n",
       "YearRemodAdd            0.006583\n",
       "Intract_Garage_area     0.008362\n",
       "YearBuilt               0.008374\n",
       "BsmtFinSF1              0.011480\n",
       "1stFlrSF                0.012651\n",
       "GarageCars              0.013696\n",
       "Interact_Qual_area      0.018470\n",
       "TotalBsmtSF             0.024028\n",
       "2ndFlrSF                0.057361\n",
       "GrLivArea               0.093095\n",
       "Neighborhood_Rich       0.118400\n",
       "OverallQual             0.598648"
      ]
     },
     "execution_count": 129,
     "metadata": {},
     "output_type": "execute_result"
    }
   ],
   "source": [
    "feature_importances = decision_tree.feature_importances_\n",
    "features = X_train.columns\n",
    "stats = pd.DataFrame({'importance':feature_importances},index=features)\n",
    "stats = stats.sort_values(by=['importance'])\n",
    "importnce = stats.tail(14)\n",
    "importnce"
   ]
  },
  {
   "cell_type": "markdown",
   "metadata": {},
   "source": [
    "### Linear Regression"
   ]
  },
  {
   "cell_type": "code",
   "execution_count": 31,
   "metadata": {
    "scrolled": true
   },
   "outputs": [
    {
     "name": "stdout",
     "output_type": "stream",
     "text": [
      "LinearRegression mean absolute error is 20153.7337 (MAE train 17856.3521)\n"
     ]
    },
    {
     "data": {
      "image/png": "[encoded data removed]",
      "text/plain": [
       "<Figure size 432x288 with 1 Axes>"
      ]
     },
     "metadata": {
      "needs_background": "light"
     },
     "output_type": "display_data"
    }
   ],
   "source": [
    "from sklearn.linear_model import LinearRegression\n",
    "\n",
    "\n",
    "linear_regressor = LinearRegression()\n",
    "model_mae, model_mae_train, model_name = check_regressor(linear_regressor, X_train, y_train, X_test, y_test)\n",
    "models_errors[model_name] = model_mae\n",
    "models_errors_train[model_name] = model_mae_train\n",
    "y_pred = linear_regressor.predict(X_test)\n",
    "sns.regplot(y_test,y_pred, color= 'black');\n"
   ]
  },
  {
   "cell_type": "markdown",
   "metadata": {},
   "source": [
    "### Lasso"
   ]
  },
  {
   "cell_type": "code",
   "execution_count": 32,
   "metadata": {
    "scrolled": true
   },
   "outputs": [
    {
     "name": "stdout",
     "output_type": "stream",
     "text": [
      "Lasso mean absolute error is 20095.2675 (MAE train 17677.6915)\n"
     ]
    }
   ],
   "source": [
    "from sklearn.linear_model import Lasso\n",
    "\n",
    "lasso = Lasso(alpha=3, normalize=True)\n",
    "model_mae, model_mae_train, model_name = check_regressor(lasso, X_train, y_train, X_test, y_test)\n",
    "models_errors[model_name] = model_mae\n",
    "models_errors_train[model_name] = model_mae_train\n",
    "y_pred = lasso.predict(X_test)\n",
    "\n",
    "\n",
    "#sns.scatterplot(y_test,y_pred)"
   ]
  },
  {
   "cell_type": "code",
   "execution_count": 35,
   "metadata": {},
   "outputs": [
    {
     "data": {
      "text/html": [
       "<div>\n",
       "<style scoped>\n",
       "    .dataframe tbody tr th:only-of-type {\n",
       "        vertical-align: middle;\n",
       "    }\n",
       "\n",
       "    .dataframe tbody tr th {\n",
       "        vertical-align: top;\n",
       "    }\n",
       "\n",
       "    .dataframe thead th {\n",
       "        text-align: right;\n",
       "    }\n",
       "</style>\n",
       "<table border=\"1\" class=\"dataframe\">\n",
       "  <thead>\n",
       "    <tr style=\"text-align: right;\">\n",
       "      <th></th>\n",
       "      <th>Coef</th>\n",
       "    </tr>\n",
       "  </thead>\n",
       "  <tbody>\n",
       "    <tr>\n",
       "      <th>GarageType_Attchd</th>\n",
       "      <td>11809.019994</td>\n",
       "    </tr>\n",
       "    <tr>\n",
       "      <th>Intract_NB_OQ_NoRidgeNoRidgeNoRidgeNoRidgeNoRidgeNoRidgeNoRidgeNoRidge</th>\n",
       "      <td>14029.508934</td>\n",
       "    </tr>\n",
       "    <tr>\n",
       "      <th>BsmtExposure_Gd</th>\n",
       "      <td>15971.809351</td>\n",
       "    </tr>\n",
       "    <tr>\n",
       "      <th>Intract_NB_OQ_NridgHtNridgHtNridgHtNridgHtNridgHtNridgHtNridgHtNridgHt</th>\n",
       "      <td>16803.615966</td>\n",
       "    </tr>\n",
       "    <tr>\n",
       "      <th>Neighborhood_Rich</th>\n",
       "      <td>17138.422253</td>\n",
       "    </tr>\n",
       "    <tr>\n",
       "      <th>BsmtQual_Ex</th>\n",
       "      <td>18016.304366</td>\n",
       "    </tr>\n",
       "    <tr>\n",
       "      <th>GarageType_BuiltIn</th>\n",
       "      <td>18485.770506</td>\n",
       "    </tr>\n",
       "    <tr>\n",
       "      <th>Neighborhood_NoRidge</th>\n",
       "      <td>21352.347965</td>\n",
       "    </tr>\n",
       "    <tr>\n",
       "      <th>Intract_KitchenABv_KitchenQual_scale_TA</th>\n",
       "      <td>22531.931412</td>\n",
       "    </tr>\n",
       "    <tr>\n",
       "      <th>KitchenQual_Ex</th>\n",
       "      <td>28574.935205</td>\n",
       "    </tr>\n",
       "    <tr>\n",
       "      <th>Intract_NB_OQ_NridgHtNridgHtNridgHtNridgHtNridgHtNridgHtNridgHtNridgHtNridgHt</th>\n",
       "      <td>31259.869381</td>\n",
       "    </tr>\n",
       "    <tr>\n",
       "      <th>Neighborhood_StoneBr</th>\n",
       "      <td>45522.383859</td>\n",
       "    </tr>\n",
       "    <tr>\n",
       "      <th>Intract_NB_OQ_NridgHtNridgHtNridgHtNridgHtNridgHtNridgHtNridgHtNridgHtNridgHtNridgHt</th>\n",
       "      <td>48604.418776</td>\n",
       "    </tr>\n",
       "    <tr>\n",
       "      <th>Intract_NB_OQ_NoRidgeNoRidgeNoRidgeNoRidgeNoRidgeNoRidgeNoRidgeNoRidgeNoRidgeNoRidge</th>\n",
       "      <td>203378.278059</td>\n",
       "    </tr>\n",
       "  </tbody>\n",
       "</table>\n",
       "</div>"
      ],
      "text/plain": [
       "                                                             Coef\n",
       "GarageType_Attchd                                    11809.019994\n",
       "Intract_NB_OQ_NoRidgeNoRidgeNoRidgeNoRidgeNoRid...   14029.508934\n",
       "BsmtExposure_Gd                                      15971.809351\n",
       "Intract_NB_OQ_NridgHtNridgHtNridgHtNridgHtNridg...   16803.615966\n",
       "Neighborhood_Rich                                    17138.422253\n",
       "BsmtQual_Ex                                          18016.304366\n",
       "GarageType_BuiltIn                                   18485.770506\n",
       "Neighborhood_NoRidge                                 21352.347965\n",
       "Intract_KitchenABv_KitchenQual_scale_TA              22531.931412\n",
       "KitchenQual_Ex                                       28574.935205\n",
       "Intract_NB_OQ_NridgHtNridgHtNridgHtNridgHtNridg...   31259.869381\n",
       "Neighborhood_StoneBr                                 45522.383859\n",
       "Intract_NB_OQ_NridgHtNridgHtNridgHtNridgHtNridg...   48604.418776\n",
       "Intract_NB_OQ_NoRidgeNoRidgeNoRidgeNoRidgeNoRid...  203378.278059"
      ]
     },
     "execution_count": 35,
     "metadata": {},
     "output_type": "execute_result"
    }
   ],
   "source": [
    "cof = lasso.coef_\n",
    "features = X_train.columns\n",
    "coef = pd.DataFrame({'Coef':cof},index=features)\n",
    "\n",
    "coef.sort_values(by=['Coef']).tail(14)\n",
    "\n"
   ]
  },
  {
   "cell_type": "markdown",
   "metadata": {},
   "source": [
    "### Nearest Neighbors Regressor"
   ]
  },
  {
   "cell_type": "code",
   "execution_count": 36,
   "metadata": {},
   "outputs": [
    {
     "data": {
      "image/png": "[encoded data removed]",
      "text/plain": [
       "<Figure size 1152x648 with 1 Axes>"
      ]
     },
     "metadata": {
      "needs_background": "light"
     },
     "output_type": "display_data"
    }
   ],
   "source": [
    "from sklearn.neighbors import KNeighborsRegressor \n",
    "train_acc = []\n",
    "test_acc = []\n",
    "\n",
    "\n",
    "for i in range(20):\n",
    "    nearest_neighbors = KNeighborsRegressor(n_neighbors=i+1)\n",
    "    nearest_neighbors.fit(X_train_scaled,y_train)\n",
    "    y_train_pred = nearest_neighbors.predict(X_train_scaled)\n",
    "    train_acc.append(mean_absolute_error(y_train,y_train_pred))\n",
    "    y_test_pred = nearest_neighbors.predict(X_test_scaled)\n",
    "    test_acc.append(mean_absolute_error(y_test, y_test_pred))\n",
    "\n",
    "fig = plt.figure(figsize=(16,9))\n",
    "ax1 = fig.add_subplot(111)\n",
    "\n",
    "ax1.scatter(range(1, 21), train_acc, s=10, c='b', marker=\"s\", label='Training MAE')\n",
    "ax1.scatter(range(1, 21) ,test_acc, s=10, c='r', marker=\"o\", label='Testing MAE')\n",
    "ax1.set_ylabel(\"MAE\")\n",
    "ax1.set_xlabel(\"n_neighbors\")\n",
    "plt.legend(loc='upper left');\n",
    "plt.show()"
   ]
  },
  {
   "cell_type": "code",
   "execution_count": 37,
   "metadata": {},
   "outputs": [
    {
     "name": "stdout",
     "output_type": "stream",
     "text": [
      "n_neighbors:1 test_acc: 29134.710144927536 train_acc: 0.0\n",
      "n_neighbors:2 test_acc: 25200.002898550723 train_acc: 14258.666344294004\n",
      "n_neighbors:3 test_acc: 25494.06086956522 train_acc: 16970.292069632495\n",
      "n_neighbors:4 test_acc: 24962.742753623188 train_acc: 17932.505802707932\n",
      "n_neighbors:5 test_acc: 24994.05391304348 train_acc: 18701.64526112186\n",
      "n_neighbors:6 test_acc: 24738.571497584544 train_acc: 19585.848001289494\n",
      "n_neighbors:7 test_acc: 24669.744513457554 train_acc: 20156.651284885327\n",
      "n_neighbors:8 test_acc: 24424.921739130434 train_acc: 20416.692940038683\n",
      "n_neighbors:9 test_acc: 24644.487600644123 train_acc: 20673.54319793681\n",
      "n_neighbors:10 test_acc: 24595.596231884057 train_acc: 20865.15560928433\n",
      "n_neighbors:11 test_acc: 24425.469038208168 train_acc: 21032.46720590821\n",
      "n_neighbors:12 test_acc: 24539.621739130434 train_acc: 21275.341070277238\n",
      "n_neighbors:13 test_acc: 24779.056856187286 train_acc: 21458.94881714031\n",
      "n_neighbors:14 test_acc: 24805.44575569358 train_acc: 21641.493299253936\n",
      "n_neighbors:15 test_acc: 25040.147439613527 train_acc: 21872.021018697615\n",
      "n_neighbors:16 test_acc: 25142.542572463768 train_acc: 22033.583534816247\n",
      "n_neighbors:17 test_acc: 25140.68576300085 train_acc: 22180.847991807943\n",
      "n_neighbors:18 test_acc: 25175.746376811596 train_acc: 22314.844777562863\n",
      "n_neighbors:19 test_acc: 25160.066971777273 train_acc: 22522.100529369847\n",
      "n_neighbors:20 test_acc: 24975.80014492754 train_acc: 22652.47325918762\n"
     ]
    }
   ],
   "source": [
    "for i in range(20):\n",
    "    print(\"n_neighbors:\"+str(i+1) + \" test_acc: \" + str(test_acc[i]) + \" train_acc: \"+str(train_acc[i]))"
   ]
  },
  {
   "cell_type": "markdown",
   "metadata": {},
   "source": [
    "#### The choosen K =8"
   ]
  },
  {
   "cell_type": "code",
   "execution_count": 39,
   "metadata": {},
   "outputs": [
    {
     "name": "stdout",
     "output_type": "stream",
     "text": [
      "KNeighborsRegressor mean absolute error is 24424.9217 (MAE train 20416.6929)\n"
     ]
    }
   ],
   "source": [
    "k = 8\n",
    "nearest_neighbors = KNeighborsRegressor(k)\n",
    "model_mae, model_mae_train, model_name = check_regressor(nearest_neighbors, X_train_scaled, y_train, X_test_scaled, y_test)\n",
    "model_name += 'Scaled'\n",
    "models_errors[model_name] = model_mae\n",
    "models_errors_train[model_name] = model_mae_train"
   ]
  },
  {
   "cell_type": "markdown",
   "metadata": {},
   "source": [
    "### Random Forest"
   ]
  },
  {
   "cell_type": "code",
   "execution_count": 40,
   "metadata": {},
   "outputs": [
    {
     "data": {
      "image/png": "[encoded data removed]",
      "text/plain": [
       "<Figure size 1152x648 with 1 Axes>"
      ]
     },
     "metadata": {
      "needs_background": "light"
     },
     "output_type": "display_data"
    }
   ],
   "source": [
    "from sklearn.ensemble import RandomForestRegressor\n",
    "train_acc = []\n",
    "test_acc = []\n",
    "\n",
    "\n",
    "for i in range(20):\n",
    "    random_forest = RandomForestRegressor(n_estimators=150, max_depth=i+1, random_state=101)\n",
    "    random_forest.fit(X_train_scaled,y_train)\n",
    "    y_train_pred = random_forest.predict(X_train_scaled)\n",
    "    train_acc.append(mean_absolute_error(y_train,y_train_pred))\n",
    "    y_test_pred = random_forest.predict(X_test_scaled)\n",
    "    test_acc.append(mean_absolute_error(y_test, y_test_pred))\n",
    "\n",
    "fig = plt.figure(figsize=(16,9))\n",
    "ax1 = fig.add_subplot(111)\n",
    "\n",
    "ax1.scatter(range(1, 21), train_acc, s=10, c='b', marker=\"s\", label='Training MAE')\n",
    "ax1.scatter(range(1, 21) ,test_acc, s=10, c='r', marker=\"o\", label='Testing MAE')\n",
    "ax1.set_ylabel(\"MAE\")\n",
    "ax1.set_xlabel(\"Max Depth\")\n",
    "plt.legend(loc='upper left');\n",
    "plt.show()"
   ]
  },
  {
   "cell_type": "code",
   "execution_count": 41,
   "metadata": {},
   "outputs": [
    {
     "name": "stdout",
     "output_type": "stream",
     "text": [
      "Depth:1 test_acc: 41391.1917265808 train_acc: 41167.96892239365\n",
      "Depth:2 test_acc: 31263.02861427866 train_acc: 29054.83938904735\n",
      "Depth:3 test_acc: 26603.165162311278 train_acc: 23221.88405664082\n",
      "Depth:4 test_acc: 23703.980650417398 train_acc: 19199.293629708638\n",
      "Depth:5 test_acc: 21701.154343924674 train_acc: 15906.788961997063\n",
      "Depth:6 test_acc: 20444.758685101413 train_acc: 13510.642252267076\n",
      "Depth:7 test_acc: 19803.98089710826 train_acc: 11449.001414807544\n",
      "Depth:8 test_acc: 19325.27384295322 train_acc: 9895.773420948586\n",
      "Depth:9 test_acc: 19112.878565470506 train_acc: 8702.10585795369\n",
      "Depth:10 test_acc: 19107.120640693698 train_acc: 7842.348471088748\n",
      "Depth:11 test_acc: 18907.634132464336 train_acc: 7265.702701306493\n",
      "Depth:12 test_acc: 19044.243914473594 train_acc: 6972.187810120119\n",
      "Depth:13 test_acc: 18855.483034728415 train_acc: 6769.840424324076\n",
      "Depth:14 test_acc: 19057.73482590317 train_acc: 6651.952576408859\n",
      "Depth:15 test_acc: 19068.7794163548 train_acc: 6605.471201113138\n",
      "Depth:16 test_acc: 19108.589269751385 train_acc: 6534.859980913295\n",
      "Depth:17 test_acc: 19015.415604667654 train_acc: 6555.22052998392\n",
      "Depth:18 test_acc: 19095.820959597197 train_acc: 6508.982930369136\n",
      "Depth:19 test_acc: 19072.646319399573 train_acc: 6554.1179361624745\n",
      "Depth:20 test_acc: 19080.995625957163 train_acc: 6522.37867109902\n"
     ]
    }
   ],
   "source": [
    "for i in range(20):\n",
    "    print(\"Depth:\"+str(i+1) + \" test_acc: \"+str(test_acc[i]) + \" train_acc: \"+str(train_acc[i]))"
   ]
  },
  {
   "cell_type": "markdown",
   "metadata": {},
   "source": [
    "#### The Chosen Max Depth = 7"
   ]
  },
  {
   "cell_type": "markdown",
   "metadata": {},
   "source": [
    "#### max_depth = 13 is better in the test MAE, but we think it's in overfit, so we chose max_depth = 7 "
   ]
  },
  {
   "cell_type": "code",
   "execution_count": 42,
   "metadata": {},
   "outputs": [
    {
     "name": "stdout",
     "output_type": "stream",
     "text": [
      "RandomForestRegressor mean absolute error is 19795.0258 (MAE train 11448.7081)\n"
     ]
    }
   ],
   "source": [
    "from sklearn.ensemble import RandomForestRegressor\n",
    "n_estimators = 150\n",
    "max_depth = 7\n",
    "random_forest = RandomForestRegressor(n_estimators=n_estimators, max_depth=max_depth, random_state=101)\n",
    "model_mae, model_mae_train, model_name = check_regressor(random_forest, X_train, y_train, X_test, y_test)\n",
    "models_errors[model_name] = model_mae\n",
    "models_errors_train[model_name] = model_mae_train"
   ]
  },
  {
   "cell_type": "code",
   "execution_count": 43,
   "metadata": {},
   "outputs": [
    {
     "data": {
      "text/html": [
       "<div>\n",
       "<style scoped>\n",
       "    .dataframe tbody tr th:only-of-type {\n",
       "        vertical-align: middle;\n",
       "    }\n",
       "\n",
       "    .dataframe tbody tr th {\n",
       "        vertical-align: top;\n",
       "    }\n",
       "\n",
       "    .dataframe thead th {\n",
       "        text-align: right;\n",
       "    }\n",
       "</style>\n",
       "<table border=\"1\" class=\"dataframe\">\n",
       "  <thead>\n",
       "    <tr style=\"text-align: right;\">\n",
       "      <th></th>\n",
       "      <th>importance</th>\n",
       "    </tr>\n",
       "  </thead>\n",
       "  <tbody>\n",
       "    <tr>\n",
       "      <th>MasVnrArea</th>\n",
       "      <td>0.009816</td>\n",
       "    </tr>\n",
       "    <tr>\n",
       "      <th>FullBath</th>\n",
       "      <td>0.010385</td>\n",
       "    </tr>\n",
       "    <tr>\n",
       "      <th>Intract_Garage_area</th>\n",
       "      <td>0.010629</td>\n",
       "    </tr>\n",
       "    <tr>\n",
       "      <th>interact_Garage_cars</th>\n",
       "      <td>0.010724</td>\n",
       "    </tr>\n",
       "    <tr>\n",
       "      <th>GarageCars</th>\n",
       "      <td>0.015749</td>\n",
       "    </tr>\n",
       "    <tr>\n",
       "      <th>BsmtFinSF1</th>\n",
       "      <td>0.018032</td>\n",
       "    </tr>\n",
       "    <tr>\n",
       "      <th>1stFlrSF</th>\n",
       "      <td>0.018599</td>\n",
       "    </tr>\n",
       "    <tr>\n",
       "      <th>TotalBsmtSF</th>\n",
       "      <td>0.028621</td>\n",
       "    </tr>\n",
       "    <tr>\n",
       "      <th>2ndFlrSF</th>\n",
       "      <td>0.029442</td>\n",
       "    </tr>\n",
       "    <tr>\n",
       "      <th>Interact_Qual_area</th>\n",
       "      <td>0.040578</td>\n",
       "    </tr>\n",
       "    <tr>\n",
       "      <th>Neighborhood_Rich</th>\n",
       "      <td>0.069347</td>\n",
       "    </tr>\n",
       "    <tr>\n",
       "      <th>GrLivArea</th>\n",
       "      <td>0.100401</td>\n",
       "    </tr>\n",
       "    <tr>\n",
       "      <th>OverallQual</th>\n",
       "      <td>0.555075</td>\n",
       "    </tr>\n",
       "  </tbody>\n",
       "</table>\n",
       "</div>"
      ],
      "text/plain": [
       "                      importance\n",
       "MasVnrArea              0.009816\n",
       "FullBath                0.010385\n",
       "Intract_Garage_area     0.010629\n",
       "interact_Garage_cars    0.010724\n",
       "GarageCars              0.015749\n",
       "BsmtFinSF1              0.018032\n",
       "1stFlrSF                0.018599\n",
       "TotalBsmtSF             0.028621\n",
       "2ndFlrSF                0.029442\n",
       "Interact_Qual_area      0.040578\n",
       "Neighborhood_Rich       0.069347\n",
       "GrLivArea               0.100401\n",
       "OverallQual             0.555075"
      ]
     },
     "execution_count": 43,
     "metadata": {},
     "output_type": "execute_result"
    }
   ],
   "source": [
    "feature_importances = random_forest.feature_importances_\n",
    "features = X_train.columns\n",
    "stats = pd.DataFrame({'importance':feature_importances},index=features)\n",
    "stats = stats.sort_values(by=['importance'])\n",
    "importnce = stats.tail(13)\n",
    "importnce"
   ]
  },
  {
   "cell_type": "markdown",
   "metadata": {},
   "source": [
    "### Gradient Boosting"
   ]
  },
  {
   "cell_type": "code",
   "execution_count": 44,
   "metadata": {},
   "outputs": [
    {
     "name": "stdout",
     "output_type": "stream",
     "text": [
      "GradientBoostingRegressor mean absolute error is 17536.8757 (MAE train 10780.0769)\n"
     ]
    }
   ],
   "source": [
    "from sklearn.ensemble import GradientBoostingRegressor\n",
    "\n",
    "gradient = GradientBoostingRegressor(random_state=101)\n",
    "model_mae, model_mae_train, model_name = check_regressor(gradient, X_train_scaled, y_train, X_test_scaled, y_test)\n",
    "models_errors[model_name] = model_mae\n",
    "models_errors_train[model_name] = model_mae_train"
   ]
  },
  {
   "cell_type": "code",
   "execution_count": 45,
   "metadata": {},
   "outputs": [
    {
     "data": {
      "text/html": [
       "<div>\n",
       "<style scoped>\n",
       "    .dataframe tbody tr th:only-of-type {\n",
       "        vertical-align: middle;\n",
       "    }\n",
       "\n",
       "    .dataframe tbody tr th {\n",
       "        vertical-align: top;\n",
       "    }\n",
       "\n",
       "    .dataframe thead th {\n",
       "        text-align: right;\n",
       "    }\n",
       "</style>\n",
       "<table border=\"1\" class=\"dataframe\">\n",
       "  <thead>\n",
       "    <tr style=\"text-align: right;\">\n",
       "      <th></th>\n",
       "      <th>importance</th>\n",
       "    </tr>\n",
       "  </thead>\n",
       "  <tbody>\n",
       "    <tr>\n",
       "      <th>FullBath</th>\n",
       "      <td>0.011287</td>\n",
       "    </tr>\n",
       "    <tr>\n",
       "      <th>1stFlrSF</th>\n",
       "      <td>0.011405</td>\n",
       "    </tr>\n",
       "    <tr>\n",
       "      <th>BsmtQual_Ex</th>\n",
       "      <td>0.011573</td>\n",
       "    </tr>\n",
       "    <tr>\n",
       "      <th>YearBuilt</th>\n",
       "      <td>0.012664</td>\n",
       "    </tr>\n",
       "    <tr>\n",
       "      <th>ExterQual_scale</th>\n",
       "      <td>0.019683</td>\n",
       "    </tr>\n",
       "    <tr>\n",
       "      <th>interact_Garage_cars</th>\n",
       "      <td>0.020955</td>\n",
       "    </tr>\n",
       "    <tr>\n",
       "      <th>BsmtFinSF1</th>\n",
       "      <td>0.028445</td>\n",
       "    </tr>\n",
       "    <tr>\n",
       "      <th>2ndFlrSF</th>\n",
       "      <td>0.032109</td>\n",
       "    </tr>\n",
       "    <tr>\n",
       "      <th>GarageCars</th>\n",
       "      <td>0.033977</td>\n",
       "    </tr>\n",
       "    <tr>\n",
       "      <th>TotalBsmtSF</th>\n",
       "      <td>0.037401</td>\n",
       "    </tr>\n",
       "    <tr>\n",
       "      <th>Neighborhood_Rich</th>\n",
       "      <td>0.055406</td>\n",
       "    </tr>\n",
       "    <tr>\n",
       "      <th>Interact_Qual_area</th>\n",
       "      <td>0.063981</td>\n",
       "    </tr>\n",
       "    <tr>\n",
       "      <th>GrLivArea</th>\n",
       "      <td>0.114293</td>\n",
       "    </tr>\n",
       "    <tr>\n",
       "      <th>OverallQual</th>\n",
       "      <td>0.479669</td>\n",
       "    </tr>\n",
       "  </tbody>\n",
       "</table>\n",
       "</div>"
      ],
      "text/plain": [
       "                      importance\n",
       "FullBath                0.011287\n",
       "1stFlrSF                0.011405\n",
       "BsmtQual_Ex             0.011573\n",
       "YearBuilt               0.012664\n",
       "ExterQual_scale         0.019683\n",
       "interact_Garage_cars    0.020955\n",
       "BsmtFinSF1              0.028445\n",
       "2ndFlrSF                0.032109\n",
       "GarageCars              0.033977\n",
       "TotalBsmtSF             0.037401\n",
       "Neighborhood_Rich       0.055406\n",
       "Interact_Qual_area      0.063981\n",
       "GrLivArea               0.114293\n",
       "OverallQual             0.479669"
      ]
     },
     "execution_count": 45,
     "metadata": {},
     "output_type": "execute_result"
    }
   ],
   "source": [
    "feature_importances = gradient.feature_importances_\n",
    "features = X_train.columns\n",
    "stats = pd.DataFrame({'importance':feature_importances},index=features)\n",
    "stats = stats.sort_values(by=['importance'])\n",
    "importnce = stats.tail(14)\n",
    "importnce"
   ]
  },
  {
   "cell_type": "markdown",
   "metadata": {},
   "source": [
    "### AdaBoost"
   ]
  },
  {
   "cell_type": "code",
   "execution_count": 46,
   "metadata": {},
   "outputs": [
    {
     "name": "stdout",
     "output_type": "stream",
     "text": [
      "AdaBoostRegressor mean absolute error is 19141.4041 (MAE train 10543.8346)\n"
     ]
    }
   ],
   "source": [
    "from sklearn.ensemble import AdaBoostRegressor\n",
    "\n",
    "n_estimators = 150\n",
    "max_depth = 6\n",
    "base_estimator = DecisionTreeRegressor(max_depth=max_depth)\n",
    "ada_boost_decision_tree = AdaBoostRegressor(random_state=101, n_estimators=n_estimators, base_estimator=base_estimator)\n",
    "model_mae, model_mae_train, model_name = check_regressor(ada_boost_decision_tree, X_train, y_train, X_test, y_test)\n",
    "models_errors[model_name] = model_mae\n",
    "models_errors_train[model_name] = model_mae_train"
   ]
  },
  {
   "cell_type": "markdown",
   "metadata": {},
   "source": [
    "### Ada Boost with random forest"
   ]
  },
  {
   "cell_type": "code",
   "execution_count": 47,
   "metadata": {},
   "outputs": [
    {
     "name": "stdout",
     "output_type": "stream",
     "text": [
      "AdaBoostRegressor mean absolute error is 18686.2885 (MAE train 9516.6951)\n"
     ]
    }
   ],
   "source": [
    "n_estimators = 30\n",
    "max_depth = 7\n",
    "base_estimator = RandomForestRegressor(max_depth=max_depth)\n",
    "ada_boost_random_forest = AdaBoostRegressor(random_state=101, n_estimators=n_estimators, base_estimator=base_estimator)\n",
    "model_mae, model_mae_train, model_name = check_regressor(ada_boost_random_forest, X_train, y_train, X_test, y_test)\n",
    "models_errors[model_name] = model_mae\n",
    "models_errors_train[model_name] = model_mae_train"
   ]
  },
  {
   "cell_type": "markdown",
   "metadata": {},
   "source": [
    "# Performance Comparision"
   ]
  },
  {
   "cell_type": "code",
   "execution_count": 48,
   "metadata": {},
   "outputs": [
    {
     "data": {
      "text/html": [
       "<div>\n",
       "<style scoped>\n",
       "    .dataframe tbody tr th:only-of-type {\n",
       "        vertical-align: middle;\n",
       "    }\n",
       "\n",
       "    .dataframe tbody tr th {\n",
       "        vertical-align: top;\n",
       "    }\n",
       "\n",
       "    .dataframe thead th {\n",
       "        text-align: right;\n",
       "    }\n",
       "</style>\n",
       "<table border=\"1\" class=\"dataframe\">\n",
       "  <thead>\n",
       "    <tr style=\"text-align: right;\">\n",
       "      <th></th>\n",
       "      <th>train</th>\n",
       "      <th>test</th>\n",
       "    </tr>\n",
       "  </thead>\n",
       "  <tbody>\n",
       "    <tr>\n",
       "      <th>GradientBoostingRegressor</th>\n",
       "      <td>10780.076920</td>\n",
       "      <td>17536.875746</td>\n",
       "    </tr>\n",
       "    <tr>\n",
       "      <th>AdaBoostRegressor</th>\n",
       "      <td>9516.695052</td>\n",
       "      <td>18686.288495</td>\n",
       "    </tr>\n",
       "    <tr>\n",
       "      <th>RandomForestRegressor</th>\n",
       "      <td>11448.708100</td>\n",
       "      <td>19795.025819</td>\n",
       "    </tr>\n",
       "    <tr>\n",
       "      <th>Lasso</th>\n",
       "      <td>17677.691468</td>\n",
       "      <td>20095.267527</td>\n",
       "    </tr>\n",
       "    <tr>\n",
       "      <th>LinearRegression</th>\n",
       "      <td>17856.352140</td>\n",
       "      <td>20153.733708</td>\n",
       "    </tr>\n",
       "    <tr>\n",
       "      <th>KNeighborsRegressorScaled</th>\n",
       "      <td>20416.692940</td>\n",
       "      <td>24424.921739</td>\n",
       "    </tr>\n",
       "    <tr>\n",
       "      <th>DecisionTreeRegressor</th>\n",
       "      <td>16575.293581</td>\n",
       "      <td>26028.138849</td>\n",
       "    </tr>\n",
       "    <tr>\n",
       "      <th>Benchmark</th>\n",
       "      <td>57103.556809</td>\n",
       "      <td>56659.156017</td>\n",
       "    </tr>\n",
       "  </tbody>\n",
       "</table>\n",
       "</div>"
      ],
      "text/plain": [
       "                                  train          test\n",
       "GradientBoostingRegressor  10780.076920  17536.875746\n",
       "AdaBoostRegressor           9516.695052  18686.288495\n",
       "RandomForestRegressor      11448.708100  19795.025819\n",
       "Lasso                      17677.691468  20095.267527\n",
       "LinearRegression           17856.352140  20153.733708\n",
       "KNeighborsRegressorScaled  20416.692940  24424.921739\n",
       "DecisionTreeRegressor      16575.293581  26028.138849\n",
       "Benchmark                  57103.556809  56659.156017"
      ]
     },
     "execution_count": 48,
     "metadata": {},
     "output_type": "execute_result"
    }
   ],
   "source": [
    "def compare_performance(models_errors_train, models_errors):\n",
    "    return pd.DataFrame({'train':models_errors_train, 'test':models_errors}).sort_values('test')\n",
    "\n",
    "x = compare_performance(models_errors_train, models_errors)\n",
    "x"
   ]
  },
  {
   "cell_type": "code",
   "execution_count": 49,
   "metadata": {},
   "outputs": [
    {
     "data": {
      "image/png": "[encoded data removed]",
      "text/plain": [
       "<Figure size 1152x648 with 1 Axes>"
      ]
     },
     "metadata": {
      "needs_background": "light"
     },
     "output_type": "display_data"
    }
   ],
   "source": [
    "train = x['train'].values.tolist()\n",
    "test = x['test'].values.tolist()\n",
    "index = ['GradientBoosting', 'AdaBoost', 'RandomForest',\n",
    "         'Lasso', 'LinearRegression', 'KNeighborsScaled', 'DecisionTree','Benchmark']\n",
    "df = pd.DataFrame({'Train': train,\n",
    "                   'Test': test}, index=index)\n",
    "ax = df.plot.bar(rot=80,colormap='flag',figsize = (16,9));\n",
    "plt.title('Differences between train and test in each algorithm');\n",
    "plt.ylabel('Mean-Absolute-Error');"
   ]
  },
  {
   "cell_type": "markdown",
   "metadata": {},
   "source": [
    "# Cross Validation "
   ]
  },
  {
   "cell_type": "code",
   "execution_count": 67,
   "metadata": {},
   "outputs": [],
   "source": [
    "from sklearn.model_selection import cross_validate\n",
    "cross_validation = {}"
   ]
  },
  {
   "cell_type": "markdown",
   "metadata": {},
   "source": [
    "### Gradineat boost"
   ]
  },
  {
   "cell_type": "code",
   "execution_count": 68,
   "metadata": {},
   "outputs": [
    {
     "name": "stdout",
     "output_type": "stream",
     "text": [
      "Cross Validate MAE in Gradient is: 16711.851840582192\n"
     ]
    }
   ],
   "source": [
    "from sklearn.ensemble import GradientBoostingRegressor\n",
    "gradient = GradientBoostingRegressor(n_estimators=150)\n",
    "X = df.drop('SalePrice',axis=1)\n",
    "y = df['SalePrice']\n",
    "score = cross_validate(gradient,X=X,y=y, cv=9, scoring='neg_mean_absolute_error')\n",
    "print(\"Cross Validate MAE in Gradient is: \" + str(abs(score['test_score'].mean())))\n",
    "cross_validation['gradient'] = abs(score['test_score'].mean())"
   ]
  },
  {
   "cell_type": "markdown",
   "metadata": {},
   "source": [
    "### Ada Boost"
   ]
  },
  {
   "cell_type": "code",
   "execution_count": 69,
   "metadata": {},
   "outputs": [
    {
     "name": "stdout",
     "output_type": "stream",
     "text": [
      "Cross Validate MAE in ada_boost_random_forest is: 18704.709370050132\n"
     ]
    }
   ],
   "source": [
    "from sklearn.ensemble import RandomForestRegressor\n",
    "from sklearn.ensemble import AdaBoostRegressor\n",
    "\n",
    "n_estimators = 30\n",
    "max_depth = 5\n",
    "base_estimator = RandomForestRegressor(max_depth=max_depth)\n",
    "ada_boost_random_forest = AdaBoostRegressor(random_state=101, n_estimators=n_estimators, base_estimator=base_estimator)\n",
    "X = df.drop('SalePrice',axis=1)\n",
    "y = df['SalePrice']\n",
    "score = cross_validate(ada_boost_random_forest,X=X,y=y, cv=6, scoring='neg_mean_absolute_error')\n",
    "print(\"Cross Validate MAE in ada_boost_random_forest is: \" + str(abs(score['test_score'].mean())))\n",
    "cross_validation['ada_boost'] = abs(score['test_score'].mean())"
   ]
  },
  {
   "cell_type": "code",
   "execution_count": 70,
   "metadata": {},
   "outputs": [
    {
     "name": "stdout",
     "output_type": "stream",
     "text": [
      "Cross Validate MAE in ada_boost_decision_tree is: 18448.835153366188\n"
     ]
    }
   ],
   "source": [
    "from sklearn.ensemble import AdaBoostRegressor\n",
    "from sklearn.tree import DecisionTreeRegressor\n",
    "\n",
    "n_estimators = 150\n",
    "max_depth = 6\n",
    "base_estimator = DecisionTreeRegressor(max_depth=max_depth)\n",
    "ada_boost_decision_tree = AdaBoostRegressor(random_state=101, n_estimators=n_estimators, base_estimator=base_estimator)\n",
    "X = df.drop('SalePrice',axis=1)\n",
    "y = df['SalePrice']\n",
    "score = cross_validate(ada_boost_decision_tree,X=X,y=y, cv=6, scoring='neg_mean_absolute_error')\n",
    "print(\"Cross Validate MAE in ada_boost_decision_tree is: \" + str(abs(score['test_score'].mean())))\n",
    "cross_validation['ada_boost'] = abs(score['test_score'].mean())"
   ]
  },
  {
   "cell_type": "markdown",
   "metadata": {},
   "source": [
    "### Random Forest"
   ]
  },
  {
   "cell_type": "code",
   "execution_count": 71,
   "metadata": {},
   "outputs": [
    {
     "name": "stdout",
     "output_type": "stream",
     "text": [
      "Cross Validate MAE in Random forest is: 17695.7788899382\n"
     ]
    }
   ],
   "source": [
    "from sklearn.ensemble import RandomForestRegressor\n",
    "random_forest = RandomForestRegressor(max_depth=13, n_estimators=150)\n",
    "X = df.drop('SalePrice',axis=1)\n",
    "y = df['SalePrice']\n",
    "score = cross_validate(random_forest,X=X,y=y, cv=6, scoring='neg_mean_absolute_error')\n",
    "print(\"Cross Validate MAE in Random forest is: \" + str(abs(score['test_score'].mean())))\n",
    "cross_validation['random _forest'] = abs(score['test_score'].mean())"
   ]
  },
  {
   "cell_type": "markdown",
   "metadata": {},
   "source": [
    "### Lasso"
   ]
  },
  {
   "cell_type": "code",
   "execution_count": 72,
   "metadata": {},
   "outputs": [
    {
     "name": "stdout",
     "output_type": "stream",
     "text": [
      "Cross Validate MAE in Lasso is: 19185.426544663107\n"
     ]
    }
   ],
   "source": [
    "from sklearn.linear_model import Lasso\n",
    "lasso = Lasso(alpha=11, normalize=True)\n",
    "X = df.drop('SalePrice',axis=1)\n",
    "y = df['SalePrice']\n",
    "score = cross_validate(lasso,X=X,y=y, cv=6, scoring='neg_mean_absolute_error')\n",
    "print(\"Cross Validate MAE in Lasso is: \" + str(abs(score['test_score'].mean())))\n",
    "cross_validation['lasso'] = abs(score['test_score'].mean())"
   ]
  },
  {
   "cell_type": "markdown",
   "metadata": {},
   "source": [
    "### Linear Regression"
   ]
  },
  {
   "cell_type": "code",
   "execution_count": 73,
   "metadata": {},
   "outputs": [
    {
     "name": "stdout",
     "output_type": "stream",
     "text": [
      "Cross Validate MAE in Linear regression is: 19581.52739514904\n"
     ]
    }
   ],
   "source": [
    "from sklearn.linear_model import LinearRegression\n",
    "lm = LinearRegression()\n",
    "X = df.drop('SalePrice',axis=1)\n",
    "y = df['SalePrice']\n",
    "score = cross_validate(lm,X=X,y=y, cv=6, scoring='neg_mean_absolute_error')\n",
    "print(\"Cross Validate MAE in Linear regression is: \" + str(abs(score['test_score'].mean())))\n",
    "cross_validation['lm'] = abs(score['test_score'].mean())"
   ]
  },
  {
   "cell_type": "markdown",
   "metadata": {},
   "source": [
    "### KNN"
   ]
  },
  {
   "cell_type": "code",
   "execution_count": 74,
   "metadata": {},
   "outputs": [
    {
     "name": "stdout",
     "output_type": "stream",
     "text": [
      "Cross Validate MAE in KNN is: 27629.977692189463\n"
     ]
    }
   ],
   "source": [
    "from sklearn.neighbors import KNeighborsRegressor\n",
    "knn = KNeighborsRegressor(n_neighbors=7)\n",
    "X = df.drop('SalePrice',axis=1)\n",
    "y = df['SalePrice']\n",
    "score = cross_validate(knn,X=X,y=y, cv=6, scoring='neg_mean_absolute_error')\n",
    "print(\"Cross Validate MAE in KNN is: \" + str(abs(score['test_score'].mean())))\n",
    "cross_validation['KNN'] = abs(score['test_score'].mean())"
   ]
  },
  {
   "cell_type": "markdown",
   "metadata": {},
   "source": [
    "### Decision tree"
   ]
  },
  {
   "cell_type": "code",
   "execution_count": 75,
   "metadata": {},
   "outputs": [
    {
     "name": "stdout",
     "output_type": "stream",
     "text": [
      "Cross Validate MAE in decision tree is: 25119.91554155598\n"
     ]
    }
   ],
   "source": [
    "from sklearn.tree import DecisionTreeRegressor\n",
    "decision_tree = DecisionTreeRegressor(max_depth=6)\n",
    "X = df.drop('SalePrice',axis=1)\n",
    "y = df['SalePrice']\n",
    "score = cross_validate(decision_tree,X=X,y=y, cv=6, scoring='neg_mean_absolute_error')\n",
    "print(\"Cross Validate MAE in decision tree is: \" + str(abs(score['test_score'].mean())))\n",
    "cross_validation['decision_tree'] = abs(score['test_score'].mean())"
   ]
  },
  {
   "cell_type": "markdown",
   "metadata": {},
   "source": [
    "### Benchmark"
   ]
  },
  {
   "cell_type": "code",
   "execution_count": 76,
   "metadata": {},
   "outputs": [
    {
     "name": "stdout",
     "output_type": "stream",
     "text": [
      "Benchmark mean absolute error is 56659.1560 (MAE train 57103.5568)\n"
     ]
    }
   ],
   "source": [
    "benchmark = Benchmark()\n",
    "model_mae, model_mae_train, model_name = check_regressor(benchmark, X_train, y_train, X_test, y_test)\n",
    "cross_validation['benchmark'] = model_mae"
   ]
  },
  {
   "cell_type": "code",
   "execution_count": 77,
   "metadata": {},
   "outputs": [
    {
     "data": {
      "text/plain": [
       "{'gradient': 16711.851840582192,\n",
       " 'ada_boost': 18448.835153366188,\n",
       " 'random _forest': 17695.7788899382,\n",
       " 'lasso': 19185.426544663107,\n",
       " 'lm': 19581.52739514904,\n",
       " 'KNN': 27629.977692189463,\n",
       " 'decision_tree': 25119.91554155598,\n",
       " 'benchmark': 56659.15601715584}"
      ]
     },
     "execution_count": 77,
     "metadata": {},
     "output_type": "execute_result"
    }
   ],
   "source": [
    "cross_validation"
   ]
  },
  {
   "cell_type": "code",
   "execution_count": 78,
   "metadata": {},
   "outputs": [
    {
     "data": {
      "text/html": [
       "<div>\n",
       "<style scoped>\n",
       "    .dataframe tbody tr th:only-of-type {\n",
       "        vertical-align: middle;\n",
       "    }\n",
       "\n",
       "    .dataframe tbody tr th {\n",
       "        vertical-align: top;\n",
       "    }\n",
       "\n",
       "    .dataframe thead th {\n",
       "        text-align: right;\n",
       "    }\n",
       "</style>\n",
       "<table border=\"1\" class=\"dataframe\">\n",
       "  <thead>\n",
       "    <tr style=\"text-align: right;\">\n",
       "      <th></th>\n",
       "      <th>train</th>\n",
       "      <th>test</th>\n",
       "      <th>cross_validation</th>\n",
       "    </tr>\n",
       "  </thead>\n",
       "  <tbody>\n",
       "    <tr>\n",
       "      <th>GradientBoostingRegressor</th>\n",
       "      <td>10780.076920</td>\n",
       "      <td>17536.875746</td>\n",
       "      <td>16711.851841</td>\n",
       "    </tr>\n",
       "    <tr>\n",
       "      <th>AdaBoostRegressor</th>\n",
       "      <td>9516.695052</td>\n",
       "      <td>18686.288495</td>\n",
       "      <td>18448.835153</td>\n",
       "    </tr>\n",
       "    <tr>\n",
       "      <th>RandomForestRegressor</th>\n",
       "      <td>11448.708100</td>\n",
       "      <td>19795.025819</td>\n",
       "      <td>17695.778890</td>\n",
       "    </tr>\n",
       "    <tr>\n",
       "      <th>Lasso</th>\n",
       "      <td>17677.691468</td>\n",
       "      <td>20095.267527</td>\n",
       "      <td>19185.426545</td>\n",
       "    </tr>\n",
       "    <tr>\n",
       "      <th>LinearRegression</th>\n",
       "      <td>17856.352140</td>\n",
       "      <td>20153.733708</td>\n",
       "      <td>19581.527395</td>\n",
       "    </tr>\n",
       "    <tr>\n",
       "      <th>KNeighborsRegressorScaled</th>\n",
       "      <td>20416.692940</td>\n",
       "      <td>24424.921739</td>\n",
       "      <td>27629.977692</td>\n",
       "    </tr>\n",
       "    <tr>\n",
       "      <th>DecisionTreeRegressor</th>\n",
       "      <td>16575.293581</td>\n",
       "      <td>26028.138849</td>\n",
       "      <td>25119.915542</td>\n",
       "    </tr>\n",
       "    <tr>\n",
       "      <th>Benchmark</th>\n",
       "      <td>57103.556809</td>\n",
       "      <td>56659.156017</td>\n",
       "      <td>56659.156017</td>\n",
       "    </tr>\n",
       "  </tbody>\n",
       "</table>\n",
       "</div>"
      ],
      "text/plain": [
       "                                  train          test  cross_validation\n",
       "GradientBoostingRegressor  10780.076920  17536.875746      16711.851841\n",
       "AdaBoostRegressor           9516.695052  18686.288495      18448.835153\n",
       "RandomForestRegressor      11448.708100  19795.025819      17695.778890\n",
       "Lasso                      17677.691468  20095.267527      19185.426545\n",
       "LinearRegression           17856.352140  20153.733708      19581.527395\n",
       "KNeighborsRegressorScaled  20416.692940  24424.921739      27629.977692\n",
       "DecisionTreeRegressor      16575.293581  26028.138849      25119.915542\n",
       "Benchmark                  57103.556809  56659.156017      56659.156017"
      ]
     },
     "execution_count": 78,
     "metadata": {},
     "output_type": "execute_result"
    }
   ],
   "source": [
    "x['cross_validation'] = cross_validation.values()\n",
    "x"
   ]
  },
  {
   "cell_type": "code",
   "execution_count": 79,
   "metadata": {
    "scrolled": false
   },
   "outputs": [
    {
     "data": {
      "image/png": "[encoded data removed]",
      "text/plain": [
       "<Figure size 1152x648 with 1 Axes>"
      ]
     },
     "metadata": {
      "needs_background": "light"
     },
     "output_type": "display_data"
    }
   ],
   "source": [
    "train = x['train'].values.tolist()\n",
    "test = x['test'].values.tolist()\n",
    "cv = x['cross_validation'].values.tolist()\n",
    "index = ['GradientBoosting', 'AdaBoost', 'RandomForest',\n",
    "         'Lasso', 'LinearRegression', 'KNeighborsScaled', 'DecisionTree','Benchmark']\n",
    "df = pd.DataFrame({'Train': train,\n",
    "                   'Test': test,\n",
    "                  'Cross_validation' : cv}, index=index)\n",
    "ax = df.plot.bar(rot=80,colormap='flag',figsize = (16,9));\n",
    "plt.title('Differences between train and test in each algorithm');\n",
    "plt.ylabel('Mean-Absolute-Error');"
   ]
  },
  {
   "cell_type": "markdown",
   "metadata": {},
   "source": [
    "## Q8 \n",
    "### Hyperparameters"
   ]
  },
  {
   "cell_type": "code",
   "execution_count": 99,
   "metadata": {},
   "outputs": [],
   "source": [
    "from sklearn.ensemble import GradientBoostingRegressor\n",
    "test_mae = []\n",
    "x=[]\n",
    "\n",
    "for i in range(2,20):\n",
    "    gradient = GradientBoostingRegressor(n_estimators=150)\n",
    "    X = df.drop('SalePrice',axis=1)\n",
    "    y = df['SalePrice']\n",
    "    score = cross_validate(gradient,X=X,y=y, cv=i, scoring='neg_mean_absolute_error')\n",
    "    test_mae.append(abs(score['test_score'].mean()))\n",
    "    x.append(i)"
   ]
  },
  {
   "cell_type": "code",
   "execution_count": 100,
   "metadata": {},
   "outputs": [
    {
     "data": {
      "text/plain": [
       "Text(0.5, 0, 'CV Size')"
      ]
     },
     "execution_count": 100,
     "metadata": {},
     "output_type": "execute_result"
    },
    {
     "data": {
      "image/png": "[encoded data removed]",
      "text/plain": [
       "<Figure size 1152x648 with 1 Axes>"
      ]
     },
     "metadata": {
      "needs_background": "light"
     },
     "output_type": "display_data"
    }
   ],
   "source": [
    "plt.figure(figsize=(16,9))\n",
    "plt.scatter(x[:], test_mae[:], s=200,color='Black' )\n",
    "plt.ylabel('MAE')\n",
    "plt.xlabel('CV Size')"
   ]
  },
  {
   "cell_type": "markdown",
   "metadata": {},
   "source": [
    "### 9.A"
   ]
  },
  {
   "cell_type": "code",
   "execution_count": 101,
   "metadata": {},
   "outputs": [],
   "source": [
    "gradient = GradientBoostingRegressor(random_state=101)\n",
    "\n",
    "# the list is calculated by multiple the precentage of 0.1,0.3,0.5,0.7,1 with the sum of the rows in the data. \n",
    "precentage = [0.1,0.3,0.5,0.7,1]\n",
    "list = [137,413,690,965,1379]\n",
    "MAE = []\n",
    "for item in list:\n",
    "        X_r_train, y_r_train = X_train[:item],y_train[:item]\n",
    "        gradient.fit(X_r_train,y_r_train)\n",
    "        pred = gradient.predict(X_test)\n",
    "        MAE.append(mean_absolute_error(y_test,pred))\n"
   ]
  },
  {
   "cell_type": "code",
   "execution_count": 102,
   "metadata": {},
   "outputs": [
    {
     "data": {
      "text/plain": [
       "Text(0.5, 0, 'Train Size')"
      ]
     },
     "execution_count": 102,
     "metadata": {},
     "output_type": "execute_result"
    },
    {
     "data": {
      "image/png": "[encoded data removed]",
      "text/plain": [
       "<Figure size 1152x648 with 1 Axes>"
      ]
     },
     "metadata": {
      "needs_background": "light"
     },
     "output_type": "display_data"
    }
   ],
   "source": [
    "plt.figure(figsize=(16,9))\n",
    "plt.scatter(precentage[:], MAE[:], s=200,color='Black' )\n",
    "plt.ylabel('MAE')\n",
    "plt.xlabel('Train Size')"
   ]
  },
  {
   "cell_type": "code",
   "execution_count": null,
   "metadata": {},
   "outputs": [],
   "source": []
  }
 ],
 "metadata": {
  "kernelspec": {
   "display_name": "Python 3",
   "language": "python",
   "name": "python3"
  },
  "language_info": {
   "codemirror_mode": {
    "name": "ipython",
    "version": 3
   },
   "file_extension": ".py",
   "mimetype": "text/x-python",
   "name": "python",
   "nbconvert_exporter": "python",
   "pygments_lexer": "ipython3",
   "version": "3.7.6"
  }
 },
 "nbformat": 4,
 "nbformat_minor": 4
}
