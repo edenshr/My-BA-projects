{
 "cells": [
  {
   "cell_type": "markdown",
   "metadata": {},
   "source": [
    "## Classification Problem - Adult Dataset"
   ]
  },
  {
   "cell_type": "code",
   "execution_count": 72,
   "metadata": {},
   "outputs": [],
   "source": [
    "import pandas as pd\n",
    "import numpy as np\n",
    "import seaborn as sns\n",
    "from matplotlib import pyplot as plt"
   ]
  },
  {
   "cell_type": "code",
   "execution_count": 73,
   "metadata": {},
   "outputs": [],
   "source": [
    "df = pd.read_csv('//Users//edenshrian//Desktop//Documents// Eden Shrian//Eden//Others//data.csv')"
   ]
  },
  {
   "cell_type": "code",
   "execution_count": 74,
   "metadata": {},
   "outputs": [
    {
     "data": {
      "text/html": [
       "<div>\n",
       "<style scoped>\n",
       "    .dataframe tbody tr th:only-of-type {\n",
       "        vertical-align: middle;\n",
       "    }\n",
       "\n",
       "    .dataframe tbody tr th {\n",
       "        vertical-align: top;\n",
       "    }\n",
       "\n",
       "    .dataframe thead th {\n",
       "        text-align: right;\n",
       "    }\n",
       "</style>\n",
       "<table border=\"1\" class=\"dataframe\">\n",
       "  <thead>\n",
       "    <tr style=\"text-align: right;\">\n",
       "      <th></th>\n",
       "      <th>age</th>\n",
       "      <th>workclass</th>\n",
       "      <th>fnlwgt</th>\n",
       "      <th>education</th>\n",
       "      <th>education-num</th>\n",
       "      <th>marital-status</th>\n",
       "      <th>occupation</th>\n",
       "      <th>relationship</th>\n",
       "      <th>race</th>\n",
       "      <th>sex</th>\n",
       "      <th>capital-gain</th>\n",
       "      <th>capital-loss</th>\n",
       "      <th>hours-per-week</th>\n",
       "      <th>native-country</th>\n",
       "      <th>&gt;50K</th>\n",
       "    </tr>\n",
       "  </thead>\n",
       "  <tbody>\n",
       "    <tr>\n",
       "      <th>0</th>\n",
       "      <td>39</td>\n",
       "      <td>State-gov</td>\n",
       "      <td>77516</td>\n",
       "      <td>Bachelors</td>\n",
       "      <td>13</td>\n",
       "      <td>Never-married</td>\n",
       "      <td>Adm-clerical</td>\n",
       "      <td>Not-in-family</td>\n",
       "      <td>White</td>\n",
       "      <td>Male</td>\n",
       "      <td>2174</td>\n",
       "      <td>0</td>\n",
       "      <td>40</td>\n",
       "      <td>United-States</td>\n",
       "      <td>&lt;=50K</td>\n",
       "    </tr>\n",
       "    <tr>\n",
       "      <th>1</th>\n",
       "      <td>50</td>\n",
       "      <td>Self-emp-not-inc</td>\n",
       "      <td>83311</td>\n",
       "      <td>Bachelors</td>\n",
       "      <td>13</td>\n",
       "      <td>Married-civ-spouse</td>\n",
       "      <td>Exec-managerial</td>\n",
       "      <td>Husband</td>\n",
       "      <td>White</td>\n",
       "      <td>Male</td>\n",
       "      <td>0</td>\n",
       "      <td>0</td>\n",
       "      <td>13</td>\n",
       "      <td>United-States</td>\n",
       "      <td>&lt;=50K</td>\n",
       "    </tr>\n",
       "    <tr>\n",
       "      <th>2</th>\n",
       "      <td>38</td>\n",
       "      <td>Private</td>\n",
       "      <td>215646</td>\n",
       "      <td>HS-grad</td>\n",
       "      <td>9</td>\n",
       "      <td>Divorced</td>\n",
       "      <td>Handlers-cleaners</td>\n",
       "      <td>Not-in-family</td>\n",
       "      <td>White</td>\n",
       "      <td>Male</td>\n",
       "      <td>0</td>\n",
       "      <td>0</td>\n",
       "      <td>40</td>\n",
       "      <td>United-States</td>\n",
       "      <td>&lt;=50K</td>\n",
       "    </tr>\n",
       "    <tr>\n",
       "      <th>3</th>\n",
       "      <td>53</td>\n",
       "      <td>Private</td>\n",
       "      <td>234721</td>\n",
       "      <td>11th</td>\n",
       "      <td>7</td>\n",
       "      <td>Married-civ-spouse</td>\n",
       "      <td>Handlers-cleaners</td>\n",
       "      <td>Husband</td>\n",
       "      <td>Black</td>\n",
       "      <td>Male</td>\n",
       "      <td>0</td>\n",
       "      <td>0</td>\n",
       "      <td>40</td>\n",
       "      <td>United-States</td>\n",
       "      <td>&lt;=50K</td>\n",
       "    </tr>\n",
       "    <tr>\n",
       "      <th>4</th>\n",
       "      <td>28</td>\n",
       "      <td>Private</td>\n",
       "      <td>338409</td>\n",
       "      <td>Bachelors</td>\n",
       "      <td>13</td>\n",
       "      <td>Married-civ-spouse</td>\n",
       "      <td>Prof-specialty</td>\n",
       "      <td>Wife</td>\n",
       "      <td>Black</td>\n",
       "      <td>Female</td>\n",
       "      <td>0</td>\n",
       "      <td>0</td>\n",
       "      <td>40</td>\n",
       "      <td>Cuba</td>\n",
       "      <td>&lt;=50K</td>\n",
       "    </tr>\n",
       "    <tr>\n",
       "      <th>...</th>\n",
       "      <td>...</td>\n",
       "      <td>...</td>\n",
       "      <td>...</td>\n",
       "      <td>...</td>\n",
       "      <td>...</td>\n",
       "      <td>...</td>\n",
       "      <td>...</td>\n",
       "      <td>...</td>\n",
       "      <td>...</td>\n",
       "      <td>...</td>\n",
       "      <td>...</td>\n",
       "      <td>...</td>\n",
       "      <td>...</td>\n",
       "      <td>...</td>\n",
       "      <td>...</td>\n",
       "    </tr>\n",
       "    <tr>\n",
       "      <th>48837</th>\n",
       "      <td>39</td>\n",
       "      <td>Private</td>\n",
       "      <td>215419</td>\n",
       "      <td>Bachelors</td>\n",
       "      <td>13</td>\n",
       "      <td>Divorced</td>\n",
       "      <td>Prof-specialty</td>\n",
       "      <td>Not-in-family</td>\n",
       "      <td>White</td>\n",
       "      <td>Female</td>\n",
       "      <td>0</td>\n",
       "      <td>0</td>\n",
       "      <td>36</td>\n",
       "      <td>United-States</td>\n",
       "      <td>&lt;=50K.</td>\n",
       "    </tr>\n",
       "    <tr>\n",
       "      <th>48838</th>\n",
       "      <td>64</td>\n",
       "      <td>?</td>\n",
       "      <td>321403</td>\n",
       "      <td>HS-grad</td>\n",
       "      <td>9</td>\n",
       "      <td>Widowed</td>\n",
       "      <td>?</td>\n",
       "      <td>Other-relative</td>\n",
       "      <td>Black</td>\n",
       "      <td>Male</td>\n",
       "      <td>0</td>\n",
       "      <td>0</td>\n",
       "      <td>40</td>\n",
       "      <td>United-States</td>\n",
       "      <td>&lt;=50K.</td>\n",
       "    </tr>\n",
       "    <tr>\n",
       "      <th>48839</th>\n",
       "      <td>38</td>\n",
       "      <td>Private</td>\n",
       "      <td>374983</td>\n",
       "      <td>Bachelors</td>\n",
       "      <td>13</td>\n",
       "      <td>Married-civ-spouse</td>\n",
       "      <td>Prof-specialty</td>\n",
       "      <td>Husband</td>\n",
       "      <td>White</td>\n",
       "      <td>Male</td>\n",
       "      <td>0</td>\n",
       "      <td>0</td>\n",
       "      <td>50</td>\n",
       "      <td>United-States</td>\n",
       "      <td>&lt;=50K.</td>\n",
       "    </tr>\n",
       "    <tr>\n",
       "      <th>48840</th>\n",
       "      <td>44</td>\n",
       "      <td>Private</td>\n",
       "      <td>83891</td>\n",
       "      <td>Bachelors</td>\n",
       "      <td>13</td>\n",
       "      <td>Divorced</td>\n",
       "      <td>Adm-clerical</td>\n",
       "      <td>Own-child</td>\n",
       "      <td>Asian-Pac-Islander</td>\n",
       "      <td>Male</td>\n",
       "      <td>5455</td>\n",
       "      <td>0</td>\n",
       "      <td>40</td>\n",
       "      <td>United-States</td>\n",
       "      <td>&lt;=50K.</td>\n",
       "    </tr>\n",
       "    <tr>\n",
       "      <th>48841</th>\n",
       "      <td>35</td>\n",
       "      <td>Self-emp-inc</td>\n",
       "      <td>182148</td>\n",
       "      <td>Bachelors</td>\n",
       "      <td>13</td>\n",
       "      <td>Married-civ-spouse</td>\n",
       "      <td>Exec-managerial</td>\n",
       "      <td>Husband</td>\n",
       "      <td>White</td>\n",
       "      <td>Male</td>\n",
       "      <td>0</td>\n",
       "      <td>0</td>\n",
       "      <td>60</td>\n",
       "      <td>United-States</td>\n",
       "      <td>&gt;50K.</td>\n",
       "    </tr>\n",
       "  </tbody>\n",
       "</table>\n",
       "<p>48842 rows × 15 columns</p>\n",
       "</div>"
      ],
      "text/plain": [
       "       age          workclass  fnlwgt   education  education-num  \\\n",
       "0       39          State-gov   77516   Bachelors             13   \n",
       "1       50   Self-emp-not-inc   83311   Bachelors             13   \n",
       "2       38            Private  215646     HS-grad              9   \n",
       "3       53            Private  234721        11th              7   \n",
       "4       28            Private  338409   Bachelors             13   \n",
       "...    ...                ...     ...         ...            ...   \n",
       "48837   39            Private  215419   Bachelors             13   \n",
       "48838   64                  ?  321403     HS-grad              9   \n",
       "48839   38            Private  374983   Bachelors             13   \n",
       "48840   44            Private   83891   Bachelors             13   \n",
       "48841   35       Self-emp-inc  182148   Bachelors             13   \n",
       "\n",
       "            marital-status          occupation     relationship  \\\n",
       "0            Never-married        Adm-clerical    Not-in-family   \n",
       "1       Married-civ-spouse     Exec-managerial          Husband   \n",
       "2                 Divorced   Handlers-cleaners    Not-in-family   \n",
       "3       Married-civ-spouse   Handlers-cleaners          Husband   \n",
       "4       Married-civ-spouse      Prof-specialty             Wife   \n",
       "...                    ...                 ...              ...   \n",
       "48837             Divorced      Prof-specialty    Not-in-family   \n",
       "48838              Widowed                   ?   Other-relative   \n",
       "48839   Married-civ-spouse      Prof-specialty          Husband   \n",
       "48840             Divorced        Adm-clerical        Own-child   \n",
       "48841   Married-civ-spouse     Exec-managerial          Husband   \n",
       "\n",
       "                      race      sex  capital-gain  capital-loss  \\\n",
       "0                    White     Male          2174             0   \n",
       "1                    White     Male             0             0   \n",
       "2                    White     Male             0             0   \n",
       "3                    Black     Male             0             0   \n",
       "4                    Black   Female             0             0   \n",
       "...                    ...      ...           ...           ...   \n",
       "48837                White   Female             0             0   \n",
       "48838                Black     Male             0             0   \n",
       "48839                White     Male             0             0   \n",
       "48840   Asian-Pac-Islander     Male          5455             0   \n",
       "48841                White     Male             0             0   \n",
       "\n",
       "       hours-per-week  native-country    >50K  \n",
       "0                  40   United-States   <=50K  \n",
       "1                  13   United-States   <=50K  \n",
       "2                  40   United-States   <=50K  \n",
       "3                  40   United-States   <=50K  \n",
       "4                  40            Cuba   <=50K  \n",
       "...               ...             ...     ...  \n",
       "48837              36   United-States  <=50K.  \n",
       "48838              40   United-States  <=50K.  \n",
       "48839              50   United-States  <=50K.  \n",
       "48840              40   United-States  <=50K.  \n",
       "48841              60   United-States   >50K.  \n",
       "\n",
       "[48842 rows x 15 columns]"
      ]
     },
     "execution_count": 74,
     "metadata": {},
     "output_type": "execute_result"
    }
   ],
   "source": [
    "df"
   ]
  },
  {
   "cell_type": "markdown",
   "metadata": {},
   "source": [
    "Define function that removes the spaces from the beginning of any cell in the dataframe"
   ]
  },
  {
   "cell_type": "code",
   "execution_count": 75,
   "metadata": {},
   "outputs": [],
   "source": [
    "def remove_spaces(df):\n",
    "    for col in df:\n",
    "        df[col] = df[col].astype(str).str.lstrip()\n",
    "    return df\n",
    "\n",
    "df = remove_spaces(df)"
   ]
  },
  {
   "cell_type": "code",
   "execution_count": 76,
   "metadata": {},
   "outputs": [
    {
     "data": {
      "text/plain": [
       "array(['<=50K', '>50K', '<=50K.', '>50K.'], dtype=object)"
      ]
     },
     "execution_count": 76,
     "metadata": {},
     "output_type": "execute_result"
    }
   ],
   "source": [
    "df['>50K'].unique()"
   ]
  },
  {
   "cell_type": "code",
   "execution_count": 77,
   "metadata": {},
   "outputs": [
    {
     "name": "stdout",
     "output_type": "stream",
     "text": [
      "<=50K     24720\n",
      "<=50K.    12435\n",
      ">50K       7841\n",
      ">50K.      3846\n",
      "Name: >50K, dtype: int64\n",
      "United-States                 43832\n",
      "Mexico                          951\n",
      "?                               857\n",
      "Philippines                     295\n",
      "Germany                         206\n",
      "Puerto-Rico                     184\n",
      "Canada                          182\n",
      "El-Salvador                     155\n",
      "India                           151\n",
      "Cuba                            138\n",
      "England                         127\n",
      "China                           122\n",
      "South                           115\n",
      "Jamaica                         106\n",
      "Italy                           105\n",
      "Dominican-Republic              103\n",
      "Japan                            92\n",
      "Guatemala                        88\n",
      "Poland                           87\n",
      "Vietnam                          86\n",
      "Columbia                         85\n",
      "Haiti                            75\n",
      "Portugal                         67\n",
      "Taiwan                           65\n",
      "Iran                             59\n",
      "Nicaragua                        49\n",
      "Greece                           49\n",
      "Peru                             46\n",
      "Ecuador                          45\n",
      "France                           38\n",
      "Ireland                          37\n",
      "Thailand                         30\n",
      "Hong                             30\n",
      "Cambodia                         28\n",
      "Trinadad&Tobago                  27\n",
      "Yugoslavia                       23\n",
      "Laos                             23\n",
      "Outlying-US(Guam-USVI-etc)       23\n",
      "Scotland                         21\n",
      "Honduras                         20\n",
      "Hungary                          19\n",
      "Holand-Netherlands                1\n",
      "Name: native-country, dtype: int64\n"
     ]
    }
   ],
   "source": [
    "print(df['>50K'].value_counts())\n",
    "print(df['native-country'].value_counts())"
   ]
  },
  {
   "cell_type": "code",
   "execution_count": 78,
   "metadata": {},
   "outputs": [],
   "source": [
    "#Replace the target variable from string to binary variable\n",
    "df['>50K'] = df['>50K'].replace(['<=50K.','>50K.','<=50K','>50K'],[0,1,0,1])\n",
    "df['sex'] = df['sex'].replace(['Male','Female'],[0,1])\n",
    "\n",
    "#Replace native_country variable to from_usa because of the most of observations from USA. \n",
    "df['from_usa'] = df['native-country'].replace('United-States',1)  \n",
    "list_of_countries = ['Cuba', 'Jamaica', 'India', '?', 'Mexico', 'South','Puerto-Rico', 'Honduras', 'England', 'Canada', 'Germany', 'Iran','Philippines', 'Italy', 'Poland', 'Columbia', 'Cambodia','Thailand', 'Ecuador', 'Laos', 'Taiwan', 'Haiti', 'Portugal','Dominican-Republic', 'El-Salvador', 'France', 'Guatemala','China', 'Japan', 'Yugoslavia', 'Peru','Outlying-US(Guam-USVI-etc)', 'Scotland', 'Trinadad&Tobago','Greece', 'Nicaragua', 'Vietnam', 'Hong', 'Ireland', 'Hungary','Holand-Netherlands']\n",
    "df['from_usa'] = df['from_usa'].replace(list_of_countries,[0 for i in range(len(list_of_countries))])\n",
    "\n",
    "#Because age is unique variable, we would prefer to replace the age for a range of ages.\n",
    "df['age'] = df['age'].astype(int)\n",
    "df['age'] = pd.cut(df['age'], bins = [17,30,50,90],labels = ['younger_adult','mid_adult','adult'])"
   ]
  },
  {
   "cell_type": "code",
   "execution_count": 79,
   "metadata": {},
   "outputs": [],
   "source": [
    "plt.rcParams['figure.figsize'] = [16, 9]"
   ]
  },
  {
   "cell_type": "code",
   "execution_count": 80,
   "metadata": {},
   "outputs": [
    {
     "data": {
      "text/plain": [
       "mid_adult        0.647985\n",
       "adult            0.267049\n",
       "younger_adult    0.084966\n",
       "Name: age, dtype: float64"
      ]
     },
     "execution_count": 80,
     "metadata": {},
     "output_type": "execute_result"
    },
    {
     "data": {
      "image/png": "[encoded data removed]",
      "text/plain": [
       "<Figure size 1152x648 with 1 Axes>"
      ]
     },
     "metadata": {
      "needs_background": "light"
     },
     "output_type": "display_data"
    }
   ],
   "source": [
    "# The distribution of the three levels of age to earn more than 50K.\n",
    "over_50k = df[df['>50K'] == 1] \n",
    "over_50k['age'].value_counts().plot(kind = 'bar')\n",
    "over_50k['age'].value_counts(normalize=True)"
   ]
  },
  {
   "cell_type": "code",
   "execution_count": 81,
   "metadata": {},
   "outputs": [
    {
     "data": {
      "text/plain": [
       "Exec-managerial      0.248823\n",
       "Prof-specialty       0.238213\n",
       "Sales                0.126209\n",
       "Craft-repair         0.118337\n",
       "Adm-clerical         0.065714\n",
       "Transport-moving     0.041157\n",
       "Tech-support         0.035937\n",
       "Machine-op-inspct    0.031830\n",
       "Protective-serv      0.026354\n",
       "?                    0.022675\n",
       "Other-service        0.017455\n",
       "Farming-fishing      0.014803\n",
       "Handlers-cleaners    0.011808\n",
       "Armed-Forces         0.000428\n",
       "Priv-house-serv      0.000257\n",
       "Name: occupation, dtype: float64"
      ]
     },
     "execution_count": 81,
     "metadata": {},
     "output_type": "execute_result"
    },
    {
     "data": {
      "image/png": "[encoded data removed]",
      "text/plain": [
       "<Figure size 1152x648 with 1 Axes>"
      ]
     },
     "metadata": {
      "needs_background": "light"
     },
     "output_type": "display_data"
    }
   ],
   "source": [
    "# By occupation\n",
    "over_50k['occupation'].value_counts().plot(kind = 'bar')\n",
    "over_50k['occupation'].value_counts(normalize=True)"
   ]
  },
  {
   "cell_type": "code",
   "execution_count": 82,
   "metadata": {},
   "outputs": [
    {
     "name": "stdout",
     "output_type": "stream",
     "text": [
      "46560\n",
      "44807\n"
     ]
    }
   ],
   "source": [
    "# The most of the observation are 0 therefore we would rather to drop them.\n",
    "print(df['capital-loss'].value_counts()[0])\n",
    "print(df['capital-gain'].value_counts()[0])"
   ]
  },
  {
   "cell_type": "code",
   "execution_count": 83,
   "metadata": {},
   "outputs": [],
   "source": [
    "# Same as education\n",
    "df.drop('education-num',inplace=True,axis=1)\n",
    "\n",
    "# low corr between 'hours-per-week' and 'fnlwgt' with the target variable\n",
    "df.drop('hours-per-week',inplace=True,axis=1)\n",
    "df.drop('fnlwgt',inplace=True,axis=1)\n",
    "\n",
    "# most of observations are 0\n",
    "df.drop('capital-loss',inplace=True,axis=1)\n",
    "df.drop('capital-gain', inplace = True,axis =1)\n",
    "\n",
    "#Has changed to from_usa\n",
    "df.drop('native-country',inplace=True,axis=1)"
   ]
  },
  {
   "cell_type": "code",
   "execution_count": 84,
   "metadata": {},
   "outputs": [
    {
     "data": {
      "text/html": [
       "<div>\n",
       "<style scoped>\n",
       "    .dataframe tbody tr th:only-of-type {\n",
       "        vertical-align: middle;\n",
       "    }\n",
       "\n",
       "    .dataframe tbody tr th {\n",
       "        vertical-align: top;\n",
       "    }\n",
       "\n",
       "    .dataframe thead th {\n",
       "        text-align: right;\n",
       "    }\n",
       "</style>\n",
       "<table border=\"1\" class=\"dataframe\">\n",
       "  <thead>\n",
       "    <tr style=\"text-align: right;\">\n",
       "      <th></th>\n",
       "      <th>age</th>\n",
       "      <th>workclass</th>\n",
       "      <th>education</th>\n",
       "      <th>marital-status</th>\n",
       "      <th>occupation</th>\n",
       "      <th>relationship</th>\n",
       "      <th>race</th>\n",
       "      <th>sex</th>\n",
       "      <th>&gt;50K</th>\n",
       "      <th>from_usa</th>\n",
       "    </tr>\n",
       "  </thead>\n",
       "  <tbody>\n",
       "    <tr>\n",
       "      <th>0</th>\n",
       "      <td>mid_adult</td>\n",
       "      <td>State-gov</td>\n",
       "      <td>Bachelors</td>\n",
       "      <td>Never-married</td>\n",
       "      <td>Adm-clerical</td>\n",
       "      <td>Not-in-family</td>\n",
       "      <td>White</td>\n",
       "      <td>0</td>\n",
       "      <td>0</td>\n",
       "      <td>1</td>\n",
       "    </tr>\n",
       "    <tr>\n",
       "      <th>1</th>\n",
       "      <td>mid_adult</td>\n",
       "      <td>Self-emp-not-inc</td>\n",
       "      <td>Bachelors</td>\n",
       "      <td>Married-civ-spouse</td>\n",
       "      <td>Exec-managerial</td>\n",
       "      <td>Husband</td>\n",
       "      <td>White</td>\n",
       "      <td>0</td>\n",
       "      <td>0</td>\n",
       "      <td>1</td>\n",
       "    </tr>\n",
       "    <tr>\n",
       "      <th>2</th>\n",
       "      <td>mid_adult</td>\n",
       "      <td>Private</td>\n",
       "      <td>HS-grad</td>\n",
       "      <td>Divorced</td>\n",
       "      <td>Handlers-cleaners</td>\n",
       "      <td>Not-in-family</td>\n",
       "      <td>White</td>\n",
       "      <td>0</td>\n",
       "      <td>0</td>\n",
       "      <td>1</td>\n",
       "    </tr>\n",
       "    <tr>\n",
       "      <th>3</th>\n",
       "      <td>adult</td>\n",
       "      <td>Private</td>\n",
       "      <td>11th</td>\n",
       "      <td>Married-civ-spouse</td>\n",
       "      <td>Handlers-cleaners</td>\n",
       "      <td>Husband</td>\n",
       "      <td>Black</td>\n",
       "      <td>0</td>\n",
       "      <td>0</td>\n",
       "      <td>1</td>\n",
       "    </tr>\n",
       "    <tr>\n",
       "      <th>4</th>\n",
       "      <td>younger_adult</td>\n",
       "      <td>Private</td>\n",
       "      <td>Bachelors</td>\n",
       "      <td>Married-civ-spouse</td>\n",
       "      <td>Prof-specialty</td>\n",
       "      <td>Wife</td>\n",
       "      <td>Black</td>\n",
       "      <td>1</td>\n",
       "      <td>0</td>\n",
       "      <td>0</td>\n",
       "    </tr>\n",
       "    <tr>\n",
       "      <th>...</th>\n",
       "      <td>...</td>\n",
       "      <td>...</td>\n",
       "      <td>...</td>\n",
       "      <td>...</td>\n",
       "      <td>...</td>\n",
       "      <td>...</td>\n",
       "      <td>...</td>\n",
       "      <td>...</td>\n",
       "      <td>...</td>\n",
       "      <td>...</td>\n",
       "    </tr>\n",
       "    <tr>\n",
       "      <th>48837</th>\n",
       "      <td>mid_adult</td>\n",
       "      <td>Private</td>\n",
       "      <td>Bachelors</td>\n",
       "      <td>Divorced</td>\n",
       "      <td>Prof-specialty</td>\n",
       "      <td>Not-in-family</td>\n",
       "      <td>White</td>\n",
       "      <td>1</td>\n",
       "      <td>0</td>\n",
       "      <td>1</td>\n",
       "    </tr>\n",
       "    <tr>\n",
       "      <th>48838</th>\n",
       "      <td>adult</td>\n",
       "      <td>?</td>\n",
       "      <td>HS-grad</td>\n",
       "      <td>Widowed</td>\n",
       "      <td>?</td>\n",
       "      <td>Other-relative</td>\n",
       "      <td>Black</td>\n",
       "      <td>0</td>\n",
       "      <td>0</td>\n",
       "      <td>1</td>\n",
       "    </tr>\n",
       "    <tr>\n",
       "      <th>48839</th>\n",
       "      <td>mid_adult</td>\n",
       "      <td>Private</td>\n",
       "      <td>Bachelors</td>\n",
       "      <td>Married-civ-spouse</td>\n",
       "      <td>Prof-specialty</td>\n",
       "      <td>Husband</td>\n",
       "      <td>White</td>\n",
       "      <td>0</td>\n",
       "      <td>0</td>\n",
       "      <td>1</td>\n",
       "    </tr>\n",
       "    <tr>\n",
       "      <th>48840</th>\n",
       "      <td>mid_adult</td>\n",
       "      <td>Private</td>\n",
       "      <td>Bachelors</td>\n",
       "      <td>Divorced</td>\n",
       "      <td>Adm-clerical</td>\n",
       "      <td>Own-child</td>\n",
       "      <td>Asian-Pac-Islander</td>\n",
       "      <td>0</td>\n",
       "      <td>0</td>\n",
       "      <td>1</td>\n",
       "    </tr>\n",
       "    <tr>\n",
       "      <th>48841</th>\n",
       "      <td>mid_adult</td>\n",
       "      <td>Self-emp-inc</td>\n",
       "      <td>Bachelors</td>\n",
       "      <td>Married-civ-spouse</td>\n",
       "      <td>Exec-managerial</td>\n",
       "      <td>Husband</td>\n",
       "      <td>White</td>\n",
       "      <td>0</td>\n",
       "      <td>1</td>\n",
       "      <td>1</td>\n",
       "    </tr>\n",
       "  </tbody>\n",
       "</table>\n",
       "<p>48842 rows × 10 columns</p>\n",
       "</div>"
      ],
      "text/plain": [
       "                 age         workclass  education      marital-status  \\\n",
       "0          mid_adult         State-gov  Bachelors       Never-married   \n",
       "1          mid_adult  Self-emp-not-inc  Bachelors  Married-civ-spouse   \n",
       "2          mid_adult           Private    HS-grad            Divorced   \n",
       "3              adult           Private       11th  Married-civ-spouse   \n",
       "4      younger_adult           Private  Bachelors  Married-civ-spouse   \n",
       "...              ...               ...        ...                 ...   \n",
       "48837      mid_adult           Private  Bachelors            Divorced   \n",
       "48838          adult                 ?    HS-grad             Widowed   \n",
       "48839      mid_adult           Private  Bachelors  Married-civ-spouse   \n",
       "48840      mid_adult           Private  Bachelors            Divorced   \n",
       "48841      mid_adult      Self-emp-inc  Bachelors  Married-civ-spouse   \n",
       "\n",
       "              occupation    relationship                race  sex  >50K  \\\n",
       "0           Adm-clerical   Not-in-family               White    0     0   \n",
       "1        Exec-managerial         Husband               White    0     0   \n",
       "2      Handlers-cleaners   Not-in-family               White    0     0   \n",
       "3      Handlers-cleaners         Husband               Black    0     0   \n",
       "4         Prof-specialty            Wife               Black    1     0   \n",
       "...                  ...             ...                 ...  ...   ...   \n",
       "48837     Prof-specialty   Not-in-family               White    1     0   \n",
       "48838                  ?  Other-relative               Black    0     0   \n",
       "48839     Prof-specialty         Husband               White    0     0   \n",
       "48840       Adm-clerical       Own-child  Asian-Pac-Islander    0     0   \n",
       "48841    Exec-managerial         Husband               White    0     1   \n",
       "\n",
       "       from_usa  \n",
       "0             1  \n",
       "1             1  \n",
       "2             1  \n",
       "3             1  \n",
       "4             0  \n",
       "...         ...  \n",
       "48837         1  \n",
       "48838         1  \n",
       "48839         1  \n",
       "48840         1  \n",
       "48841         1  \n",
       "\n",
       "[48842 rows x 10 columns]"
      ]
     },
     "execution_count": 84,
     "metadata": {},
     "output_type": "execute_result"
    }
   ],
   "source": [
    "df"
   ]
  },
  {
   "cell_type": "code",
   "execution_count": 85,
   "metadata": {},
   "outputs": [
    {
     "data": {
      "text/plain": [
       "age                  0\n",
       "workclass         2799\n",
       "education            0\n",
       "marital-status       0\n",
       "occupation        2809\n",
       "relationship         0\n",
       "race                 0\n",
       "sex                  0\n",
       ">50K                 0\n",
       "from_usa             0\n",
       "dtype: int64"
      ]
     },
     "execution_count": 85,
     "metadata": {},
     "output_type": "execute_result"
    }
   ],
   "source": [
    "df.isin(['?']).sum(axis=0)"
   ]
  },
  {
   "cell_type": "code",
   "execution_count": 86,
   "metadata": {},
   "outputs": [],
   "source": [
    "#Dropping rows that has ?.\n",
    "def drop_irrelevant(df):\n",
    "    df['workclass'] = df['workclass'].replace('?',np.nan)\n",
    "    df['occupation'] = df['occupation'].replace('?',np.nan)\n",
    "    df = df.dropna()\n",
    "    \n",
    "    return df \n",
    "\n",
    "df = drop_irrelevant(df)"
   ]
  },
  {
   "cell_type": "code",
   "execution_count": 87,
   "metadata": {},
   "outputs": [
    {
     "name": "stderr",
     "output_type": "stream",
     "text": [
      "/opt/anaconda3/lib/python3.7/site-packages/ipykernel_launcher.py:4: SettingWithCopyWarning: \n",
      "A value is trying to be set on a copy of a slice from a DataFrame.\n",
      "Try using .loc[row_indexer,col_indexer] = value instead\n",
      "\n",
      "See the caveats in the documentation: https://pandas.pydata.org/pandas-docs/stable/user_guide/indexing.html#returning-a-view-versus-a-copy\n",
      "  after removing the cwd from sys.path.\n"
     ]
    }
   ],
   "source": [
    "#Categorical feature\n",
    "education_values = ['Preschool','1st-4th','5th-6th','7th-8th','9th','10th','11th','12th','HS-grad','Prof-school','Assoc-acdm','Assoc-voc','Some-college','Bachelors','Masters','Doctorate']\n",
    "categorical_values = [*range(len(education_values))]\n",
    "df['education'] = df['education'].replace(education_values,categorical_values)"
   ]
  },
  {
   "cell_type": "code",
   "execution_count": 88,
   "metadata": {},
   "outputs": [
    {
     "data": {
      "text/plain": [
       "0    0.749171\n",
       "1    0.250829\n",
       "Name: >50K, dtype: float64"
      ]
     },
     "execution_count": 88,
     "metadata": {},
     "output_type": "execute_result"
    },
    {
     "data": {
      "image/png": "[encoded data removed]",
      "text/plain": [
       "<Figure size 1152x648 with 1 Axes>"
      ]
     },
     "metadata": {
      "needs_background": "light"
     },
     "output_type": "display_data"
    }
   ],
   "source": [
    "#Proportion of the target variable\n",
    "df['>50K'].value_counts(normalize=True).plot(kind='bar')\n",
    "df['>50K'].value_counts(normalize=True)"
   ]
  },
  {
   "cell_type": "code",
   "execution_count": 91,
   "metadata": {},
   "outputs": [],
   "source": [
    "df = pd.get_dummies(df)"
   ]
  },
  {
   "cell_type": "code",
   "execution_count": 20,
   "metadata": {},
   "outputs": [],
   "source": [
    "corr = pd.Series(df.corrwith(df['>50K']).sort_values())\n",
    "df.drop(corr[(corr<0.1) & (corr>(-0.1))].index,inplace=True,axis=1)"
   ]
  },
  {
   "cell_type": "code",
   "execution_count": 21,
   "metadata": {},
   "outputs": [
    {
     "data": {
      "text/html": [
       "<div>\n",
       "<style scoped>\n",
       "    .dataframe tbody tr th:only-of-type {\n",
       "        vertical-align: middle;\n",
       "    }\n",
       "\n",
       "    .dataframe tbody tr th {\n",
       "        vertical-align: top;\n",
       "    }\n",
       "\n",
       "    .dataframe thead th {\n",
       "        text-align: right;\n",
       "    }\n",
       "</style>\n",
       "<table border=\"1\" class=\"dataframe\">\n",
       "  <thead>\n",
       "    <tr style=\"text-align: right;\">\n",
       "      <th></th>\n",
       "      <th>education</th>\n",
       "      <th>sex</th>\n",
       "      <th>&gt;50K</th>\n",
       "      <th>age_younger_adult</th>\n",
       "      <th>age_mid_adult</th>\n",
       "      <th>workclass_Private</th>\n",
       "      <th>workclass_Self-emp-inc</th>\n",
       "      <th>marital-status_Divorced</th>\n",
       "      <th>marital-status_Married-civ-spouse</th>\n",
       "      <th>marital-status_Never-married</th>\n",
       "      <th>occupation_Exec-managerial</th>\n",
       "      <th>occupation_Other-service</th>\n",
       "      <th>occupation_Prof-specialty</th>\n",
       "      <th>relationship_Husband</th>\n",
       "      <th>relationship_Not-in-family</th>\n",
       "      <th>relationship_Own-child</th>\n",
       "      <th>relationship_Unmarried</th>\n",
       "      <th>relationship_Wife</th>\n",
       "    </tr>\n",
       "  </thead>\n",
       "  <tbody>\n",
       "    <tr>\n",
       "      <th>0</th>\n",
       "      <td>13</td>\n",
       "      <td>0</td>\n",
       "      <td>0</td>\n",
       "      <td>0</td>\n",
       "      <td>1</td>\n",
       "      <td>0</td>\n",
       "      <td>0</td>\n",
       "      <td>0</td>\n",
       "      <td>0</td>\n",
       "      <td>1</td>\n",
       "      <td>0</td>\n",
       "      <td>0</td>\n",
       "      <td>0</td>\n",
       "      <td>0</td>\n",
       "      <td>1</td>\n",
       "      <td>0</td>\n",
       "      <td>0</td>\n",
       "      <td>0</td>\n",
       "    </tr>\n",
       "    <tr>\n",
       "      <th>1</th>\n",
       "      <td>13</td>\n",
       "      <td>0</td>\n",
       "      <td>0</td>\n",
       "      <td>0</td>\n",
       "      <td>1</td>\n",
       "      <td>0</td>\n",
       "      <td>0</td>\n",
       "      <td>0</td>\n",
       "      <td>1</td>\n",
       "      <td>0</td>\n",
       "      <td>1</td>\n",
       "      <td>0</td>\n",
       "      <td>0</td>\n",
       "      <td>1</td>\n",
       "      <td>0</td>\n",
       "      <td>0</td>\n",
       "      <td>0</td>\n",
       "      <td>0</td>\n",
       "    </tr>\n",
       "    <tr>\n",
       "      <th>2</th>\n",
       "      <td>8</td>\n",
       "      <td>0</td>\n",
       "      <td>0</td>\n",
       "      <td>0</td>\n",
       "      <td>1</td>\n",
       "      <td>1</td>\n",
       "      <td>0</td>\n",
       "      <td>1</td>\n",
       "      <td>0</td>\n",
       "      <td>0</td>\n",
       "      <td>0</td>\n",
       "      <td>0</td>\n",
       "      <td>0</td>\n",
       "      <td>0</td>\n",
       "      <td>1</td>\n",
       "      <td>0</td>\n",
       "      <td>0</td>\n",
       "      <td>0</td>\n",
       "    </tr>\n",
       "    <tr>\n",
       "      <th>3</th>\n",
       "      <td>6</td>\n",
       "      <td>0</td>\n",
       "      <td>0</td>\n",
       "      <td>0</td>\n",
       "      <td>0</td>\n",
       "      <td>1</td>\n",
       "      <td>0</td>\n",
       "      <td>0</td>\n",
       "      <td>1</td>\n",
       "      <td>0</td>\n",
       "      <td>0</td>\n",
       "      <td>0</td>\n",
       "      <td>0</td>\n",
       "      <td>1</td>\n",
       "      <td>0</td>\n",
       "      <td>0</td>\n",
       "      <td>0</td>\n",
       "      <td>0</td>\n",
       "    </tr>\n",
       "    <tr>\n",
       "      <th>4</th>\n",
       "      <td>13</td>\n",
       "      <td>1</td>\n",
       "      <td>0</td>\n",
       "      <td>1</td>\n",
       "      <td>0</td>\n",
       "      <td>1</td>\n",
       "      <td>0</td>\n",
       "      <td>0</td>\n",
       "      <td>1</td>\n",
       "      <td>0</td>\n",
       "      <td>0</td>\n",
       "      <td>0</td>\n",
       "      <td>1</td>\n",
       "      <td>0</td>\n",
       "      <td>0</td>\n",
       "      <td>0</td>\n",
       "      <td>0</td>\n",
       "      <td>1</td>\n",
       "    </tr>\n",
       "    <tr>\n",
       "      <th>...</th>\n",
       "      <td>...</td>\n",
       "      <td>...</td>\n",
       "      <td>...</td>\n",
       "      <td>...</td>\n",
       "      <td>...</td>\n",
       "      <td>...</td>\n",
       "      <td>...</td>\n",
       "      <td>...</td>\n",
       "      <td>...</td>\n",
       "      <td>...</td>\n",
       "      <td>...</td>\n",
       "      <td>...</td>\n",
       "      <td>...</td>\n",
       "      <td>...</td>\n",
       "      <td>...</td>\n",
       "      <td>...</td>\n",
       "      <td>...</td>\n",
       "      <td>...</td>\n",
       "    </tr>\n",
       "    <tr>\n",
       "      <th>48836</th>\n",
       "      <td>13</td>\n",
       "      <td>0</td>\n",
       "      <td>0</td>\n",
       "      <td>0</td>\n",
       "      <td>1</td>\n",
       "      <td>1</td>\n",
       "      <td>0</td>\n",
       "      <td>0</td>\n",
       "      <td>0</td>\n",
       "      <td>1</td>\n",
       "      <td>0</td>\n",
       "      <td>0</td>\n",
       "      <td>1</td>\n",
       "      <td>0</td>\n",
       "      <td>0</td>\n",
       "      <td>1</td>\n",
       "      <td>0</td>\n",
       "      <td>0</td>\n",
       "    </tr>\n",
       "    <tr>\n",
       "      <th>48837</th>\n",
       "      <td>13</td>\n",
       "      <td>1</td>\n",
       "      <td>0</td>\n",
       "      <td>0</td>\n",
       "      <td>1</td>\n",
       "      <td>1</td>\n",
       "      <td>0</td>\n",
       "      <td>1</td>\n",
       "      <td>0</td>\n",
       "      <td>0</td>\n",
       "      <td>0</td>\n",
       "      <td>0</td>\n",
       "      <td>1</td>\n",
       "      <td>0</td>\n",
       "      <td>1</td>\n",
       "      <td>0</td>\n",
       "      <td>0</td>\n",
       "      <td>0</td>\n",
       "    </tr>\n",
       "    <tr>\n",
       "      <th>48839</th>\n",
       "      <td>13</td>\n",
       "      <td>0</td>\n",
       "      <td>0</td>\n",
       "      <td>0</td>\n",
       "      <td>1</td>\n",
       "      <td>1</td>\n",
       "      <td>0</td>\n",
       "      <td>0</td>\n",
       "      <td>1</td>\n",
       "      <td>0</td>\n",
       "      <td>0</td>\n",
       "      <td>0</td>\n",
       "      <td>1</td>\n",
       "      <td>1</td>\n",
       "      <td>0</td>\n",
       "      <td>0</td>\n",
       "      <td>0</td>\n",
       "      <td>0</td>\n",
       "    </tr>\n",
       "    <tr>\n",
       "      <th>48840</th>\n",
       "      <td>13</td>\n",
       "      <td>0</td>\n",
       "      <td>0</td>\n",
       "      <td>0</td>\n",
       "      <td>1</td>\n",
       "      <td>1</td>\n",
       "      <td>0</td>\n",
       "      <td>1</td>\n",
       "      <td>0</td>\n",
       "      <td>0</td>\n",
       "      <td>0</td>\n",
       "      <td>0</td>\n",
       "      <td>0</td>\n",
       "      <td>0</td>\n",
       "      <td>0</td>\n",
       "      <td>1</td>\n",
       "      <td>0</td>\n",
       "      <td>0</td>\n",
       "    </tr>\n",
       "    <tr>\n",
       "      <th>48841</th>\n",
       "      <td>13</td>\n",
       "      <td>0</td>\n",
       "      <td>1</td>\n",
       "      <td>0</td>\n",
       "      <td>1</td>\n",
       "      <td>0</td>\n",
       "      <td>1</td>\n",
       "      <td>0</td>\n",
       "      <td>1</td>\n",
       "      <td>0</td>\n",
       "      <td>1</td>\n",
       "      <td>0</td>\n",
       "      <td>0</td>\n",
       "      <td>1</td>\n",
       "      <td>0</td>\n",
       "      <td>0</td>\n",
       "      <td>0</td>\n",
       "      <td>0</td>\n",
       "    </tr>\n",
       "  </tbody>\n",
       "</table>\n",
       "<p>45537 rows × 18 columns</p>\n",
       "</div>"
      ],
      "text/plain": [
       "       education  sex  >50K  age_younger_adult  age_mid_adult  \\\n",
       "0             13    0     0                  0              1   \n",
       "1             13    0     0                  0              1   \n",
       "2              8    0     0                  0              1   \n",
       "3              6    0     0                  0              0   \n",
       "4             13    1     0                  1              0   \n",
       "...          ...  ...   ...                ...            ...   \n",
       "48836         13    0     0                  0              1   \n",
       "48837         13    1     0                  0              1   \n",
       "48839         13    0     0                  0              1   \n",
       "48840         13    0     0                  0              1   \n",
       "48841         13    0     1                  0              1   \n",
       "\n",
       "       workclass_Private  workclass_Self-emp-inc  marital-status_Divorced  \\\n",
       "0                      0                       0                        0   \n",
       "1                      0                       0                        0   \n",
       "2                      1                       0                        1   \n",
       "3                      1                       0                        0   \n",
       "4                      1                       0                        0   \n",
       "...                  ...                     ...                      ...   \n",
       "48836                  1                       0                        0   \n",
       "48837                  1                       0                        1   \n",
       "48839                  1                       0                        0   \n",
       "48840                  1                       0                        1   \n",
       "48841                  0                       1                        0   \n",
       "\n",
       "       marital-status_Married-civ-spouse  marital-status_Never-married  \\\n",
       "0                                      0                             1   \n",
       "1                                      1                             0   \n",
       "2                                      0                             0   \n",
       "3                                      1                             0   \n",
       "4                                      1                             0   \n",
       "...                                  ...                           ...   \n",
       "48836                                  0                             1   \n",
       "48837                                  0                             0   \n",
       "48839                                  1                             0   \n",
       "48840                                  0                             0   \n",
       "48841                                  1                             0   \n",
       "\n",
       "       occupation_Exec-managerial  occupation_Other-service  \\\n",
       "0                               0                         0   \n",
       "1                               1                         0   \n",
       "2                               0                         0   \n",
       "3                               0                         0   \n",
       "4                               0                         0   \n",
       "...                           ...                       ...   \n",
       "48836                           0                         0   \n",
       "48837                           0                         0   \n",
       "48839                           0                         0   \n",
       "48840                           0                         0   \n",
       "48841                           1                         0   \n",
       "\n",
       "       occupation_Prof-specialty  relationship_Husband  \\\n",
       "0                              0                     0   \n",
       "1                              0                     1   \n",
       "2                              0                     0   \n",
       "3                              0                     1   \n",
       "4                              1                     0   \n",
       "...                          ...                   ...   \n",
       "48836                          1                     0   \n",
       "48837                          1                     0   \n",
       "48839                          1                     1   \n",
       "48840                          0                     0   \n",
       "48841                          0                     1   \n",
       "\n",
       "       relationship_Not-in-family  relationship_Own-child  \\\n",
       "0                               1                       0   \n",
       "1                               0                       0   \n",
       "2                               1                       0   \n",
       "3                               0                       0   \n",
       "4                               0                       0   \n",
       "...                           ...                     ...   \n",
       "48836                           0                       1   \n",
       "48837                           1                       0   \n",
       "48839                           0                       0   \n",
       "48840                           0                       1   \n",
       "48841                           0                       0   \n",
       "\n",
       "       relationship_Unmarried  relationship_Wife  \n",
       "0                           0                  0  \n",
       "1                           0                  0  \n",
       "2                           0                  0  \n",
       "3                           0                  0  \n",
       "4                           0                  1  \n",
       "...                       ...                ...  \n",
       "48836                       0                  0  \n",
       "48837                       0                  0  \n",
       "48839                       0                  0  \n",
       "48840                       0                  0  \n",
       "48841                       0                  0  \n",
       "\n",
       "[45537 rows x 18 columns]"
      ]
     },
     "execution_count": 21,
     "metadata": {},
     "output_type": "execute_result"
    }
   ],
   "source": [
    "df"
   ]
  },
  {
   "cell_type": "markdown",
   "metadata": {},
   "source": [
    "## Train and test split"
   ]
  },
  {
   "cell_type": "code",
   "execution_count": 23,
   "metadata": {},
   "outputs": [],
   "source": [
    "from sklearn.model_selection import train_test_split\n",
    "X = df.drop('>50K',axis=1)\n",
    "y = df['>50K']\n",
    "X_train, X_test, y_train, y_test = train_test_split(X, y, test_size=0.25, random_state=0, shuffle=False)"
   ]
  },
  {
   "cell_type": "code",
   "execution_count": 24,
   "metadata": {},
   "outputs": [
    {
     "name": "stdout",
     "output_type": "stream",
     "text": [
      "0.25149332396345747\n",
      "0.24883618796662274\n"
     ]
    }
   ],
   "source": [
    "#Checking the propotions of the Y train and Y test.\n",
    "print(y_train.sum()/y_train.count())\n",
    "print(y_test.sum()/y_test.count())"
   ]
  },
  {
   "cell_type": "code",
   "execution_count": 25,
   "metadata": {},
   "outputs": [],
   "source": [
    "from sklearn.model_selection import GridSearchCV\n",
    "from sklearn.ensemble import AdaBoostClassifier\n",
    "from sklearn.ensemble import GradientBoostingClassifier\n",
    "from sklearn.tree import DecisionTreeClassifier \n",
    "from sklearn.model_selection import cross_val_score\n",
    "from sklearn.model_selection import RepeatedStratifiedKFold\n",
    "from sklearn.neighbors import KNeighborsClassifier\n",
    "from sklearn.linear_model import LogisticRegression"
   ]
  },
  {
   "cell_type": "markdown",
   "metadata": {},
   "source": [
    "## Performance metrics  - cross validation"
   ]
  },
  {
   "cell_type": "markdown",
   "metadata": {},
   "source": [
    "Using the default option"
   ]
  },
  {
   "cell_type": "code",
   "execution_count": 26,
   "metadata": {},
   "outputs": [],
   "source": [
    "def performance_metrics(list_of_algorithms,measurment,list_names):\n",
    "    \n",
    "    scores = []\n",
    "    for i in range(len(list_of_algorithms)):\n",
    "        model = list_of_algorithms[i]\n",
    "        cv  = RepeatedStratifiedKFold(n_splits=10, n_repeats=3, random_state=1)\n",
    "        score = cross_val_score(model, X, y, scoring=measurment , cv=cv, n_jobs=-1)\n",
    "        scores.append(score)\n",
    "        \n",
    "    scores = [np.mean(score[i]) for i in range(len(scores))]\n",
    "    dataframe = pd.DataFrame(scores , index=list_names,columns = [measurment])\n",
    "    dataframe = dataframe.sort_values(by=[measurment],ascending=False)\n",
    "    \n",
    "        \n",
    "    return dataframe"
   ]
  },
  {
   "cell_type": "markdown",
   "metadata": {},
   "source": [
    "algorithms for classification"
   ]
  },
  {
   "cell_type": "code",
   "execution_count": 29,
   "metadata": {},
   "outputs": [],
   "source": [
    "knn_classifier = KNeighborsClassifier()\n",
    "decision_tree = DecisionTreeClassifier()\n",
    "ada_boost = AdaBoostClassifier()\n",
    "logistic_regression = LogisticRegression()\n",
    "list_of_algorithms = [knn_classifier,decision_tree,ada_boost,logistic_regression]\n",
    "list_names = ['knn_classifier','decision_tree','ada boost','logistic_regression']"
   ]
  },
  {
   "cell_type": "markdown",
   "metadata": {},
   "source": [
    "## Accuracy"
   ]
  },
  {
   "cell_type": "code",
   "execution_count": 30,
   "metadata": {},
   "outputs": [
    {
     "data": {
      "text/html": [
       "<div>\n",
       "<style scoped>\n",
       "    .dataframe tbody tr th:only-of-type {\n",
       "        vertical-align: middle;\n",
       "    }\n",
       "\n",
       "    .dataframe tbody tr th {\n",
       "        vertical-align: top;\n",
       "    }\n",
       "\n",
       "    .dataframe thead th {\n",
       "        text-align: right;\n",
       "    }\n",
       "</style>\n",
       "<table border=\"1\" class=\"dataframe\">\n",
       "  <thead>\n",
       "    <tr style=\"text-align: right;\">\n",
       "      <th></th>\n",
       "      <th>accuracy</th>\n",
       "    </tr>\n",
       "  </thead>\n",
       "  <tbody>\n",
       "    <tr>\n",
       "      <th>knn_classifier</th>\n",
       "      <td>0.826087</td>\n",
       "    </tr>\n",
       "    <tr>\n",
       "      <th>ada boost</th>\n",
       "      <td>0.820378</td>\n",
       "    </tr>\n",
       "    <tr>\n",
       "      <th>decision_tree</th>\n",
       "      <td>0.819060</td>\n",
       "    </tr>\n",
       "    <tr>\n",
       "      <th>logistic_regression</th>\n",
       "      <td>0.815986</td>\n",
       "    </tr>\n",
       "  </tbody>\n",
       "</table>\n",
       "</div>"
      ],
      "text/plain": [
       "                     accuracy\n",
       "knn_classifier       0.826087\n",
       "ada boost            0.820378\n",
       "decision_tree        0.819060\n",
       "logistic_regression  0.815986"
      ]
     },
     "execution_count": 30,
     "metadata": {},
     "output_type": "execute_result"
    }
   ],
   "source": [
    "performance_metrics(list_of_algorithms,'accuracy',list_names)"
   ]
  },
  {
   "cell_type": "markdown",
   "metadata": {},
   "source": [
    "## Precision"
   ]
  },
  {
   "cell_type": "code",
   "execution_count": 31,
   "metadata": {},
   "outputs": [
    {
     "data": {
      "text/html": [
       "<div>\n",
       "<style scoped>\n",
       "    .dataframe tbody tr th:only-of-type {\n",
       "        vertical-align: middle;\n",
       "    }\n",
       "\n",
       "    .dataframe tbody tr th {\n",
       "        vertical-align: top;\n",
       "    }\n",
       "\n",
       "    .dataframe thead th {\n",
       "        text-align: right;\n",
       "    }\n",
       "</style>\n",
       "<table border=\"1\" class=\"dataframe\">\n",
       "  <thead>\n",
       "    <tr style=\"text-align: right;\">\n",
       "      <th></th>\n",
       "      <th>precision</th>\n",
       "    </tr>\n",
       "  </thead>\n",
       "  <tbody>\n",
       "    <tr>\n",
       "      <th>knn_classifier</th>\n",
       "      <td>0.678571</td>\n",
       "    </tr>\n",
       "    <tr>\n",
       "      <th>decision_tree</th>\n",
       "      <td>0.663918</td>\n",
       "    </tr>\n",
       "    <tr>\n",
       "      <th>ada boost</th>\n",
       "      <td>0.662651</td>\n",
       "    </tr>\n",
       "    <tr>\n",
       "      <th>logistic_regression</th>\n",
       "      <td>0.654158</td>\n",
       "    </tr>\n",
       "  </tbody>\n",
       "</table>\n",
       "</div>"
      ],
      "text/plain": [
       "                     precision\n",
       "knn_classifier        0.678571\n",
       "decision_tree         0.663918\n",
       "ada boost             0.662651\n",
       "logistic_regression   0.654158"
      ]
     },
     "execution_count": 31,
     "metadata": {},
     "output_type": "execute_result"
    }
   ],
   "source": [
    "performance_metrics(list_of_algorithms,'precision',list_names)"
   ]
  },
  {
   "cell_type": "markdown",
   "metadata": {},
   "source": [
    "## Recall"
   ]
  },
  {
   "cell_type": "code",
   "execution_count": 32,
   "metadata": {},
   "outputs": [
    {
     "data": {
      "text/html": [
       "<div>\n",
       "<style scoped>\n",
       "    .dataframe tbody tr th:only-of-type {\n",
       "        vertical-align: middle;\n",
       "    }\n",
       "\n",
       "    .dataframe tbody tr th {\n",
       "        vertical-align: top;\n",
       "    }\n",
       "\n",
       "    .dataframe thead th {\n",
       "        text-align: right;\n",
       "    }\n",
       "</style>\n",
       "<table border=\"1\" class=\"dataframe\">\n",
       "  <thead>\n",
       "    <tr style=\"text-align: right;\">\n",
       "      <th></th>\n",
       "      <th>recall</th>\n",
       "    </tr>\n",
       "  </thead>\n",
       "  <tbody>\n",
       "    <tr>\n",
       "      <th>knn_classifier</th>\n",
       "      <td>0.582312</td>\n",
       "    </tr>\n",
       "    <tr>\n",
       "      <th>ada boost</th>\n",
       "      <td>0.577933</td>\n",
       "    </tr>\n",
       "    <tr>\n",
       "      <th>logistic_regression</th>\n",
       "      <td>0.564799</td>\n",
       "    </tr>\n",
       "    <tr>\n",
       "      <th>decision_tree</th>\n",
       "      <td>0.563923</td>\n",
       "    </tr>\n",
       "  </tbody>\n",
       "</table>\n",
       "</div>"
      ],
      "text/plain": [
       "                       recall\n",
       "knn_classifier       0.582312\n",
       "ada boost            0.577933\n",
       "logistic_regression  0.564799\n",
       "decision_tree        0.563923"
      ]
     },
     "execution_count": 32,
     "metadata": {},
     "output_type": "execute_result"
    }
   ],
   "source": [
    "performance_metrics(list_of_algorithms,'recall',list_names)"
   ]
  },
  {
   "cell_type": "markdown",
   "metadata": {},
   "source": [
    "## F1 "
   ]
  },
  {
   "cell_type": "code",
   "execution_count": 33,
   "metadata": {},
   "outputs": [
    {
     "data": {
      "text/html": [
       "<div>\n",
       "<style scoped>\n",
       "    .dataframe tbody tr th:only-of-type {\n",
       "        vertical-align: middle;\n",
       "    }\n",
       "\n",
       "    .dataframe tbody tr th {\n",
       "        vertical-align: top;\n",
       "    }\n",
       "\n",
       "    .dataframe thead th {\n",
       "        text-align: right;\n",
       "    }\n",
       "</style>\n",
       "<table border=\"1\" class=\"dataframe\">\n",
       "  <thead>\n",
       "    <tr style=\"text-align: right;\">\n",
       "      <th></th>\n",
       "      <th>f1</th>\n",
       "    </tr>\n",
       "  </thead>\n",
       "  <tbody>\n",
       "    <tr>\n",
       "      <th>knn_classifier</th>\n",
       "      <td>0.626767</td>\n",
       "    </tr>\n",
       "    <tr>\n",
       "      <th>ada boost</th>\n",
       "      <td>0.617399</td>\n",
       "    </tr>\n",
       "    <tr>\n",
       "      <th>decision_tree</th>\n",
       "      <td>0.609848</td>\n",
       "    </tr>\n",
       "    <tr>\n",
       "      <th>logistic_regression</th>\n",
       "      <td>0.606203</td>\n",
       "    </tr>\n",
       "  </tbody>\n",
       "</table>\n",
       "</div>"
      ],
      "text/plain": [
       "                           f1\n",
       "knn_classifier       0.626767\n",
       "ada boost            0.617399\n",
       "decision_tree        0.609848\n",
       "logistic_regression  0.606203"
      ]
     },
     "execution_count": 33,
     "metadata": {},
     "output_type": "execute_result"
    }
   ],
   "source": [
    "performance_metrics(list_of_algorithms,'f1',list_names)"
   ]
  },
  {
   "cell_type": "markdown",
   "metadata": {},
   "source": [
    "Before finding the optimal hyperparameters it looks that knn classifier will be the best algorithm for this dataset"
   ]
  },
  {
   "cell_type": "code",
   "execution_count": null,
   "metadata": {},
   "outputs": [],
   "source": [
    "from sklearn.metrics import roc_auc_score,roc_curve\n",
    "from sklearn.metrics import accuracy_score, recall_score, precision_score, f1_score"
   ]
  },
  {
   "cell_type": "markdown",
   "metadata": {},
   "source": [
    "## Finding the optimal hyperparameters using GridSearch CV"
   ]
  },
  {
   "cell_type": "markdown",
   "metadata": {},
   "source": [
    "## Decision Tree"
   ]
  },
  {
   "cell_type": "code",
   "execution_count": 35,
   "metadata": {},
   "outputs": [
    {
     "name": "stdout",
     "output_type": "stream",
     "text": [
      "\n",
      "Best parameters for Decision Tree Algorithm : {'max_depth': 10, 'min_samples_leaf': 7, 'min_samples_split': 2}\n",
      "\n"
     ]
    }
   ],
   "source": [
    "decision_tree = DecisionTreeClassifier(random_state=1)\n",
    "min_split = list(range(2,11))\n",
    "min_leaf = list(range(1,11))\n",
    "max_depth = list(range(3,11))\n",
    "params = {\n",
    "    'min_samples_split': min_split, \n",
    "    'min_samples_leaf':min_leaf,\n",
    "    'max_depth':max_depth\n",
    "}\n",
    "tree_cv = GridSearchCV(decision_tree, param_grid=params, n_jobs=-1,cv=5)\n",
    "tree_cv.fit(X_train,y_train)\n",
    "print(\"\\nBest parameters for Decision Tree Algorithm : {}\\n\".format(tree_cv.best_params_))"
   ]
  },
  {
   "cell_type": "code",
   "execution_count": 36,
   "metadata": {},
   "outputs": [
    {
     "name": "stdout",
     "output_type": "stream",
     "text": [
      "DecisionTree test_set accuracy score: 0.823\n",
      "DecisionTree test_set recall score: 0.520\n",
      "DecisionTree test_set precision score: 0.691\n",
      "DecisionTree test_set f1 score: 0.593\n",
      "ROC score for DecisionTree {'max_depth': 10, 'min_samples_leaf': 7, 'min_samples_split': 2} : 0.868\n"
     ]
    }
   ],
   "source": [
    "decision_tree_optimal = DecisionTreeClassifier(max_depth=tree_cv.best_params_['max_depth'], min_samples_leaf=tree_cv.best_params_['min_samples_leaf'],\n",
    "                          min_samples_split=tree_cv.best_params_['min_samples_split'])\n",
    "\n",
    "\n",
    "decision_tree_optimal.fit(X_train, y_train)\n",
    "\n",
    "#Get predicted probabilites from the model\n",
    "y_probabilities = decision_tree_optimal.predict_proba(X_test)[:,1]\n",
    "y_train_pred = decision_tree_optimal.predict(X_train)\n",
    "y_test_pred = decision_tree_optimal.predict(X_test)\n",
    "\n",
    "#Accuracy scores \n",
    "tree_test_accuracy = accuracy_score(y_test, y_test_pred)\n",
    "print('DecisionTree test_set accuracy score: {0:0.3f}'.format(tree_test_accuracy))\n",
    "\n",
    "#Recall scores \n",
    "tree_test_recall = recall_score(y_test, y_test_pred)\n",
    "print('DecisionTree test_set recall score: {0:0.3f}'.format(tree_test_recall))\n",
    "\n",
    "#Precision scores \n",
    "tree_test_precision = precision_score(y_test, y_test_pred)\n",
    "print('DecisionTree test_set precision score: {0:0.3f}'.format(tree_test_precision))\n",
    "\n",
    "#f1 score\n",
    "tree_test_f1 = f1_score(y_test,y_test_pred)\n",
    "print('DecisionTree test_set f1 score: {0:0.3f}'.format(tree_test_f1))\n",
    "\n",
    "\n",
    "#Create true and false positive rates\n",
    "FP_rate_tree,TP_rate_tree,threshold_knn = roc_curve(y_test,y_probabilities)\n",
    "ROC_score = roc_auc_score(y_test, y_probabilities)\n",
    "print('ROC score for DecisionTree', tree_cv.best_params_, ': {0:0.3f}'.format(ROC_score))"
   ]
  },
  {
   "cell_type": "markdown",
   "metadata": {},
   "source": [
    "**ROC plot - decision tree**"
   ]
  },
  {
   "cell_type": "code",
   "execution_count": 37,
   "metadata": {},
   "outputs": [
    {
     "data": {
      "image/png": "[encoded data removed]",
      "text/plain": [
       "<Figure size 720x432 with 1 Axes>"
      ]
     },
     "metadata": {
      "needs_background": "light"
     },
     "output_type": "display_data"
    }
   ],
   "source": [
    "plt.figure(figsize=(10,6))\n",
    "plt.title('DecisionTree Receiver Operating Characterstic - ROC')\n",
    "plt.plot(FP_rate_tree,TP_rate_tree)\n",
    "plt.plot([0,1],ls='--')\n",
    "plt.plot([0,0],[1,0],c='.5')\n",
    "plt.plot([1,1],c='.5')\n",
    "plt.xlabel('False Positive Rate')\n",
    "plt.ylabel('True Positive Rate')\n",
    "plt.show()"
   ]
  },
  {
   "cell_type": "markdown",
   "metadata": {},
   "source": [
    "**Confusion metrix - decision tree**"
   ]
  },
  {
   "cell_type": "code",
   "execution_count": 53,
   "metadata": {},
   "outputs": [
    {
     "data": {
      "image/png": "[encoded data removed]",
      "text/plain": [
       "<Figure size 576x576 with 1 Axes>"
      ]
     },
     "metadata": {
      "needs_background": "light"
     },
     "output_type": "display_data"
    }
   ],
   "source": [
    "decision_tree = DecisionTreeClassifier(max_depth= 10, min_samples_leaf= 7,min_samples_split= 2)\n",
    "decision_tree.fit(X_train, y_train)\n",
    "y_pred = decision_tree.predict(X_test)\n",
    "class_names = np.array([0,1])\n",
    "disp = plot_confusion_matrix(y_pred, y_test, class_names,\n",
    "                                 cmap=plt.cm.Blues)"
   ]
  },
  {
   "cell_type": "markdown",
   "metadata": {},
   "source": [
    "## Logistic Regression"
   ]
  },
  {
   "cell_type": "code",
   "execution_count": 54,
   "metadata": {},
   "outputs": [
    {
     "name": "stdout",
     "output_type": "stream",
     "text": [
      "\n",
      "Best parameters for LogisticRegression : {'C': 1.0, 'penalty': 'l1', 'solver': 'saga'}\n",
      "\n"
     ]
    }
   ],
   "source": [
    "logistic = LogisticRegression(random_state=1,max_iter=1000)\n",
    "C = np.logspace(0, 4, num=10)\n",
    "penalty = ['l1', 'l2']\n",
    "solver = ['liblinear', 'saga']\n",
    "params = {\n",
    "    'C': C, \n",
    "    'penalty':penalty,\n",
    "    'solver':solver\n",
    "}\n",
    "\n",
    "logistic_cv = GridSearchCV(logistic, param_grid=params, n_jobs=-1,cv=5)\n",
    "logistic_cv.fit(X_train,y_train)\n",
    "print(\"\\nBest parameters for LogisticRegression : {}\\n\".format(logistic_cv.best_params_))"
   ]
  },
  {
   "cell_type": "code",
   "execution_count": 55,
   "metadata": {},
   "outputs": [
    {
     "name": "stdout",
     "output_type": "stream",
     "text": [
      "Logistic Regression test_set accuracy score: 0.825\n",
      "Logistic Regression test_set recall score: 0.577\n",
      "Logistic test_set precision score: 0.673\n",
      "Logistic test_set f1 score: 0.621\n",
      "ROC score for Logistic Regression {'C': 1.0, 'penalty': 'l1', 'solver': 'saga'} : 0.871\n"
     ]
    }
   ],
   "source": [
    "logistic_optimal = LogisticRegression(C=logistic_cv.best_params_['C'], penalty=logistic_cv.best_params_['penalty'],\n",
    "                          solver=logistic_cv.best_params_['solver'],random_state=1,max_iter=1000)\n",
    "\n",
    "\n",
    "logistic_optimal.fit(X_train, y_train)\n",
    "#Get predicted probabilites from the model\n",
    "\n",
    "y_probabilities = logistic_optimal.predict_proba(X_test)[:,1]\n",
    "y_train_pred = logistic_optimal.predict(X_train)\n",
    "y_test_pred = logistic_optimal.predict(X_test)\n",
    "\n",
    "#Accuracy scores for best model \n",
    "logistic_test_accuracy = accuracy_score(y_test, y_test_pred)\n",
    "print('Logistic Regression test_set accuracy score: {0:0.3f}'.format(logistic_test_accuracy))\n",
    "\n",
    "#Recall scores for best model \n",
    "logistic_test_recall = recall_score(y_test, y_test_pred)\n",
    "print('Logistic Regression test_set recall score: {0:0.3f}'.format(logistic_test_recall))\n",
    "\n",
    "#Precision scores \n",
    "logistic_test_precision = precision_score(y_test, y_test_pred)\n",
    "print('Logistic test_set precision score: {0:0.3f}'.format(logistic_test_precision))\n",
    "\n",
    "#f1 score\n",
    "logistic_test_f1 = f1_score(y_test,y_test_pred)\n",
    "print('Logistic test_set f1 score: {0:0.3f}'.format(logistic_test_f1))\n",
    "\n",
    "\n",
    "\n",
    "\n",
    "#Create true and false positive rates\n",
    "FP_rate_logistic,TP_rate_logistic,threshold_knn = roc_curve(y_test,y_probabilities)\n",
    "ROC_score = roc_auc_score(y_test, y_probabilities)\n",
    "print('ROC score for Logistic Regression', logistic_cv.best_params_, ': {0:0.3f}'.format(ROC_score))"
   ]
  },
  {
   "cell_type": "markdown",
   "metadata": {},
   "source": [
    "**ROC plot - logistic regression**"
   ]
  },
  {
   "cell_type": "code",
   "execution_count": 56,
   "metadata": {},
   "outputs": [
    {
     "data": {
      "image/png": "[encoded data removed]",
      "text/plain": [
       "<Figure size 720x432 with 1 Axes>"
      ]
     },
     "metadata": {
      "needs_background": "light"
     },
     "output_type": "display_data"
    }
   ],
   "source": [
    "plt.figure(figsize=(10,6))\n",
    "plt.title('Logistic Receiver Operating Characterstic - ROC')\n",
    "plt.plot(FP_rate_logistic,TP_rate_logistic)\n",
    "plt.plot([0,1],ls='--')\n",
    "plt.plot([0,0],[1,0],c='.5')\n",
    "plt.plot([1,1],c='.5')\n",
    "plt.xlabel('False Positive Rate')\n",
    "plt.ylabel('True Positive Rate')\n",
    "plt.show()"
   ]
  },
  {
   "cell_type": "markdown",
   "metadata": {},
   "source": [
    "**Confusion metrix - decision tree**"
   ]
  },
  {
   "cell_type": "code",
   "execution_count": 57,
   "metadata": {},
   "outputs": [
    {
     "data": {
      "image/png": "[encoded data removed]",
      "text/plain": [
       "<Figure size 576x576 with 1 Axes>"
      ]
     },
     "metadata": {
      "needs_background": "light"
     },
     "output_type": "display_data"
    }
   ],
   "source": [
    "logistic = LogisticRegression(C= 1.0, penalty ='l1', solver = 'saga',max_iter = 1000)\n",
    "logistic.fit(X_train, y_train)\n",
    "y_pred = logistic.predict(X_test)\n",
    "disp = plot_confusion_matrix(y_pred, y_test, class_names,\n",
    "                                 cmap=plt.cm.Blues)"
   ]
  },
  {
   "cell_type": "markdown",
   "metadata": {},
   "source": [
    "## KNN neighbors classifier"
   ]
  },
  {
   "cell_type": "code",
   "execution_count": 58,
   "metadata": {},
   "outputs": [
    {
     "name": "stdout",
     "output_type": "stream",
     "text": [
      "\n",
      "Best parameters for KNN classifier: {'n_neighbors': 19, 'p': 2}\n",
      "\n"
     ]
    }
   ],
   "source": [
    "knn =KNeighborsClassifier()\n",
    "neighbors = list(range(1,20))\n",
    "\n",
    "params = {\n",
    "    'n_neighbors':neighbors,\n",
    "    'p':[1, 2]\n",
    "         }\n",
    "knn_cv = GridSearchCV(knn,params,cv=5, n_jobs=-1)\n",
    "knn_cv.fit(X_train, y_train)\n",
    "print(\"\\nBest parameters for KNN classifier: {}\\n\".format(knn_cv.best_params_))"
   ]
  },
  {
   "cell_type": "code",
   "execution_count": 59,
   "metadata": {},
   "outputs": [
    {
     "name": "stdout",
     "output_type": "stream",
     "text": [
      "KNN test_set accuracy score: 0.815\n",
      "KNN test_set recall score: 0.595\n",
      "KNN test_set precision score: 0.637\n",
      "KNN test_set f1 score: 0.615\n",
      "ROC score for knn with CV configured for {'n_neighbors': 19, 'p': 2} : 0.863\n"
     ]
    }
   ],
   "source": [
    "# We will use the parameters we got from CV optimization\n",
    "knn_optimal = KNeighborsClassifier(n_neighbors=knn_cv.best_params_['n_neighbors'], p=knn_cv.best_params_['p'])\n",
    "knn_optimal.fit(X_train, y_train)\n",
    "\n",
    "#Get predicted probabilites from the model\n",
    "y_probabilities = knn_optimal.predict_proba(X_test)[:,1]\n",
    "y_train_pred = knn_optimal.predict(X_train)\n",
    "y_test_pred = knn_optimal.predict(X_test)\n",
    "\n",
    "#Accuracy scores for best model \n",
    "knn_test_accuracy = accuracy_score(y_test, y_test_pred)\n",
    "print('KNN test_set accuracy score: {0:0.3f}'.format(knn_test_accuracy))\n",
    "\n",
    "#Recall scores for best model \n",
    "knn_test_recall = recall_score(y_test, y_test_pred)\n",
    "print('KNN test_set recall score: {0:0.3f}'.format(knn_test_recall))\n",
    "\n",
    "\n",
    "#Precision scores \n",
    "knn_test_precision = precision_score(y_test, y_test_pred)\n",
    "print('KNN test_set precision score: {0:0.3f}'.format(knn_test_precision))\n",
    "\n",
    "#f1 score\n",
    "knn_test_f1 = f1_score(y_test,y_test_pred)\n",
    "print('KNN test_set f1 score: {0:0.3f}'.format(knn_test_f1))\n",
    "\n",
    "#Create true and false positive rates\n",
    "FP_rate_knn,TP_rate_knn,threshold_knn = roc_curve(y_test,y_probabilities)\n",
    "ROC_score_knn = roc_auc_score(y_test, y_probabilities)\n",
    "print('ROC score for knn with CV configured for', knn_cv.best_params_, ': {0:0.3f}'.format(ROC_score_knn))"
   ]
  },
  {
   "cell_type": "markdown",
   "metadata": {},
   "source": [
    "**ROC plot - knn**"
   ]
  },
  {
   "cell_type": "code",
   "execution_count": 60,
   "metadata": {},
   "outputs": [
    {
     "data": {
      "image/png": "[encoded data removed]",
      "text/plain": [
       "<Figure size 720x432 with 1 Axes>"
      ]
     },
     "metadata": {
      "needs_background": "light"
     },
     "output_type": "display_data"
    }
   ],
   "source": [
    "plt.figure(figsize=(10,6))\n",
    "plt.title('KNN -Receiver Operating Characterstic - ROC')\n",
    "plt.plot(FP_rate_knn,TP_rate_knn)\n",
    "plt.plot([0,1],ls='--')\n",
    "plt.plot([0,0],[1,0],c='.5')\n",
    "plt.plot([1,1],c='.5')\n",
    "plt.xlabel('False Positive Rate')\n",
    "plt.ylabel('True Positive Rate')\n",
    "plt.show()"
   ]
  },
  {
   "cell_type": "markdown",
   "metadata": {},
   "source": [
    "**Confusion metrix - KNN**"
   ]
  },
  {
   "cell_type": "code",
   "execution_count": 61,
   "metadata": {},
   "outputs": [
    {
     "data": {
      "image/png": "[encoded data removed]",
      "text/plain": [
       "<Figure size 576x576 with 1 Axes>"
      ]
     },
     "metadata": {
      "needs_background": "light"
     },
     "output_type": "display_data"
    }
   ],
   "source": [
    "knn = KNeighborsClassifier(n_neighbors= 19, p= 2)\n",
    "knn.fit(X_train, y_train)\n",
    "y_pred = knn.predict(X_test)\n",
    "disp = plot_confusion_matrix(y_pred, y_test, class_names,\n",
    "                                 cmap=plt.cm.Blues)"
   ]
  },
  {
   "cell_type": "markdown",
   "metadata": {},
   "source": [
    "## AdaBoost"
   ]
  },
  {
   "cell_type": "code",
   "execution_count": 62,
   "metadata": {},
   "outputs": [
    {
     "name": "stdout",
     "output_type": "stream",
     "text": [
      "\n",
      "Best parameters for AdaBoost classifier: {'learning_rate': 0.1, 'n_estimators': 500}\n",
      "\n"
     ]
    }
   ],
   "source": [
    "ada =AdaBoostClassifier(base_estimator=DecisionTreeClassifier())\n",
    "learning_rate = [.001,0.01,.1]\n",
    "n_estimators = [500,1000,2000]\n",
    "params = {\n",
    "    'learning_rate':learning_rate,\n",
    "    'n_estimators':n_estimators\n",
    "         }\n",
    "ada_cv = GridSearchCV(ada,params,cv=5, n_jobs=-1)\n",
    "ada_cv.fit(X_train, y_train)\n",
    "print(\"\\nBest parameters for AdaBoost classifier: {}\\n\".format(ada_cv.best_params_))"
   ]
  },
  {
   "cell_type": "code",
   "execution_count": 65,
   "metadata": {},
   "outputs": [
    {
     "name": "stdout",
     "output_type": "stream",
     "text": [
      "AdaBoost test_set accuracy score: 0.826\n",
      "AdaBoost test_set recall score: 0.511\n",
      "AdaBoost test_set precision score: 0.709\n",
      "AdaBoost test_set f1 score: 0.594\n",
      "ROC score for AdaBoost : {'learning_rate': 0.1, 'n_estimators': 500} : 0.875\n"
     ]
    }
   ],
   "source": [
    "Ada_boost_optimal = AdaBoostClassifier(learning_rate= ada_cv.best_params_['learning_rate'],n_estimators=ada_cv.best_params_['n_estimators'])\n",
    "\n",
    "\n",
    "Ada_boost_optimal.fit(X_train, y_train)\n",
    "#Get predicted probabilites from the model\n",
    "y_probabilities = Ada_boost_optimal.predict_proba(X_test)[:,1]\n",
    "y_train_pred = Ada_boost_optimal.predict(X_train)\n",
    "y_test_pred = Ada_boost_optimal.predict(X_test)\n",
    "\n",
    "#Accuracy scores for best model \n",
    "ada_test_accuracy = accuracy_score(y_test, y_test_pred)\n",
    "print('AdaBoost test_set accuracy score: {0:0.3f}'.format(ada_test_accuracy))\n",
    "\n",
    "#Recall scores for best model \n",
    "ada_test_recall = recall_score(y_test, y_test_pred)\n",
    "print('AdaBoost test_set recall score: {0:0.3f}'.format(ada_test_recall))\n",
    "\n",
    "\n",
    "#Precision scores \n",
    "ada_test_precision = precision_score(y_test, y_test_pred)\n",
    "print('AdaBoost test_set precision score: {0:0.3f}'.format(ada_test_precision))\n",
    "\n",
    "#f1 score\n",
    "ada_test_f1 = f1_score(y_test,y_test_pred)\n",
    "print('AdaBoost test_set f1 score: {0:0.3f}'.format(ada_test_f1))\n",
    "\n",
    "#Create true and false positive rates\n",
    "FP_rate_ada,TP_rate_ada,threshold_knn = roc_curve(y_test,y_probabilities)\n",
    "ROC_score = roc_auc_score(y_test, y_probabilities)\n",
    "print('ROC score for AdaBoost :', ada_cv.best_params_, ': {0:0.3f}'.format(ROC_score))"
   ]
  },
  {
   "cell_type": "markdown",
   "metadata": {},
   "source": [
    "**ROC plot - adaboost**"
   ]
  },
  {
   "cell_type": "code",
   "execution_count": 66,
   "metadata": {},
   "outputs": [
    {
     "data": {
      "image/png": "[encoded data removed]",
      "text/plain": [
       "<Figure size 720x432 with 1 Axes>"
      ]
     },
     "metadata": {
      "needs_background": "light"
     },
     "output_type": "display_data"
    }
   ],
   "source": [
    "plt.figure(figsize=(10,6))\n",
    "plt.title('AdaBoost Receiver Operating Characterstic - ROC')\n",
    "plt.plot(FP_rate_ada,TP_rate_ada)\n",
    "plt.plot([0,1],ls='--')\n",
    "plt.plot([0,0],[1,0],c='.5')\n",
    "plt.plot([1,1],c='.5')\n",
    "plt.xlabel('False Positive Rate')\n",
    "plt.ylabel('True Positive Rate')\n",
    "plt.show()"
   ]
  },
  {
   "cell_type": "markdown",
   "metadata": {},
   "source": [
    "**Confusion metrix - adaboost**"
   ]
  },
  {
   "cell_type": "code",
   "execution_count": 67,
   "metadata": {},
   "outputs": [
    {
     "data": {
      "text/plain": [
       "Text(0.5, 1, 'Confusion Metrix for AdaBoost')"
      ]
     },
     "execution_count": 67,
     "metadata": {},
     "output_type": "execute_result"
    },
    {
     "data": {
      "image/png": "[encoded data removed]",
      "text/plain": [
       "<Figure size 576x576 with 1 Axes>"
      ]
     },
     "metadata": {
      "needs_background": "light"
     },
     "output_type": "display_data"
    }
   ],
   "source": [
    "ada = AdaBoostClassifier(learning_rate= 0.1, n_estimators= 500)\n",
    "ada.fit(X_train, y_train)\n",
    "y_pred = ada.predict(X_test)\n",
    "disp = plot_confusion_matrix(y_pred, y_test, class_names,\n",
    "                                 cmap=plt.cm.Blues)\n",
    "plt.title('Confusion Metrix for AdaBoost')"
   ]
  },
  {
   "cell_type": "markdown",
   "metadata": {},
   "source": [
    "## Summarize all metrics"
   ]
  },
  {
   "cell_type": "code",
   "execution_count": 68,
   "metadata": {},
   "outputs": [],
   "source": [
    "dataframe = pd.DataFrame(index = list_names)\n",
    "dataframe['accuracy'] = [knn_test_accuracy,tree_test_accuracy,ada_test_accuracy,logistic_test_accuracy]\n",
    "dataframe['recall'] = [knn_test_recall,tree_test_recall,ada_test_recall,logistic_test_recall]\n",
    "dataframe['precision'] =[knn_test_precision,tree_test_precision,ada_test_precision,logistic_test_precision]\n",
    "dataframe['f1'] = [knn_test_f1,tree_test_f1,ada_test_f1,logistic_test_f1]"
   ]
  },
  {
   "cell_type": "markdown",
   "metadata": {},
   "source": [
    "Choosing F1 as the most important metric for this problem.\n",
    "accuracy can be mislead becuase of the distribution of target variable. (75% are zeros)"
   ]
  },
  {
   "cell_type": "code",
   "execution_count": 69,
   "metadata": {},
   "outputs": [],
   "source": [
    "dataframe = dataframe.sort_values('f1',ascending=False)"
   ]
  },
  {
   "cell_type": "code",
   "execution_count": 70,
   "metadata": {},
   "outputs": [
    {
     "data": {
      "text/html": [
       "<div>\n",
       "<style scoped>\n",
       "    .dataframe tbody tr th:only-of-type {\n",
       "        vertical-align: middle;\n",
       "    }\n",
       "\n",
       "    .dataframe tbody tr th {\n",
       "        vertical-align: top;\n",
       "    }\n",
       "\n",
       "    .dataframe thead th {\n",
       "        text-align: right;\n",
       "    }\n",
       "</style>\n",
       "<table border=\"1\" class=\"dataframe\">\n",
       "  <thead>\n",
       "    <tr style=\"text-align: right;\">\n",
       "      <th></th>\n",
       "      <th>accuracy</th>\n",
       "      <th>recall</th>\n",
       "      <th>precision</th>\n",
       "      <th>f1</th>\n",
       "    </tr>\n",
       "  </thead>\n",
       "  <tbody>\n",
       "    <tr>\n",
       "      <th>logistic_regression</th>\n",
       "      <td>0.824945</td>\n",
       "      <td>0.577127</td>\n",
       "      <td>0.672840</td>\n",
       "      <td>0.621319</td>\n",
       "    </tr>\n",
       "    <tr>\n",
       "      <th>knn_classifier</th>\n",
       "      <td>0.814844</td>\n",
       "      <td>0.595482</td>\n",
       "      <td>0.636844</td>\n",
       "      <td>0.615469</td>\n",
       "    </tr>\n",
       "    <tr>\n",
       "      <th>ada boost</th>\n",
       "      <td>0.826263</td>\n",
       "      <td>0.511472</td>\n",
       "      <td>0.709251</td>\n",
       "      <td>0.594340</td>\n",
       "    </tr>\n",
       "    <tr>\n",
       "      <th>decision_tree</th>\n",
       "      <td>0.822749</td>\n",
       "      <td>0.519591</td>\n",
       "      <td>0.691404</td>\n",
       "      <td>0.593309</td>\n",
       "    </tr>\n",
       "  </tbody>\n",
       "</table>\n",
       "</div>"
      ],
      "text/plain": [
       "                     accuracy    recall  precision        f1\n",
       "logistic_regression  0.824945  0.577127   0.672840  0.621319\n",
       "knn_classifier       0.814844  0.595482   0.636844  0.615469\n",
       "ada boost            0.826263  0.511472   0.709251  0.594340\n",
       "decision_tree        0.822749  0.519591   0.691404  0.593309"
      ]
     },
     "execution_count": 70,
     "metadata": {},
     "output_type": "execute_result"
    }
   ],
   "source": [
    "dataframe"
   ]
  },
  {
   "cell_type": "code",
   "execution_count": 71,
   "metadata": {},
   "outputs": [
    {
     "data": {
      "image/png": "[encoded data removed]",
      "text/plain": [
       "<Figure size 1152x648 with 1 Axes>"
      ]
     },
     "metadata": {
      "needs_background": "light"
     },
     "output_type": "display_data"
    }
   ],
   "source": [
    "accuracy = dataframe['accuracy'].values.tolist()\n",
    "recall = dataframe['recall'].values.tolist()\n",
    "precision = dataframe['precision'].values.tolist()\n",
    "f1 = dataframe['f1'].values.tolist()\n",
    "\n",
    "df = pd.DataFrame({'accuracy': accuracy,\n",
    "                   'precision' : precision,\n",
    "                   'f1' : f1,\n",
    "                   'recall': recall} ,index=list_names)\n",
    "\n",
    "ax = df.plot.bar(rot=80,figsize = (16,9));\n",
    "plt.title('Performance of any algorithm');\n",
    "plt.ylabel('Percentage');"
   ]
  },
  {
   "cell_type": "code",
   "execution_count": null,
   "metadata": {},
   "outputs": [],
   "source": []
  }
 ],
 "metadata": {
  "kernelspec": {
   "display_name": "Python 3",
   "language": "python",
   "name": "python3"
  }
 },
 "nbformat": 4,
 "nbformat_minor": 4
}
